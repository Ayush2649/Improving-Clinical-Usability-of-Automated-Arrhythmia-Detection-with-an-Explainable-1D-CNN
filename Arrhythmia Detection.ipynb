{
 "cells": [
  {
   "cell_type": "code",
   "execution_count": 36,
   "id": "b2cd269a-38cd-4b1d-9688-86fcd5a7627f",
   "metadata": {},
   "outputs": [
    {
     "ename": "NameError",
     "evalue": "name 'predicted_label' is not defined",
     "output_type": "error",
     "traceback": [
      "\u001b[1;31m---------------------------------------------------------------------------\u001b[0m",
      "\u001b[1;31mNameError\u001b[0m                                 Traceback (most recent call last)",
      "Cell \u001b[1;32mIn[36], line 24\u001b[0m\n\u001b[0;32m     22\u001b[0m \u001b[38;5;28;01mfrom\u001b[39;00m\u001b[38;5;250m \u001b[39m\u001b[38;5;21;01mpredict\u001b[39;00m\u001b[38;5;250m \u001b[39m\u001b[38;5;28;01mimport\u001b[39;00m get_sample_beat, generate_grad_cam, ACTUAL_CLASS_MAPPING\n\u001b[0;32m     23\u001b[0m \u001b[38;5;28;01mfrom\u001b[39;00m\u001b[38;5;250m \u001b[39m\u001b[38;5;21;01mzone_classifier\u001b[39;00m\u001b[38;5;250m \u001b[39m\u001b[38;5;28;01mimport\u001b[39;00m default_zone_policy\n\u001b[1;32m---> 24\u001b[0m zone, explanation \u001b[38;5;241m=\u001b[39m default_zone_policy(\u001b[43mpredicted_label\u001b[49m, confidence \u001b[38;5;241m/\u001b[39m \u001b[38;5;241m100\u001b[39m)\n\u001b[0;32m     25\u001b[0m \u001b[38;5;28mprint\u001b[39m(zone, explanation)\n",
      "\u001b[1;31mNameError\u001b[0m: name 'predicted_label' is not defined"
     ]
    }
   ],
   "source": [
    "# Import modules\n",
    "\n",
    "from sklearn.preprocessing import StandardScaler\n",
    "from sklearn.preprocessing import OneHotEncoder\n",
    "from sklearn.preprocessing import LabelEncoder\n",
    "from sklearn import metrics\n",
    "import os\n",
    "import glob\n",
    "import wfdb\n",
    "import keras\n",
    "import random\n",
    "import datetime\n",
    "import numpy as np\n",
    "import matplotlib.pyplot as plt\n",
    "%matplotlib inline\n",
    "\n",
    "import warnings\n",
    "warnings.simplefilter('ignore')\n",
    "\n",
    "import matplotlib.pyplot as plt\n",
    "from tensorflow.keras.models import load_model\n",
    "from predict import get_sample_beat, generate_grad_cam, ACTUAL_CLASS_MAPPING\n",
    "from zone_classifier import default_zone_policy\n",
    "zone, explanation = default_zone_policy(predicted_label, confidence / 100)\n",
    "print(zone, explanation)"
   ]
  },
  {
   "cell_type": "code",
   "execution_count": 39,
   "id": "28076de2-9f1f-4843-a96b-f2b4e2a64a6a",
   "metadata": {},
   "outputs": [],
   "source": [
    "# First we will store the paths of the ECG signals. \n",
    "# According to the Association for the Advancement of Medical Instrumentation (AAMI) recommended practice, the 4 paced beats are excluded in this experimental evaluation process because these beats do not retain sufficient signal quality for reliable processing. \n",
    "# Also, the paced beats are from the pacemakers."
   ]
  },
  {
   "cell_type": "code",
   "execution_count": 8,
   "id": "b0cb1b78-d9af-48f9-9bf5-cf794cc47c79",
   "metadata": {},
   "outputs": [],
   "source": [
    "DATASET_PATH = './mitdb'\n",
    "header_path = os.path.join(DATASET_PATH, '*hea')\n",
    "paths = glob.glob(header_path)\n",
    "\n",
    "# Remove the extension and store the path\n",
    "paths = [path[:-4] for path in paths]\n",
    "\n",
    "# Remove paced beat record\n",
    "remove_paced_beats = ['102', '104', '107', '217']\n",
    "\n",
    "# Store the data path\n",
    "data_paths = [path for path in paths if path[-3:] not in remove_paced_beats]\n",
    "\n",
    "train_data = ['101', '106', '108', '109', '112', '114', '115', '116', '118', '119', '122', \n",
    "              '124', '201', '203', '205', '207', '208', '209', '215', '220', '223', '230']\n",
    "\n",
    "train_data_paths = [path for path in data_paths if path[-3:] in train_data]\n",
    "\n",
    "test_data = ['100', '103', '105', '111', '113', '117', '121', '123', '200', '202', '210', \n",
    "             '212', '213', '214', '219', '221', '222', '228', '231', '232', '233', '234']\n",
    "\n",
    "random.seed(42)\n",
    "random.shuffle(test_data)\n",
    "validation_data_paths = [path for path in data_paths if path[-3:] in test_data[:-5]]\n",
    "test_data_paths = [path for path in data_paths if path[-3:] in test_data[-5:]]"
   ]
  },
  {
   "cell_type": "code",
   "execution_count": 41,
   "id": "06ede7b3-0025-46d6-9607-4278d52854ba",
   "metadata": {},
   "outputs": [],
   "source": [
    "# The beats of interest are:\n",
    "\n",
    "# class E: contains ventricular escape (E) beats.\n",
    "# class F: contains fusion of ventricular and normal (F) and fusion of paced and normal (f) beats.\n",
    "# class N: contains normal beat (N), left bundle branch block (L), right bundle branch block (R), atrial premature (A), aberrated atrial premature (a), nodal premature (J), supraventricular premature (S), atrial escape (e) and nodal escape (j) beats.\n",
    "# class V: contains premature ventricular contraction (V) beats."
   ]
  },
  {
   "cell_type": "code",
   "execution_count": 9,
   "id": "404c1181-0010-4d5b-b6b5-c27ed33b4dc1",
   "metadata": {},
   "outputs": [],
   "source": [
    "# Generate 50 sequences from both sides of the sample\n",
    "\n",
    "def sequences(symbol, signal, sample, signal_length):\n",
    "    non_beat_annotations = [\"[\", \"!\", \"]\", \"x\", \"(\", \")\", \"p\", \"t\", \"u\", \"`\", \"'\",\n",
    "                        \"^\", \"|\", \"~\", \"+\", \"s\", \"T\", \"*\", \"D\", \"=\", '\"', \"@\"]\n",
    "    \n",
    "    # Following beats are considered for the analysis\n",
    "    beat_annotations = [\"N\", \"L\", \"R\", \"A\", \"a\", \"J\", \"S\", \"V\", \"F\", \"e\", \"j\", \"E\", \"f\"]\n",
    "    \n",
    "    start = sample - 50\n",
    "    end = sample + 50\n",
    "          \n",
    "    if symbol in beat_annotations and start > 0 and end < signal_length:\n",
    "        signal_lead_0 = signal[start:end,0].reshape(1,-1,1)\n",
    "        signal_lead_1 = signal[start:end,1].reshape(1,-1,1)\n",
    "        \n",
    "        return signal_lead_0,signal_lead_1,symbol\n",
    "    \n",
    "    else:\n",
    "        return [], [], []"
   ]
  },
  {
   "cell_type": "code",
   "execution_count": 10,
   "id": "254215be-2336-4d41-b3ea-2b67d902ca8d",
   "metadata": {},
   "outputs": [],
   "source": [
    "# Scale the data\n",
    "def preprocess(signal):\n",
    "    scaler = StandardScaler()\n",
    "    scaled_signal = scaler.fit_transform(signal)\n",
    "    return scaled_signal"
   ]
  },
  {
   "cell_type": "code",
   "execution_count": 11,
   "id": "ab867b55-bc87-43ab-b36f-2e6258376c89",
   "metadata": {},
   "outputs": [],
   "source": [
    "# Train, Validation and Test data and labels\n",
    "\n",
    "def generate_data(path):\n",
    "    signal_channel_0 = []\n",
    "    signal_channel_1 = []\n",
    "    labels_channel_0 = []\n",
    "    labels_channel_1 = []\n",
    "    \n",
    "    for file in path:\n",
    "        # Load the ECG signal from 2 leads\n",
    "        record = wfdb.rdrecord(file)\n",
    "        \n",
    "        # Check the frequency is 360\n",
    "        assert record.fs == 360, 'sample frequency is not 360'\n",
    "        scaled_signal = preprocess(record.p_signal)\n",
    "        signal_length = scaled_signal.shape[0]\n",
    "        annotation = wfdb.rdann(file, 'atr')\n",
    "        samples = annotation.sample\n",
    "        symbols = annotation.symbol\n",
    "    \n",
    "        N = ['.', 'N', 'L', 'R', 'A', 'a', 'J', 'S', 'e', 'j']\n",
    "        \n",
    "        for i, sample in enumerate(samples):\n",
    "            signal_0, signal_1, valid_label = sequences(symbols[i], scaled_signal, sample, signal_length)\n",
    "            signal_channel_0.extend(signal_0)\n",
    "            signal_channel_1.extend(signal_1)\n",
    "        \n",
    "            if valid_label != []:\n",
    "                \n",
    "                if valid_label in N:\n",
    "                    label = 'N'\n",
    "                else:\n",
    "                    label = valid_label\n",
    "                \n",
    "                labels_channel_0.append(label)\n",
    "                labels_channel_1.append(label)\n",
    "    \n",
    "    signals = np.vstack((signal_channel_0,signal_channel_1))\n",
    "    labels_channel_0_array = np.array([labels_channel_0]).reshape(-1,1)\n",
    "    labels_channel_1_array = np.array([labels_channel_1]).reshape(-1,1)\n",
    "    labels = np.vstack((labels_channel_0_array,labels_channel_1_array))\n",
    "    \n",
    "    return signals, labels"
   ]
  },
  {
   "cell_type": "code",
   "execution_count": 12,
   "id": "ac64af56-ddba-4c33-8da1-c303d90f87be",
   "metadata": {},
   "outputs": [],
   "source": [
    "# Train, Validation and Test data and labels\n",
    "\n",
    "train_signals, train_labels = generate_data(train_data_paths)\n",
    "validation_signals, validation_labels = generate_data(validation_data_paths)\n",
    "test_signals, test_labels = generate_data(test_data_paths)"
   ]
  },
  {
   "cell_type": "code",
   "execution_count": 13,
   "id": "1147334c-ced4-4c3a-bdfd-4d38a4f5f1ea",
   "metadata": {},
   "outputs": [],
   "source": [
    "# One hot encoding of labels\n",
    "\n",
    "label_encoder = LabelEncoder()\n",
    "one_hot_encoder = OneHotEncoder(sparse_output=False)\n",
    "\n",
    "train_labels_numerical = label_encoder.fit_transform(train_labels.reshape(-1,1))\n",
    "train_labels_encoded = one_hot_encoder.fit_transform(train_labels_numerical.reshape(-1,1))\n",
    "\n",
    "validation_labels_numerical = label_encoder.transform(validation_labels.reshape(-1,1))\n",
    "validation_labels_encoded = one_hot_encoder.transform(validation_labels_numerical.reshape(-1,1))\n",
    "\n",
    "test_labels_numerical = label_encoder.transform(test_labels.reshape(-1,1))\n",
    "test_labels_encoded = one_hot_encoder.transform(test_labels_numerical.reshape(-1,1))"
   ]
  },
  {
   "cell_type": "code",
   "execution_count": 14,
   "id": "0a67fd28-ea8e-49b8-8edc-577e23ce351a",
   "metadata": {},
   "outputs": [
    {
     "name": "stdout",
     "output_type": "stream",
     "text": [
      "['E' 'F' 'N' 'V']\n"
     ]
    }
   ],
   "source": [
    "print(label_encoder.classes_)"
   ]
  },
  {
   "cell_type": "code",
   "execution_count": 15,
   "id": "772f58e9-9c27-446d-8893-e7f3626ae682",
   "metadata": {},
   "outputs": [
    {
     "data": {
      "image/png": "[encoded data removed]",
      "text/plain": [
       "<Figure size 640x480 with 1 Axes>"
      ]
     },
     "metadata": {},
     "output_type": "display_data"
    }
   ],
   "source": [
    "wfdb.plot.plot_items(train_signals[34570], title=train_labels[34570])"
   ]
  },
  {
   "cell_type": "code",
   "execution_count": 16,
   "id": "f21fa3fc-90d1-447e-b37f-4ea97aa2755c",
   "metadata": {},
   "outputs": [
    {
     "data": {
      "image/png": "[encoded data removed]",
      "text/plain": [
       "<Figure size 640x480 with 1 Axes>"
      ]
     },
     "metadata": {},
     "output_type": "display_data"
    }
   ],
   "source": [
    "wfdb.plot.plot_items(train_signals[4362], title=train_labels[4362])"
   ]
  },
  {
   "cell_type": "code",
   "execution_count": 17,
   "id": "3c37f623-663a-4a91-afc2-e4acd3373fa3",
   "metadata": {},
   "outputs": [
    {
     "data": {
      "image/png": "[encoded data removed]",
      "text/plain": [
       "<Figure size 640x480 with 1 Axes>"
      ]
     },
     "metadata": {},
     "output_type": "display_data"
    }
   ],
   "source": [
    "wfdb.plot.plot_items(train_signals[0], title=train_labels[0])"
   ]
  },
  {
   "cell_type": "code",
   "execution_count": 18,
   "id": "d9ee6607-c987-49bc-afbd-93e1ceb9ccc0",
   "metadata": {},
   "outputs": [
    {
     "data": {
      "image/png": "[encoded data removed]",
      "text/plain": [
       "<Figure size 640x480 with 1 Axes>"
      ]
     },
     "metadata": {},
     "output_type": "display_data"
    }
   ],
   "source": [
    "wfdb.plot.plot_items(train_signals[1967], title=train_labels[1967])"
   ]
  },
  {
   "cell_type": "code",
   "execution_count": 15,
   "id": "fc9b8b5f-c183-4266-a5a0-8ade2336c1d7",
   "metadata": {},
   "outputs": [],
   "source": [
    "# Generator"
   ]
  },
  {
   "cell_type": "code",
   "execution_count": 19,
   "id": "29aa8dca-b28f-4506-9859-404c83f13e4a",
   "metadata": {},
   "outputs": [],
   "source": [
    "def generator(X, y, batch_size):\n",
    "    num_batches = len(X)//batch_size\n",
    "    while True:\n",
    "        np.random.seed(100)\n",
    "        shuffle_sequence = np.random.permutation(len(X))\n",
    "        X = X[shuffle_sequence]\n",
    "        y = y[shuffle_sequence]\n",
    "        \n",
    "        for batch in range(num_batches):\n",
    "            batch_data = np.zeros((batch_size,100,1))\n",
    "            batch_labels = np.zeros((batch_size,4))\n",
    "        \n",
    "            for folder in range(batch_size):\n",
    "                batch_data[folder,:,:] = X[folder + (batch*batch_size),:,:]\n",
    "                batch_labels[folder,:] = y[folder + (batch*batch_size),:]\n",
    "            yield batch_data.reshape(batch_size,1,100,1), batch_labels.reshape(batch_size,4)\n",
    "            \n",
    "            \n",
    "        if (len(X)%batch_size != 0):\n",
    "            batch_size = len(X) % batch_size\n",
    "            \n",
    "            batch_data = np.zeros((batch_size,100,1))\n",
    "            batch_labels = np.zeros((batch_size,4))\n",
    "        \n",
    "            for folder in range(batch_size):\n",
    "                batch_data[folder,:,:] = X[folder + (num_batches*batch_size),:,:]\n",
    "                batch_labels[folder,:] = y[folder + (num_batches*batch_size),:]\n",
    "            yield batch_data.reshape(batch_size,1,100,1), batch_labels.reshape(batch_size,4)"
   ]
  },
  {
   "cell_type": "code",
   "execution_count": 20,
   "id": "4085da9d-18ae-46d9-a88d-59c265066106",
   "metadata": {},
   "outputs": [
    {
     "name": "stdout",
     "output_type": "stream",
     "text": [
      "Shape of train data: (102016, 100, 1)\n",
      "Shape of train labels: (102016, 4)\n",
      "Shape of validation data: (76214, 100, 1)\n",
      "Shape of validation labels: (76214, 4)\n",
      "Shape of test data: (23186, 100, 1)\n",
      "Shape of test labels: (23186, 4)\n"
     ]
    }
   ],
   "source": [
    "print('Shape of train data:', train_signals.shape)\n",
    "print('Shape of train labels:', train_labels_encoded.shape)\n",
    "print('Shape of validation data:', validation_signals.shape)\n",
    "print('Shape of validation labels:', validation_labels_encoded.shape)\n",
    "print('Shape of test data:', test_signals.shape)\n",
    "print('Shape of test labels:', test_labels_encoded.shape)"
   ]
  },
  {
   "cell_type": "code",
   "execution_count": 21,
   "id": "30b4e719-e6d7-4da5-a7e8-851fd8fee7e8",
   "metadata": {},
   "outputs": [],
   "source": [
    "batch_size = 2048\n",
    "train_generator = generator(train_signals, train_labels_encoded, batch_size)\n",
    "val_generator = generator(validation_signals, validation_labels_encoded, batch_size)"
   ]
  },
  {
   "cell_type": "code",
   "execution_count": 22,
   "id": "d7fae8c4-5724-4ac9-a0dc-51fb60cea72e",
   "metadata": {},
   "outputs": [],
   "source": [
    "from keras.models import Sequential, Model\n",
    "from keras.layers import Dense, LSTM, Flatten, TimeDistributed, BatchNormalization, Activation\n",
    "from keras.layers import Conv1D, MaxPooling1D\n",
    "from keras.callbacks import ModelCheckpoint, ReduceLROnPlateau\n",
    "from keras import optimizers\n",
    "model = Sequential()\n",
    "\n",
    "model.add(TimeDistributed(Conv1D(32, 5, activation='elu'), input_shape=(None, 100, 1)))\n",
    "model.add(TimeDistributed(BatchNormalization()))\n",
    "model.add(TimeDistributed(MaxPooling1D(8, strides=1)))\n",
    "\n",
    "model.add(TimeDistributed(Conv1D(32, 5, activation='elu'), input_shape=(None, 100, 1)))\n",
    "model.add(TimeDistributed(BatchNormalization()))\n",
    "model.add(TimeDistributed(MaxPooling1D(8, strides=1)))\n",
    "\n",
    "\n",
    "model.add(TimeDistributed(Conv1D(64, 4, activation='elu')))\n",
    "model.add(TimeDistributed(BatchNormalization()))\n",
    "model.add(TimeDistributed(MaxPooling1D(8, strides=1)))\n",
    "\n",
    "model.add(TimeDistributed(Conv1D(64, 4, activation='elu')))\n",
    "model.add(TimeDistributed(BatchNormalization()))\n",
    "model.add(TimeDistributed(MaxPooling1D(8, strides=1)))\n",
    "\n",
    "\n",
    "model.add(TimeDistributed(Conv1D(128, 3, activation='elu')))\n",
    "model.add(TimeDistributed(BatchNormalization()))\n",
    "model.add(TimeDistributed(MaxPooling1D(8, strides=1)))\n",
    "\n",
    "model.add(TimeDistributed(Conv1D(128, 3, activation='elu')))\n",
    "model.add(TimeDistributed(BatchNormalization()))\n",
    "model.add(TimeDistributed(MaxPooling1D(8, strides=1)))\n",
    "\n",
    "\n",
    "model.add(TimeDistributed(Conv1D(256, 2, activation='elu')))\n",
    "model.add(TimeDistributed(BatchNormalization()))\n",
    "model.add(TimeDistributed(MaxPooling1D(8, strides=1)))\n",
    "\n",
    "model.add(TimeDistributed(Conv1D(256, 2, activation='elu')))\n",
    "model.add(TimeDistributed(BatchNormalization()))\n",
    "model.add(TimeDistributed(MaxPooling1D(8, strides=1)))\n",
    "\n",
    "\n",
    "# extract features and dropout \n",
    "model.add(TimeDistributed(Flatten()))\n",
    "\n",
    "model.add(TimeDistributed(Dense(256, activation='elu')))\n",
    "\n",
    "\n",
    "# input to LSTM\n",
    "model.add(LSTM(256, return_sequences=False, dropout=0.5))\n",
    "\n",
    "\n",
    "# classifier with sigmoid activation for multilabel\n",
    "model.add(Dense(4, activation='softmax'))"
   ]
  },
  {
   "cell_type": "code",
   "execution_count": 23,
   "id": "c8687663-37a1-4d2c-a631-db2f665cde92",
   "metadata": {},
   "outputs": [
    {
     "data": {
      "text/html": [
       "<pre style=\"white-space:pre;overflow-x:auto;line-height:normal;font-family:Menlo,'DejaVu Sans Mono',consolas,'Courier New',monospace\"><span style=\"font-weight: bold\">Model: \"sequential_1\"</span>\n",
       "</pre>\n"
      ],
      "text/plain": [
       "\u001b[1mModel: \"sequential_1\"\u001b[0m\n"
      ]
     },
     "metadata": {},
     "output_type": "display_data"
    },
    {
     "data": {
      "text/html": [
       "<pre style=\"white-space:pre;overflow-x:auto;line-height:normal;font-family:Menlo,'DejaVu Sans Mono',consolas,'Courier New',monospace\">┏━━━━━━━━━━━━━━━━━━━━━━━━━━━━━━━━━━━━━━┳━━━━━━━━━━━━━━━━━━━━━━━━━━━━━┳━━━━━━━━━━━━━━━━━┓\n",
       "┃<span style=\"font-weight: bold\"> Layer (type)                         </span>┃<span style=\"font-weight: bold\"> Output Shape                </span>┃<span style=\"font-weight: bold\">         Param # </span>┃\n",
       "┡━━━━━━━━━━━━━━━━━━━━━━━━━━━━━━━━━━━━━━╇━━━━━━━━━━━━━━━━━━━━━━━━━━━━━╇━━━━━━━━━━━━━━━━━┩\n",
       "│ time_distributed_26                  │ (<span style=\"color: #00d7ff; text-decoration-color: #00d7ff\">None</span>, <span style=\"color: #00d7ff; text-decoration-color: #00d7ff\">None</span>, <span style=\"color: #00af00; text-decoration-color: #00af00\">96</span>, <span style=\"color: #00af00; text-decoration-color: #00af00\">32</span>)        │             <span style=\"color: #00af00; text-decoration-color: #00af00\">192</span> │\n",
       "│ (<span style=\"color: #0087ff; text-decoration-color: #0087ff\">TimeDistributed</span>)                    │                             │                 │\n",
       "├──────────────────────────────────────┼─────────────────────────────┼─────────────────┤\n",
       "│ time_distributed_27                  │ (<span style=\"color: #00d7ff; text-decoration-color: #00d7ff\">None</span>, <span style=\"color: #00d7ff; text-decoration-color: #00d7ff\">None</span>, <span style=\"color: #00af00; text-decoration-color: #00af00\">96</span>, <span style=\"color: #00af00; text-decoration-color: #00af00\">32</span>)        │             <span style=\"color: #00af00; text-decoration-color: #00af00\">128</span> │\n",
       "│ (<span style=\"color: #0087ff; text-decoration-color: #0087ff\">TimeDistributed</span>)                    │                             │                 │\n",
       "├──────────────────────────────────────┼─────────────────────────────┼─────────────────┤\n",
       "│ time_distributed_28                  │ (<span style=\"color: #00d7ff; text-decoration-color: #00d7ff\">None</span>, <span style=\"color: #00d7ff; text-decoration-color: #00d7ff\">None</span>, <span style=\"color: #00af00; text-decoration-color: #00af00\">89</span>, <span style=\"color: #00af00; text-decoration-color: #00af00\">32</span>)        │               <span style=\"color: #00af00; text-decoration-color: #00af00\">0</span> │\n",
       "│ (<span style=\"color: #0087ff; text-decoration-color: #0087ff\">TimeDistributed</span>)                    │                             │                 │\n",
       "├──────────────────────────────────────┼─────────────────────────────┼─────────────────┤\n",
       "│ time_distributed_29                  │ (<span style=\"color: #00d7ff; text-decoration-color: #00d7ff\">None</span>, <span style=\"color: #00d7ff; text-decoration-color: #00d7ff\">None</span>, <span style=\"color: #00af00; text-decoration-color: #00af00\">85</span>, <span style=\"color: #00af00; text-decoration-color: #00af00\">32</span>)        │           <span style=\"color: #00af00; text-decoration-color: #00af00\">5,152</span> │\n",
       "│ (<span style=\"color: #0087ff; text-decoration-color: #0087ff\">TimeDistributed</span>)                    │                             │                 │\n",
       "├──────────────────────────────────────┼─────────────────────────────┼─────────────────┤\n",
       "│ time_distributed_30                  │ (<span style=\"color: #00d7ff; text-decoration-color: #00d7ff\">None</span>, <span style=\"color: #00d7ff; text-decoration-color: #00d7ff\">None</span>, <span style=\"color: #00af00; text-decoration-color: #00af00\">85</span>, <span style=\"color: #00af00; text-decoration-color: #00af00\">32</span>)        │             <span style=\"color: #00af00; text-decoration-color: #00af00\">128</span> │\n",
       "│ (<span style=\"color: #0087ff; text-decoration-color: #0087ff\">TimeDistributed</span>)                    │                             │                 │\n",
       "├──────────────────────────────────────┼─────────────────────────────┼─────────────────┤\n",
       "│ time_distributed_31                  │ (<span style=\"color: #00d7ff; text-decoration-color: #00d7ff\">None</span>, <span style=\"color: #00d7ff; text-decoration-color: #00d7ff\">None</span>, <span style=\"color: #00af00; text-decoration-color: #00af00\">78</span>, <span style=\"color: #00af00; text-decoration-color: #00af00\">32</span>)        │               <span style=\"color: #00af00; text-decoration-color: #00af00\">0</span> │\n",
       "│ (<span style=\"color: #0087ff; text-decoration-color: #0087ff\">TimeDistributed</span>)                    │                             │                 │\n",
       "├──────────────────────────────────────┼─────────────────────────────┼─────────────────┤\n",
       "│ time_distributed_32                  │ (<span style=\"color: #00d7ff; text-decoration-color: #00d7ff\">None</span>, <span style=\"color: #00d7ff; text-decoration-color: #00d7ff\">None</span>, <span style=\"color: #00af00; text-decoration-color: #00af00\">75</span>, <span style=\"color: #00af00; text-decoration-color: #00af00\">64</span>)        │           <span style=\"color: #00af00; text-decoration-color: #00af00\">8,256</span> │\n",
       "│ (<span style=\"color: #0087ff; text-decoration-color: #0087ff\">TimeDistributed</span>)                    │                             │                 │\n",
       "├──────────────────────────────────────┼─────────────────────────────┼─────────────────┤\n",
       "│ time_distributed_33                  │ (<span style=\"color: #00d7ff; text-decoration-color: #00d7ff\">None</span>, <span style=\"color: #00d7ff; text-decoration-color: #00d7ff\">None</span>, <span style=\"color: #00af00; text-decoration-color: #00af00\">75</span>, <span style=\"color: #00af00; text-decoration-color: #00af00\">64</span>)        │             <span style=\"color: #00af00; text-decoration-color: #00af00\">256</span> │\n",
       "│ (<span style=\"color: #0087ff; text-decoration-color: #0087ff\">TimeDistributed</span>)                    │                             │                 │\n",
       "├──────────────────────────────────────┼─────────────────────────────┼─────────────────┤\n",
       "│ time_distributed_34                  │ (<span style=\"color: #00d7ff; text-decoration-color: #00d7ff\">None</span>, <span style=\"color: #00d7ff; text-decoration-color: #00d7ff\">None</span>, <span style=\"color: #00af00; text-decoration-color: #00af00\">68</span>, <span style=\"color: #00af00; text-decoration-color: #00af00\">64</span>)        │               <span style=\"color: #00af00; text-decoration-color: #00af00\">0</span> │\n",
       "│ (<span style=\"color: #0087ff; text-decoration-color: #0087ff\">TimeDistributed</span>)                    │                             │                 │\n",
       "├──────────────────────────────────────┼─────────────────────────────┼─────────────────┤\n",
       "│ time_distributed_35                  │ (<span style=\"color: #00d7ff; text-decoration-color: #00d7ff\">None</span>, <span style=\"color: #00d7ff; text-decoration-color: #00d7ff\">None</span>, <span style=\"color: #00af00; text-decoration-color: #00af00\">65</span>, <span style=\"color: #00af00; text-decoration-color: #00af00\">64</span>)        │          <span style=\"color: #00af00; text-decoration-color: #00af00\">16,448</span> │\n",
       "│ (<span style=\"color: #0087ff; text-decoration-color: #0087ff\">TimeDistributed</span>)                    │                             │                 │\n",
       "├──────────────────────────────────────┼─────────────────────────────┼─────────────────┤\n",
       "│ time_distributed_36                  │ (<span style=\"color: #00d7ff; text-decoration-color: #00d7ff\">None</span>, <span style=\"color: #00d7ff; text-decoration-color: #00d7ff\">None</span>, <span style=\"color: #00af00; text-decoration-color: #00af00\">65</span>, <span style=\"color: #00af00; text-decoration-color: #00af00\">64</span>)        │             <span style=\"color: #00af00; text-decoration-color: #00af00\">256</span> │\n",
       "│ (<span style=\"color: #0087ff; text-decoration-color: #0087ff\">TimeDistributed</span>)                    │                             │                 │\n",
       "├──────────────────────────────────────┼─────────────────────────────┼─────────────────┤\n",
       "│ time_distributed_37                  │ (<span style=\"color: #00d7ff; text-decoration-color: #00d7ff\">None</span>, <span style=\"color: #00d7ff; text-decoration-color: #00d7ff\">None</span>, <span style=\"color: #00af00; text-decoration-color: #00af00\">58</span>, <span style=\"color: #00af00; text-decoration-color: #00af00\">64</span>)        │               <span style=\"color: #00af00; text-decoration-color: #00af00\">0</span> │\n",
       "│ (<span style=\"color: #0087ff; text-decoration-color: #0087ff\">TimeDistributed</span>)                    │                             │                 │\n",
       "├──────────────────────────────────────┼─────────────────────────────┼─────────────────┤\n",
       "│ time_distributed_38                  │ (<span style=\"color: #00d7ff; text-decoration-color: #00d7ff\">None</span>, <span style=\"color: #00d7ff; text-decoration-color: #00d7ff\">None</span>, <span style=\"color: #00af00; text-decoration-color: #00af00\">56</span>, <span style=\"color: #00af00; text-decoration-color: #00af00\">128</span>)       │          <span style=\"color: #00af00; text-decoration-color: #00af00\">24,704</span> │\n",
       "│ (<span style=\"color: #0087ff; text-decoration-color: #0087ff\">TimeDistributed</span>)                    │                             │                 │\n",
       "├──────────────────────────────────────┼─────────────────────────────┼─────────────────┤\n",
       "│ time_distributed_39                  │ (<span style=\"color: #00d7ff; text-decoration-color: #00d7ff\">None</span>, <span style=\"color: #00d7ff; text-decoration-color: #00d7ff\">None</span>, <span style=\"color: #00af00; text-decoration-color: #00af00\">56</span>, <span style=\"color: #00af00; text-decoration-color: #00af00\">128</span>)       │             <span style=\"color: #00af00; text-decoration-color: #00af00\">512</span> │\n",
       "│ (<span style=\"color: #0087ff; text-decoration-color: #0087ff\">TimeDistributed</span>)                    │                             │                 │\n",
       "├──────────────────────────────────────┼─────────────────────────────┼─────────────────┤\n",
       "│ time_distributed_40                  │ (<span style=\"color: #00d7ff; text-decoration-color: #00d7ff\">None</span>, <span style=\"color: #00d7ff; text-decoration-color: #00d7ff\">None</span>, <span style=\"color: #00af00; text-decoration-color: #00af00\">49</span>, <span style=\"color: #00af00; text-decoration-color: #00af00\">128</span>)       │               <span style=\"color: #00af00; text-decoration-color: #00af00\">0</span> │\n",
       "│ (<span style=\"color: #0087ff; text-decoration-color: #0087ff\">TimeDistributed</span>)                    │                             │                 │\n",
       "├──────────────────────────────────────┼─────────────────────────────┼─────────────────┤\n",
       "│ time_distributed_41                  │ (<span style=\"color: #00d7ff; text-decoration-color: #00d7ff\">None</span>, <span style=\"color: #00d7ff; text-decoration-color: #00d7ff\">None</span>, <span style=\"color: #00af00; text-decoration-color: #00af00\">47</span>, <span style=\"color: #00af00; text-decoration-color: #00af00\">128</span>)       │          <span style=\"color: #00af00; text-decoration-color: #00af00\">49,280</span> │\n",
       "│ (<span style=\"color: #0087ff; text-decoration-color: #0087ff\">TimeDistributed</span>)                    │                             │                 │\n",
       "├──────────────────────────────────────┼─────────────────────────────┼─────────────────┤\n",
       "│ time_distributed_42                  │ (<span style=\"color: #00d7ff; text-decoration-color: #00d7ff\">None</span>, <span style=\"color: #00d7ff; text-decoration-color: #00d7ff\">None</span>, <span style=\"color: #00af00; text-decoration-color: #00af00\">47</span>, <span style=\"color: #00af00; text-decoration-color: #00af00\">128</span>)       │             <span style=\"color: #00af00; text-decoration-color: #00af00\">512</span> │\n",
       "│ (<span style=\"color: #0087ff; text-decoration-color: #0087ff\">TimeDistributed</span>)                    │                             │                 │\n",
       "├──────────────────────────────────────┼─────────────────────────────┼─────────────────┤\n",
       "│ time_distributed_43                  │ (<span style=\"color: #00d7ff; text-decoration-color: #00d7ff\">None</span>, <span style=\"color: #00d7ff; text-decoration-color: #00d7ff\">None</span>, <span style=\"color: #00af00; text-decoration-color: #00af00\">40</span>, <span style=\"color: #00af00; text-decoration-color: #00af00\">128</span>)       │               <span style=\"color: #00af00; text-decoration-color: #00af00\">0</span> │\n",
       "│ (<span style=\"color: #0087ff; text-decoration-color: #0087ff\">TimeDistributed</span>)                    │                             │                 │\n",
       "├──────────────────────────────────────┼─────────────────────────────┼─────────────────┤\n",
       "│ time_distributed_44                  │ (<span style=\"color: #00d7ff; text-decoration-color: #00d7ff\">None</span>, <span style=\"color: #00d7ff; text-decoration-color: #00d7ff\">None</span>, <span style=\"color: #00af00; text-decoration-color: #00af00\">39</span>, <span style=\"color: #00af00; text-decoration-color: #00af00\">256</span>)       │          <span style=\"color: #00af00; text-decoration-color: #00af00\">65,792</span> │\n",
       "│ (<span style=\"color: #0087ff; text-decoration-color: #0087ff\">TimeDistributed</span>)                    │                             │                 │\n",
       "├──────────────────────────────────────┼─────────────────────────────┼─────────────────┤\n",
       "│ time_distributed_45                  │ (<span style=\"color: #00d7ff; text-decoration-color: #00d7ff\">None</span>, <span style=\"color: #00d7ff; text-decoration-color: #00d7ff\">None</span>, <span style=\"color: #00af00; text-decoration-color: #00af00\">39</span>, <span style=\"color: #00af00; text-decoration-color: #00af00\">256</span>)       │           <span style=\"color: #00af00; text-decoration-color: #00af00\">1,024</span> │\n",
       "│ (<span style=\"color: #0087ff; text-decoration-color: #0087ff\">TimeDistributed</span>)                    │                             │                 │\n",
       "├──────────────────────────────────────┼─────────────────────────────┼─────────────────┤\n",
       "│ time_distributed_46                  │ (<span style=\"color: #00d7ff; text-decoration-color: #00d7ff\">None</span>, <span style=\"color: #00d7ff; text-decoration-color: #00d7ff\">None</span>, <span style=\"color: #00af00; text-decoration-color: #00af00\">32</span>, <span style=\"color: #00af00; text-decoration-color: #00af00\">256</span>)       │               <span style=\"color: #00af00; text-decoration-color: #00af00\">0</span> │\n",
       "│ (<span style=\"color: #0087ff; text-decoration-color: #0087ff\">TimeDistributed</span>)                    │                             │                 │\n",
       "├──────────────────────────────────────┼─────────────────────────────┼─────────────────┤\n",
       "│ time_distributed_47                  │ (<span style=\"color: #00d7ff; text-decoration-color: #00d7ff\">None</span>, <span style=\"color: #00d7ff; text-decoration-color: #00d7ff\">None</span>, <span style=\"color: #00af00; text-decoration-color: #00af00\">31</span>, <span style=\"color: #00af00; text-decoration-color: #00af00\">256</span>)       │         <span style=\"color: #00af00; text-decoration-color: #00af00\">131,328</span> │\n",
       "│ (<span style=\"color: #0087ff; text-decoration-color: #0087ff\">TimeDistributed</span>)                    │                             │                 │\n",
       "├──────────────────────────────────────┼─────────────────────────────┼─────────────────┤\n",
       "│ time_distributed_48                  │ (<span style=\"color: #00d7ff; text-decoration-color: #00d7ff\">None</span>, <span style=\"color: #00d7ff; text-decoration-color: #00d7ff\">None</span>, <span style=\"color: #00af00; text-decoration-color: #00af00\">31</span>, <span style=\"color: #00af00; text-decoration-color: #00af00\">256</span>)       │           <span style=\"color: #00af00; text-decoration-color: #00af00\">1,024</span> │\n",
       "│ (<span style=\"color: #0087ff; text-decoration-color: #0087ff\">TimeDistributed</span>)                    │                             │                 │\n",
       "├──────────────────────────────────────┼─────────────────────────────┼─────────────────┤\n",
       "│ time_distributed_49                  │ (<span style=\"color: #00d7ff; text-decoration-color: #00d7ff\">None</span>, <span style=\"color: #00d7ff; text-decoration-color: #00d7ff\">None</span>, <span style=\"color: #00af00; text-decoration-color: #00af00\">24</span>, <span style=\"color: #00af00; text-decoration-color: #00af00\">256</span>)       │               <span style=\"color: #00af00; text-decoration-color: #00af00\">0</span> │\n",
       "│ (<span style=\"color: #0087ff; text-decoration-color: #0087ff\">TimeDistributed</span>)                    │                             │                 │\n",
       "├──────────────────────────────────────┼─────────────────────────────┼─────────────────┤\n",
       "│ time_distributed_50                  │ (<span style=\"color: #00d7ff; text-decoration-color: #00d7ff\">None</span>, <span style=\"color: #00d7ff; text-decoration-color: #00d7ff\">None</span>, <span style=\"color: #00af00; text-decoration-color: #00af00\">6144</span>)          │               <span style=\"color: #00af00; text-decoration-color: #00af00\">0</span> │\n",
       "│ (<span style=\"color: #0087ff; text-decoration-color: #0087ff\">TimeDistributed</span>)                    │                             │                 │\n",
       "├──────────────────────────────────────┼─────────────────────────────┼─────────────────┤\n",
       "│ time_distributed_51                  │ (<span style=\"color: #00d7ff; text-decoration-color: #00d7ff\">None</span>, <span style=\"color: #00d7ff; text-decoration-color: #00d7ff\">None</span>, <span style=\"color: #00af00; text-decoration-color: #00af00\">256</span>)           │       <span style=\"color: #00af00; text-decoration-color: #00af00\">1,573,120</span> │\n",
       "│ (<span style=\"color: #0087ff; text-decoration-color: #0087ff\">TimeDistributed</span>)                    │                             │                 │\n",
       "├──────────────────────────────────────┼─────────────────────────────┼─────────────────┤\n",
       "│ lstm_1 (<span style=\"color: #0087ff; text-decoration-color: #0087ff\">LSTM</span>)                        │ (<span style=\"color: #00d7ff; text-decoration-color: #00d7ff\">None</span>, <span style=\"color: #00af00; text-decoration-color: #00af00\">256</span>)                 │         <span style=\"color: #00af00; text-decoration-color: #00af00\">525,312</span> │\n",
       "├──────────────────────────────────────┼─────────────────────────────┼─────────────────┤\n",
       "│ dense_3 (<span style=\"color: #0087ff; text-decoration-color: #0087ff\">Dense</span>)                      │ (<span style=\"color: #00d7ff; text-decoration-color: #00d7ff\">None</span>, <span style=\"color: #00af00; text-decoration-color: #00af00\">4</span>)                   │           <span style=\"color: #00af00; text-decoration-color: #00af00\">1,028</span> │\n",
       "└──────────────────────────────────────┴─────────────────────────────┴─────────────────┘\n",
       "</pre>\n"
      ],
      "text/plain": [
       "┏━━━━━━━━━━━━━━━━━━━━━━━━━━━━━━━━━━━━━━┳━━━━━━━━━━━━━━━━━━━━━━━━━━━━━┳━━━━━━━━━━━━━━━━━┓\n",
       "┃\u001b[1m \u001b[0m\u001b[1mLayer (type)                        \u001b[0m\u001b[1m \u001b[0m┃\u001b[1m \u001b[0m\u001b[1mOutput Shape               \u001b[0m\u001b[1m \u001b[0m┃\u001b[1m \u001b[0m\u001b[1m        Param #\u001b[0m\u001b[1m \u001b[0m┃\n",
       "┡━━━━━━━━━━━━━━━━━━━━━━━━━━━━━━━━━━━━━━╇━━━━━━━━━━━━━━━━━━━━━━━━━━━━━╇━━━━━━━━━━━━━━━━━┩\n",
       "│ time_distributed_26                  │ (\u001b[38;5;45mNone\u001b[0m, \u001b[38;5;45mNone\u001b[0m, \u001b[38;5;34m96\u001b[0m, \u001b[38;5;34m32\u001b[0m)        │             \u001b[38;5;34m192\u001b[0m │\n",
       "│ (\u001b[38;5;33mTimeDistributed\u001b[0m)                    │                             │                 │\n",
       "├──────────────────────────────────────┼─────────────────────────────┼─────────────────┤\n",
       "│ time_distributed_27                  │ (\u001b[38;5;45mNone\u001b[0m, \u001b[38;5;45mNone\u001b[0m, \u001b[38;5;34m96\u001b[0m, \u001b[38;5;34m32\u001b[0m)        │             \u001b[38;5;34m128\u001b[0m │\n",
       "│ (\u001b[38;5;33mTimeDistributed\u001b[0m)                    │                             │                 │\n",
       "├──────────────────────────────────────┼─────────────────────────────┼─────────────────┤\n",
       "│ time_distributed_28                  │ (\u001b[38;5;45mNone\u001b[0m, \u001b[38;5;45mNone\u001b[0m, \u001b[38;5;34m89\u001b[0m, \u001b[38;5;34m32\u001b[0m)        │               \u001b[38;5;34m0\u001b[0m │\n",
       "│ (\u001b[38;5;33mTimeDistributed\u001b[0m)                    │                             │                 │\n",
       "├──────────────────────────────────────┼─────────────────────────────┼─────────────────┤\n",
       "│ time_distributed_29                  │ (\u001b[38;5;45mNone\u001b[0m, \u001b[38;5;45mNone\u001b[0m, \u001b[38;5;34m85\u001b[0m, \u001b[38;5;34m32\u001b[0m)        │           \u001b[38;5;34m5,152\u001b[0m │\n",
       "│ (\u001b[38;5;33mTimeDistributed\u001b[0m)                    │                             │                 │\n",
       "├──────────────────────────────────────┼─────────────────────────────┼─────────────────┤\n",
       "│ time_distributed_30                  │ (\u001b[38;5;45mNone\u001b[0m, \u001b[38;5;45mNone\u001b[0m, \u001b[38;5;34m85\u001b[0m, \u001b[38;5;34m32\u001b[0m)        │             \u001b[38;5;34m128\u001b[0m │\n",
       "│ (\u001b[38;5;33mTimeDistributed\u001b[0m)                    │                             │                 │\n",
       "├──────────────────────────────────────┼─────────────────────────────┼─────────────────┤\n",
       "│ time_distributed_31                  │ (\u001b[38;5;45mNone\u001b[0m, \u001b[38;5;45mNone\u001b[0m, \u001b[38;5;34m78\u001b[0m, \u001b[38;5;34m32\u001b[0m)        │               \u001b[38;5;34m0\u001b[0m │\n",
       "│ (\u001b[38;5;33mTimeDistributed\u001b[0m)                    │                             │                 │\n",
       "├──────────────────────────────────────┼─────────────────────────────┼─────────────────┤\n",
       "│ time_distributed_32                  │ (\u001b[38;5;45mNone\u001b[0m, \u001b[38;5;45mNone\u001b[0m, \u001b[38;5;34m75\u001b[0m, \u001b[38;5;34m64\u001b[0m)        │           \u001b[38;5;34m8,256\u001b[0m │\n",
       "│ (\u001b[38;5;33mTimeDistributed\u001b[0m)                    │                             │                 │\n",
       "├──────────────────────────────────────┼─────────────────────────────┼─────────────────┤\n",
       "│ time_distributed_33                  │ (\u001b[38;5;45mNone\u001b[0m, \u001b[38;5;45mNone\u001b[0m, \u001b[38;5;34m75\u001b[0m, \u001b[38;5;34m64\u001b[0m)        │             \u001b[38;5;34m256\u001b[0m │\n",
       "│ (\u001b[38;5;33mTimeDistributed\u001b[0m)                    │                             │                 │\n",
       "├──────────────────────────────────────┼─────────────────────────────┼─────────────────┤\n",
       "│ time_distributed_34                  │ (\u001b[38;5;45mNone\u001b[0m, \u001b[38;5;45mNone\u001b[0m, \u001b[38;5;34m68\u001b[0m, \u001b[38;5;34m64\u001b[0m)        │               \u001b[38;5;34m0\u001b[0m │\n",
       "│ (\u001b[38;5;33mTimeDistributed\u001b[0m)                    │                             │                 │\n",
       "├──────────────────────────────────────┼─────────────────────────────┼─────────────────┤\n",
       "│ time_distributed_35                  │ (\u001b[38;5;45mNone\u001b[0m, \u001b[38;5;45mNone\u001b[0m, \u001b[38;5;34m65\u001b[0m, \u001b[38;5;34m64\u001b[0m)        │          \u001b[38;5;34m16,448\u001b[0m │\n",
       "│ (\u001b[38;5;33mTimeDistributed\u001b[0m)                    │                             │                 │\n",
       "├──────────────────────────────────────┼─────────────────────────────┼─────────────────┤\n",
       "│ time_distributed_36                  │ (\u001b[38;5;45mNone\u001b[0m, \u001b[38;5;45mNone\u001b[0m, \u001b[38;5;34m65\u001b[0m, \u001b[38;5;34m64\u001b[0m)        │             \u001b[38;5;34m256\u001b[0m │\n",
       "│ (\u001b[38;5;33mTimeDistributed\u001b[0m)                    │                             │                 │\n",
       "├──────────────────────────────────────┼─────────────────────────────┼─────────────────┤\n",
       "│ time_distributed_37                  │ (\u001b[38;5;45mNone\u001b[0m, \u001b[38;5;45mNone\u001b[0m, \u001b[38;5;34m58\u001b[0m, \u001b[38;5;34m64\u001b[0m)        │               \u001b[38;5;34m0\u001b[0m │\n",
       "│ (\u001b[38;5;33mTimeDistributed\u001b[0m)                    │                             │                 │\n",
       "├──────────────────────────────────────┼─────────────────────────────┼─────────────────┤\n",
       "│ time_distributed_38                  │ (\u001b[38;5;45mNone\u001b[0m, \u001b[38;5;45mNone\u001b[0m, \u001b[38;5;34m56\u001b[0m, \u001b[38;5;34m128\u001b[0m)       │          \u001b[38;5;34m24,704\u001b[0m │\n",
       "│ (\u001b[38;5;33mTimeDistributed\u001b[0m)                    │                             │                 │\n",
       "├──────────────────────────────────────┼─────────────────────────────┼─────────────────┤\n",
       "│ time_distributed_39                  │ (\u001b[38;5;45mNone\u001b[0m, \u001b[38;5;45mNone\u001b[0m, \u001b[38;5;34m56\u001b[0m, \u001b[38;5;34m128\u001b[0m)       │             \u001b[38;5;34m512\u001b[0m │\n",
       "│ (\u001b[38;5;33mTimeDistributed\u001b[0m)                    │                             │                 │\n",
       "├──────────────────────────────────────┼─────────────────────────────┼─────────────────┤\n",
       "│ time_distributed_40                  │ (\u001b[38;5;45mNone\u001b[0m, \u001b[38;5;45mNone\u001b[0m, \u001b[38;5;34m49\u001b[0m, \u001b[38;5;34m128\u001b[0m)       │               \u001b[38;5;34m0\u001b[0m │\n",
       "│ (\u001b[38;5;33mTimeDistributed\u001b[0m)                    │                             │                 │\n",
       "├──────────────────────────────────────┼─────────────────────────────┼─────────────────┤\n",
       "│ time_distributed_41                  │ (\u001b[38;5;45mNone\u001b[0m, \u001b[38;5;45mNone\u001b[0m, \u001b[38;5;34m47\u001b[0m, \u001b[38;5;34m128\u001b[0m)       │          \u001b[38;5;34m49,280\u001b[0m │\n",
       "│ (\u001b[38;5;33mTimeDistributed\u001b[0m)                    │                             │                 │\n",
       "├──────────────────────────────────────┼─────────────────────────────┼─────────────────┤\n",
       "│ time_distributed_42                  │ (\u001b[38;5;45mNone\u001b[0m, \u001b[38;5;45mNone\u001b[0m, \u001b[38;5;34m47\u001b[0m, \u001b[38;5;34m128\u001b[0m)       │             \u001b[38;5;34m512\u001b[0m │\n",
       "│ (\u001b[38;5;33mTimeDistributed\u001b[0m)                    │                             │                 │\n",
       "├──────────────────────────────────────┼─────────────────────────────┼─────────────────┤\n",
       "│ time_distributed_43                  │ (\u001b[38;5;45mNone\u001b[0m, \u001b[38;5;45mNone\u001b[0m, \u001b[38;5;34m40\u001b[0m, \u001b[38;5;34m128\u001b[0m)       │               \u001b[38;5;34m0\u001b[0m │\n",
       "│ (\u001b[38;5;33mTimeDistributed\u001b[0m)                    │                             │                 │\n",
       "├──────────────────────────────────────┼─────────────────────────────┼─────────────────┤\n",
       "│ time_distributed_44                  │ (\u001b[38;5;45mNone\u001b[0m, \u001b[38;5;45mNone\u001b[0m, \u001b[38;5;34m39\u001b[0m, \u001b[38;5;34m256\u001b[0m)       │          \u001b[38;5;34m65,792\u001b[0m │\n",
       "│ (\u001b[38;5;33mTimeDistributed\u001b[0m)                    │                             │                 │\n",
       "├──────────────────────────────────────┼─────────────────────────────┼─────────────────┤\n",
       "│ time_distributed_45                  │ (\u001b[38;5;45mNone\u001b[0m, \u001b[38;5;45mNone\u001b[0m, \u001b[38;5;34m39\u001b[0m, \u001b[38;5;34m256\u001b[0m)       │           \u001b[38;5;34m1,024\u001b[0m │\n",
       "│ (\u001b[38;5;33mTimeDistributed\u001b[0m)                    │                             │                 │\n",
       "├──────────────────────────────────────┼─────────────────────────────┼─────────────────┤\n",
       "│ time_distributed_46                  │ (\u001b[38;5;45mNone\u001b[0m, \u001b[38;5;45mNone\u001b[0m, \u001b[38;5;34m32\u001b[0m, \u001b[38;5;34m256\u001b[0m)       │               \u001b[38;5;34m0\u001b[0m │\n",
       "│ (\u001b[38;5;33mTimeDistributed\u001b[0m)                    │                             │                 │\n",
       "├──────────────────────────────────────┼─────────────────────────────┼─────────────────┤\n",
       "│ time_distributed_47                  │ (\u001b[38;5;45mNone\u001b[0m, \u001b[38;5;45mNone\u001b[0m, \u001b[38;5;34m31\u001b[0m, \u001b[38;5;34m256\u001b[0m)       │         \u001b[38;5;34m131,328\u001b[0m │\n",
       "│ (\u001b[38;5;33mTimeDistributed\u001b[0m)                    │                             │                 │\n",
       "├──────────────────────────────────────┼─────────────────────────────┼─────────────────┤\n",
       "│ time_distributed_48                  │ (\u001b[38;5;45mNone\u001b[0m, \u001b[38;5;45mNone\u001b[0m, \u001b[38;5;34m31\u001b[0m, \u001b[38;5;34m256\u001b[0m)       │           \u001b[38;5;34m1,024\u001b[0m │\n",
       "│ (\u001b[38;5;33mTimeDistributed\u001b[0m)                    │                             │                 │\n",
       "├──────────────────────────────────────┼─────────────────────────────┼─────────────────┤\n",
       "│ time_distributed_49                  │ (\u001b[38;5;45mNone\u001b[0m, \u001b[38;5;45mNone\u001b[0m, \u001b[38;5;34m24\u001b[0m, \u001b[38;5;34m256\u001b[0m)       │               \u001b[38;5;34m0\u001b[0m │\n",
       "│ (\u001b[38;5;33mTimeDistributed\u001b[0m)                    │                             │                 │\n",
       "├──────────────────────────────────────┼─────────────────────────────┼─────────────────┤\n",
       "│ time_distributed_50                  │ (\u001b[38;5;45mNone\u001b[0m, \u001b[38;5;45mNone\u001b[0m, \u001b[38;5;34m6144\u001b[0m)          │               \u001b[38;5;34m0\u001b[0m │\n",
       "│ (\u001b[38;5;33mTimeDistributed\u001b[0m)                    │                             │                 │\n",
       "├──────────────────────────────────────┼─────────────────────────────┼─────────────────┤\n",
       "│ time_distributed_51                  │ (\u001b[38;5;45mNone\u001b[0m, \u001b[38;5;45mNone\u001b[0m, \u001b[38;5;34m256\u001b[0m)           │       \u001b[38;5;34m1,573,120\u001b[0m │\n",
       "│ (\u001b[38;5;33mTimeDistributed\u001b[0m)                    │                             │                 │\n",
       "├──────────────────────────────────────┼─────────────────────────────┼─────────────────┤\n",
       "│ lstm_1 (\u001b[38;5;33mLSTM\u001b[0m)                        │ (\u001b[38;5;45mNone\u001b[0m, \u001b[38;5;34m256\u001b[0m)                 │         \u001b[38;5;34m525,312\u001b[0m │\n",
       "├──────────────────────────────────────┼─────────────────────────────┼─────────────────┤\n",
       "│ dense_3 (\u001b[38;5;33mDense\u001b[0m)                      │ (\u001b[38;5;45mNone\u001b[0m, \u001b[38;5;34m4\u001b[0m)                   │           \u001b[38;5;34m1,028\u001b[0m │\n",
       "└──────────────────────────────────────┴─────────────────────────────┴─────────────────┘\n"
      ]
     },
     "metadata": {},
     "output_type": "display_data"
    },
    {
     "data": {
      "text/html": [
       "<pre style=\"white-space:pre;overflow-x:auto;line-height:normal;font-family:Menlo,'DejaVu Sans Mono',consolas,'Courier New',monospace\"><span style=\"font-weight: bold\"> Total params: </span><span style=\"color: #00af00; text-decoration-color: #00af00\">2,404,452</span> (9.17 MB)\n",
       "</pre>\n"
      ],
      "text/plain": [
       "\u001b[1m Total params: \u001b[0m\u001b[38;5;34m2,404,452\u001b[0m (9.17 MB)\n"
      ]
     },
     "metadata": {},
     "output_type": "display_data"
    },
    {
     "data": {
      "text/html": [
       "<pre style=\"white-space:pre;overflow-x:auto;line-height:normal;font-family:Menlo,'DejaVu Sans Mono',consolas,'Courier New',monospace\"><span style=\"font-weight: bold\"> Trainable params: </span><span style=\"color: #00af00; text-decoration-color: #00af00\">2,402,532</span> (9.16 MB)\n",
       "</pre>\n"
      ],
      "text/plain": [
       "\u001b[1m Trainable params: \u001b[0m\u001b[38;5;34m2,402,532\u001b[0m (9.16 MB)\n"
      ]
     },
     "metadata": {},
     "output_type": "display_data"
    },
    {
     "data": {
      "text/html": [
       "<pre style=\"white-space:pre;overflow-x:auto;line-height:normal;font-family:Menlo,'DejaVu Sans Mono',consolas,'Courier New',monospace\"><span style=\"font-weight: bold\"> Non-trainable params: </span><span style=\"color: #00af00; text-decoration-color: #00af00\">1,920</span> (7.50 KB)\n",
       "</pre>\n"
      ],
      "text/plain": [
       "\u001b[1m Non-trainable params: \u001b[0m\u001b[38;5;34m1,920\u001b[0m (7.50 KB)\n"
      ]
     },
     "metadata": {},
     "output_type": "display_data"
    }
   ],
   "source": [
    "from keras import optimizers\n",
    "optimizer = optimizers.Adam()\n",
    "model.compile(loss=\"categorical_crossentropy\",\n",
    "              optimizer=optimizer,\n",
    "              metrics=[\"categorical_accuracy\"])\n",
    "model.summary()"
   ]
  },
  {
   "cell_type": "code",
   "execution_count": 24,
   "id": "af54e8e5-1613-4bb7-aedb-325cff38769b",
   "metadata": {},
   "outputs": [
    {
     "name": "stdout",
     "output_type": "stream",
     "text": [
      "# training sequences = 102016\n",
      "# validation sequences = 76214\n",
      "# epochs = 15\n"
     ]
    }
   ],
   "source": [
    "curr_dt_time = datetime.datetime.now()\n",
    "num_train_sequences = len(train_signals)\n",
    "print('# training sequences =', num_train_sequences)\n",
    "num_val_sequences = len(validation_signals)\n",
    "print('# validation sequences =', num_val_sequences)\n",
    "num_epochs = 15# choose the number of epochs\n",
    "print ('# epochs =', num_epochs)"
   ]
  },
  {
   "cell_type": "code",
   "execution_count": 25,
   "id": "0ff41c56-0b53-4741-86b2-bff7586305fa",
   "metadata": {},
   "outputs": [],
   "source": [
    "if (num_train_sequences%batch_size) == 0:\n",
    "    steps_per_epoch = int(num_train_sequences/batch_size)\n",
    "else:\n",
    "    steps_per_epoch = (num_train_sequences//batch_size) + 1\n",
    "\n",
    "if (num_val_sequences%batch_size) == 0:\n",
    "    validation_steps = int(num_val_sequences/batch_size)\n",
    "else:\n",
    "    validation_steps = (num_val_sequences//batch_size) + 1"
   ]
  },
  {
   "cell_type": "code",
   "execution_count": 26,
   "id": "9a9c680c-2907-40bb-8392-f0c28b31f504",
   "metadata": {},
   "outputs": [],
   "source": [
    "import os\n",
    "import datetime\n",
    "from keras.callbacks import ModelCheckpoint, ReduceLROnPlateau\n",
    "\n",
    "curr_dt_time = datetime.datetime.now()\n",
    "\n",
    "model_name = 'model_init' + '_' + str(curr_dt_time).replace(' ','').replace(':','_') + '/'\n",
    "if not os.path.exists(model_name):\n",
    "    os.makedirs(model_name)\n",
    "\n",
    "# Change the file extension from .h5 to .weights.h5\n",
    "filepath = model_name + 'model-{epoch:05d}-{loss:.3f}-{categorical_accuracy:.3f}-{val_loss:.3f}-{val_categorical_accuracy:.3f}.weights.h5'\n",
    "\n",
    "checkpoint = ModelCheckpoint(filepath, monitor='val_loss', verbose=1, save_best_only=True, save_weights_only=True, mode='auto', save_freq='epoch')\n",
    "\n",
    "LR = ReduceLROnPlateau(monitor='val_loss', factor=0.1, patience=2, cooldown=1, verbose=1)\n",
    "callbacks_list = [checkpoint, LR]"
   ]
  },
  {
   "cell_type": "code",
   "execution_count": 27,
   "id": "3c8b67fc-8651-45c8-87b8-48cfbf2c70a5",
   "metadata": {},
   "outputs": [
    {
     "name": "stdout",
     "output_type": "stream",
     "text": [
      "Epoch 1/15\n",
      "\u001b[1m50/50\u001b[0m \u001b[32m━━━━━━━━━━━━━━━━━━━━\u001b[0m\u001b[37m\u001b[0m \u001b[1m0s\u001b[0m 5s/step - categorical_accuracy: 0.8728 - loss: 0.3367\n",
      "Epoch 1: val_loss improved from inf to 1.38682, saving model to model_init_2025-10-2609_44_34.249517/model-00001-0.189-0.939-1.387-0.463.weights.h5\n",
      "\u001b[1m50/50\u001b[0m \u001b[32m━━━━━━━━━━━━━━━━━━━━\u001b[0m\u001b[37m\u001b[0m \u001b[1m304s\u001b[0m 6s/step - categorical_accuracy: 0.8741 - loss: 0.3338 - val_categorical_accuracy: 0.4631 - val_loss: 1.3868 - learning_rate: 0.0010\n",
      "Epoch 2/15\n",
      "\u001b[1m50/50\u001b[0m \u001b[32m━━━━━━━━━━━━━━━━━━━━\u001b[0m\u001b[37m\u001b[0m \u001b[1m0s\u001b[0m 3s/step - categorical_accuracy: 0.9724 - loss: 0.0925\n",
      "Epoch 2: val_loss did not improve from 1.38682\n",
      "\u001b[1m50/50\u001b[0m \u001b[32m━━━━━━━━━━━━━━━━━━━━\u001b[0m\u001b[37m\u001b[0m \u001b[1m241s\u001b[0m 5s/step - categorical_accuracy: 0.9724 - loss: 0.0924 - val_categorical_accuracy: 0.4628 - val_loss: 1.3933 - learning_rate: 0.0010\n",
      "Epoch 3/15\n",
      "\u001b[1m50/50\u001b[0m \u001b[32m━━━━━━━━━━━━━━━━━━━━\u001b[0m\u001b[37m\u001b[0m \u001b[1m0s\u001b[0m 1s/step - categorical_accuracy: 0.9740 - loss: 0.0907\n",
      "Epoch 3: val_loss improved from 1.38682 to 1.25790, saving model to model_init_2025-10-2609_44_34.249517/model-00003-0.101-0.971-1.258-0.434.weights.h5\n",
      "\u001b[1m50/50\u001b[0m \u001b[32m━━━━━━━━━━━━━━━━━━━━\u001b[0m\u001b[37m\u001b[0m \u001b[1m57s\u001b[0m 1s/step - categorical_accuracy: 0.9739 - loss: 0.0909 - val_categorical_accuracy: 0.4340 - val_loss: 1.2579 - learning_rate: 0.0010\n",
      "Epoch 4/15\n",
      "\u001b[1m50/50\u001b[0m \u001b[32m━━━━━━━━━━━━━━━━━━━━\u001b[0m\u001b[37m\u001b[0m \u001b[1m0s\u001b[0m 375ms/step - categorical_accuracy: 0.9567 - loss: 0.1422\n",
      "Epoch 4: val_loss improved from 1.25790 to 0.43083, saving model to model_init_2025-10-2609_44_34.249517/model-00004-0.157-0.951-0.431-0.876.weights.h5\n",
      "\u001b[1m50/50\u001b[0m \u001b[32m━━━━━━━━━━━━━━━━━━━━\u001b[0m\u001b[37m\u001b[0m \u001b[1m22s\u001b[0m 435ms/step - categorical_accuracy: 0.9566 - loss: 0.1425 - val_categorical_accuracy: 0.8762 - val_loss: 0.4308 - learning_rate: 0.0010\n",
      "Epoch 5/15\n",
      "\u001b[1m50/50\u001b[0m \u001b[32m━━━━━━━━━━━━━━━━━━━━\u001b[0m\u001b[37m\u001b[0m \u001b[1m0s\u001b[0m 344ms/step - categorical_accuracy: 0.9474 - loss: 0.1570\n",
      "Epoch 5: val_loss improved from 0.43083 to 0.15222, saving model to model_init_2025-10-2609_44_34.249517/model-00005-0.145-0.955-0.152-0.955.weights.h5\n",
      "\u001b[1m50/50\u001b[0m \u001b[32m━━━━━━━━━━━━━━━━━━━━\u001b[0m\u001b[37m\u001b[0m \u001b[1m20s\u001b[0m 404ms/step - categorical_accuracy: 0.9475 - loss: 0.1568 - val_categorical_accuracy: 0.9551 - val_loss: 0.1522 - learning_rate: 0.0010\n",
      "Epoch 6/15\n",
      "\u001b[1m50/50\u001b[0m \u001b[32m━━━━━━━━━━━━━━━━━━━━\u001b[0m\u001b[37m\u001b[0m \u001b[1m0s\u001b[0m 425ms/step - categorical_accuracy: 0.9543 - loss: 0.1471\n",
      "Epoch 6: val_loss did not improve from 0.15222\n",
      "\u001b[1m50/50\u001b[0m \u001b[32m━━━━━━━━━━━━━━━━━━━━\u001b[0m\u001b[37m\u001b[0m \u001b[1m24s\u001b[0m 481ms/step - categorical_accuracy: 0.9544 - loss: 0.1470 - val_categorical_accuracy: 0.9021 - val_loss: 0.3260 - learning_rate: 0.0010\n",
      "Epoch 7/15\n",
      "\u001b[1m50/50\u001b[0m \u001b[32m━━━━━━━━━━━━━━━━━━━━\u001b[0m\u001b[37m\u001b[0m \u001b[1m0s\u001b[0m 425ms/step - categorical_accuracy: 0.9650 - loss: 0.1206\n",
      "Epoch 7: val_loss did not improve from 0.15222\n",
      "\n",
      "Epoch 7: ReduceLROnPlateau reducing learning rate to 0.00010000000474974513.\n",
      "\u001b[1m50/50\u001b[0m \u001b[32m━━━━━━━━━━━━━━━━━━━━\u001b[0m\u001b[37m\u001b[0m \u001b[1m43s\u001b[0m 871ms/step - categorical_accuracy: 0.9650 - loss: 0.1204 - val_categorical_accuracy: 0.9098 - val_loss: 0.2742 - learning_rate: 0.0010\n",
      "Epoch 8/15\n",
      "\u001b[1m50/50\u001b[0m \u001b[32m━━━━━━━━━━━━━━━━━━━━\u001b[0m\u001b[37m\u001b[0m \u001b[1m0s\u001b[0m 538ms/step - categorical_accuracy: 0.9740 - loss: 0.0829\n",
      "Epoch 8: val_loss did not improve from 0.15222\n",
      "\u001b[1m50/50\u001b[0m \u001b[32m━━━━━━━━━━━━━━━━━━━━\u001b[0m\u001b[37m\u001b[0m \u001b[1m29s\u001b[0m 589ms/step - categorical_accuracy: 0.9740 - loss: 0.0829 - val_categorical_accuracy: 0.9129 - val_loss: 0.2743 - learning_rate: 1.0000e-04\n",
      "Epoch 9/15\n",
      "\u001b[1m50/50\u001b[0m \u001b[32m━━━━━━━━━━━━━━━━━━━━\u001b[0m\u001b[37m\u001b[0m \u001b[1m0s\u001b[0m 373ms/step - categorical_accuracy: 0.9800 - loss: 0.0693\n",
      "Epoch 9: val_loss did not improve from 0.15222\n",
      "\n",
      "Epoch 9: ReduceLROnPlateau reducing learning rate to 1.0000000474974514e-05.\n",
      "\u001b[1m50/50\u001b[0m \u001b[32m━━━━━━━━━━━━━━━━━━━━\u001b[0m\u001b[37m\u001b[0m \u001b[1m21s\u001b[0m 426ms/step - categorical_accuracy: 0.9800 - loss: 0.0693 - val_categorical_accuracy: 0.9052 - val_loss: 0.3208 - learning_rate: 1.0000e-04\n",
      "Epoch 10/15\n",
      "\u001b[1m50/50\u001b[0m \u001b[32m━━━━━━━━━━━━━━━━━━━━\u001b[0m\u001b[37m\u001b[0m \u001b[1m0s\u001b[0m 348ms/step - categorical_accuracy: 0.9763 - loss: 0.0763\n",
      "Epoch 10: val_loss did not improve from 0.15222\n",
      "\u001b[1m50/50\u001b[0m \u001b[32m━━━━━━━━━━━━━━━━━━━━\u001b[0m\u001b[37m\u001b[0m \u001b[1m20s\u001b[0m 403ms/step - categorical_accuracy: 0.9763 - loss: 0.0763 - val_categorical_accuracy: 0.9079 - val_loss: 0.3099 - learning_rate: 1.0000e-05\n",
      "Epoch 11/15\n",
      "\u001b[1m50/50\u001b[0m \u001b[32m━━━━━━━━━━━━━━━━━━━━\u001b[0m\u001b[37m\u001b[0m \u001b[1m0s\u001b[0m 374ms/step - categorical_accuracy: 0.9781 - loss: 0.0769\n",
      "Epoch 11: val_loss did not improve from 0.15222\n",
      "\n",
      "Epoch 11: ReduceLROnPlateau reducing learning rate to 1.0000000656873453e-06.\n",
      "\u001b[1m50/50\u001b[0m \u001b[32m━━━━━━━━━━━━━━━━━━━━\u001b[0m\u001b[37m\u001b[0m \u001b[1m21s\u001b[0m 426ms/step - categorical_accuracy: 0.9781 - loss: 0.0770 - val_categorical_accuracy: 0.9093 - val_loss: 0.3087 - learning_rate: 1.0000e-05\n",
      "Epoch 12/15\n",
      "\u001b[1m50/50\u001b[0m \u001b[32m━━━━━━━━━━━━━━━━━━━━\u001b[0m\u001b[37m\u001b[0m \u001b[1m0s\u001b[0m 339ms/step - categorical_accuracy: 0.9779 - loss: 0.0801\n",
      "Epoch 12: val_loss did not improve from 0.15222\n",
      "\u001b[1m50/50\u001b[0m \u001b[32m━━━━━━━━━━━━━━━━━━━━\u001b[0m\u001b[37m\u001b[0m \u001b[1m20s\u001b[0m 395ms/step - categorical_accuracy: 0.9779 - loss: 0.0801 - val_categorical_accuracy: 0.9098 - val_loss: 0.3084 - learning_rate: 1.0000e-06\n",
      "Epoch 13/15\n",
      "\u001b[1m50/50\u001b[0m \u001b[32m━━━━━━━━━━━━━━━━━━━━\u001b[0m\u001b[37m\u001b[0m \u001b[1m0s\u001b[0m 380ms/step - categorical_accuracy: 0.9795 - loss: 0.0678\n",
      "Epoch 13: val_loss did not improve from 0.15222\n",
      "\n",
      "Epoch 13: ReduceLROnPlateau reducing learning rate to 1.0000001111620805e-07.\n",
      "\u001b[1m50/50\u001b[0m \u001b[32m━━━━━━━━━━━━━━━━━━━━\u001b[0m\u001b[37m\u001b[0m \u001b[1m22s\u001b[0m 432ms/step - categorical_accuracy: 0.9795 - loss: 0.0678 - val_categorical_accuracy: 0.9098 - val_loss: 0.3020 - learning_rate: 1.0000e-06\n",
      "Epoch 14/15\n",
      "\u001b[1m50/50\u001b[0m \u001b[32m━━━━━━━━━━━━━━━━━━━━\u001b[0m\u001b[37m\u001b[0m \u001b[1m0s\u001b[0m 358ms/step - categorical_accuracy: 0.9730 - loss: 0.0914\n",
      "Epoch 14: val_loss did not improve from 0.15222\n",
      "\u001b[1m50/50\u001b[0m \u001b[32m━━━━━━━━━━━━━━━━━━━━\u001b[0m\u001b[37m\u001b[0m \u001b[1m21s\u001b[0m 410ms/step - categorical_accuracy: 0.9730 - loss: 0.0913 - val_categorical_accuracy: 0.9117 - val_loss: 0.2934 - learning_rate: 1.0000e-07\n",
      "Epoch 15/15\n",
      "\u001b[1m50/50\u001b[0m \u001b[32m━━━━━━━━━━━━━━━━━━━━\u001b[0m\u001b[37m\u001b[0m \u001b[1m0s\u001b[0m 362ms/step - categorical_accuracy: 0.9739 - loss: 0.0841\n",
      "Epoch 15: val_loss did not improve from 0.15222\n",
      "\n",
      "Epoch 15: ReduceLROnPlateau reducing learning rate to 1.000000082740371e-08.\n",
      "\u001b[1m50/50\u001b[0m \u001b[32m━━━━━━━━━━━━━━━━━━━━\u001b[0m\u001b[37m\u001b[0m \u001b[1m21s\u001b[0m 413ms/step - categorical_accuracy: 0.9739 - loss: 0.0841 - val_categorical_accuracy: 0.9124 - val_loss: 0.2916 - learning_rate: 1.0000e-07\n"
     ]
    }
   ],
   "source": [
    "history = model.fit(x=train_generator, steps_per_epoch=steps_per_epoch, epochs=num_epochs, verbose=1,\n",
    "                    callbacks=callbacks_list, validation_data=val_generator,\n",
    "                    validation_steps=validation_steps, class_weight=No ne, shuffle=True, initial_epoch=0)\n",
    "# Removed 'workers=1' and 'use_multiprocessing=False'"
   ]
  },
  {
   "cell_type": "code",
   "execution_count": 28,
   "id": "70d8d7a1-5fd4-4a38-81d3-7f32ddc3935b",
   "metadata": {},
   "outputs": [
    {
     "data": {
      "image/png": "[encoded data removed]",
      "text/plain": [
       "<Figure size 640x480 with 1 Axes>"
      ]
     },
     "metadata": {},
     "output_type": "display_data"
    }
   ],
   "source": [
    "plt.plot(history.history['categorical_accuracy'])\n",
    "plt.plot(history.history['val_categorical_accuracy'])\n",
    "plt.title('model accuracy')\n",
    "plt.ylabel('accuracy')\n",
    "plt.xlabel('epoch')\n",
    "plt.legend(['train', 'test'], loc='upper left')\n",
    "plt.show()"
   ]
  },
  {
   "cell_type": "code",
   "execution_count": 29,
   "id": "a09e7162-7564-48d0-8989-a146789ce5d3",
   "metadata": {},
   "outputs": [
    {
     "data": {
      "image/png": "[encoded data removed]",
      "text/plain": [
       "<Figure size 640x480 with 1 Axes>"
      ]
     },
     "metadata": {},
     "output_type": "display_data"
    }
   ],
   "source": [
    "plt.plot(history.history['loss'])\n",
    "plt.plot(history.history['val_loss'])\n",
    "plt.title('model loss')\n",
    "plt.ylabel('loss')\n",
    "plt.xlabel('epoch')\n",
    "plt.legend(['train', 'test'], loc='upper left')\n",
    "plt.show()"
   ]
  },
  {
   "cell_type": "markdown",
   "id": "b5769c33-6195-4e15-a17d-9794d2981694",
   "metadata": {},
   "source": [
    "Model Evaluation"
   ]
  },
  {
   "cell_type": "code",
   "execution_count": 30,
   "id": "60cc3a20-9218-4e8a-871d-7391e21d4c15",
   "metadata": {},
   "outputs": [
    {
     "name": "stderr",
     "output_type": "stream",
     "text": [
      "WARNING:absl:You are saving your model as an HDF5 file via `model.save()` or `keras.saving.save_model(model)`. This file format is considered legacy. We recommend using instead the native Keras format, e.g. `model.save('my_model.keras')` or `keras.saving.save_model(model, 'my_model.keras')`. \n"
     ]
    }
   ],
   "source": [
    "# Save the model\n",
    "model.save('model-00006-0.159-0.952-0.002-0.961.h5')"
   ]
  },
  {
   "cell_type": "code",
   "execution_count": 31,
   "id": "9b4bd560-699a-428f-82ab-9e14055c9461",
   "metadata": {},
   "outputs": [
    {
     "name": "stderr",
     "output_type": "stream",
     "text": [
      "WARNING:absl:Compiled the loaded model, but the compiled metrics have yet to be built. `model.compile_metrics` will be empty until you train or evaluate the model.\n"
     ]
    }
   ],
   "source": [
    "from keras.models import load_model\n",
    "\n",
    "# Load the model for evaluation\n",
    "test_model = load_model('model-00006-0.159-0.952-0.002-0.961.h5')"
   ]
  },
  {
   "cell_type": "code",
   "execution_count": 32,
   "id": "09b600ff-5bc4-4e99-9d00-513e067655e0",
   "metadata": {},
   "outputs": [
    {
     "name": "stdout",
     "output_type": "stream",
     "text": [
      "\u001b[1m1/1\u001b[0m \u001b[32m━━━━━━━━━━━━━━━━━━━━\u001b[0m\u001b[37m\u001b[0m \u001b[1m1s\u001b[0m 1s/step\n",
      "Model was called for prediction.\n"
     ]
    },
    {
     "ename": "AttributeError",
     "evalue": "The layer sequential_1 has never been called and thus has no defined input.",
     "output_type": "error",
     "traceback": [
      "\u001b[1;31m---------------------------------------------------------------------------\u001b[0m",
      "\u001b[1;31mAttributeError\u001b[0m                            Traceback (most recent call last)",
      "Cell \u001b[1;32mIn[32], line 10\u001b[0m\n\u001b[0;32m      7\u001b[0m \u001b[38;5;28mprint\u001b[39m(\u001b[38;5;124m\"\u001b[39m\u001b[38;5;124mModel was called for prediction.\u001b[39m\u001b[38;5;124m\"\u001b[39m)\n\u001b[0;32m      9\u001b[0m \u001b[38;5;66;03m# Now test if input/output are available\u001b[39;00m\n\u001b[1;32m---> 10\u001b[0m \u001b[38;5;28mprint\u001b[39m(\u001b[38;5;124m\"\u001b[39m\u001b[38;5;124mModel input:\u001b[39m\u001b[38;5;124m\"\u001b[39m, \u001b[43mmodel\u001b[49m\u001b[38;5;241;43m.\u001b[39;49m\u001b[43minput\u001b[49m)\n\u001b[0;32m     11\u001b[0m \u001b[38;5;28mprint\u001b[39m(\u001b[38;5;124m\"\u001b[39m\u001b[38;5;124mModel output:\u001b[39m\u001b[38;5;124m\"\u001b[39m, model\u001b[38;5;241m.\u001b[39moutput)\n",
      "File \u001b[1;32m~\\miniconda3\\envs\\myenv\\lib\\site-packages\\keras\\src\\ops\\operation.py:276\u001b[0m, in \u001b[0;36mOperation.input\u001b[1;34m(self)\u001b[0m\n\u001b[0;32m    266\u001b[0m \u001b[38;5;129m@property\u001b[39m\n\u001b[0;32m    267\u001b[0m \u001b[38;5;28;01mdef\u001b[39;00m\u001b[38;5;250m \u001b[39m\u001b[38;5;21minput\u001b[39m(\u001b[38;5;28mself\u001b[39m):\n\u001b[0;32m    268\u001b[0m \u001b[38;5;250m    \u001b[39m\u001b[38;5;124;03m\"\"\"Retrieves the input tensor(s) of a symbolic operation.\u001b[39;00m\n\u001b[0;32m    269\u001b[0m \n\u001b[0;32m    270\u001b[0m \u001b[38;5;124;03m    Only returns the tensor(s) corresponding to the *first time*\u001b[39;00m\n\u001b[1;32m   (...)\u001b[0m\n\u001b[0;32m    274\u001b[0m \u001b[38;5;124;03m        Input tensor or list of input tensors.\u001b[39;00m\n\u001b[0;32m    275\u001b[0m \u001b[38;5;124;03m    \"\"\"\u001b[39;00m\n\u001b[1;32m--> 276\u001b[0m     \u001b[38;5;28;01mreturn\u001b[39;00m \u001b[38;5;28;43mself\u001b[39;49m\u001b[38;5;241;43m.\u001b[39;49m\u001b[43m_get_node_attribute_at_index\u001b[49m\u001b[43m(\u001b[49m\u001b[38;5;241;43m0\u001b[39;49m\u001b[43m,\u001b[49m\u001b[43m \u001b[49m\u001b[38;5;124;43m\"\u001b[39;49m\u001b[38;5;124;43minput_tensors\u001b[39;49m\u001b[38;5;124;43m\"\u001b[39;49m\u001b[43m,\u001b[49m\u001b[43m \u001b[49m\u001b[38;5;124;43m\"\u001b[39;49m\u001b[38;5;124;43minput\u001b[39;49m\u001b[38;5;124;43m\"\u001b[39;49m\u001b[43m)\u001b[49m\n",
      "File \u001b[1;32m~\\miniconda3\\envs\\myenv\\lib\\site-packages\\keras\\src\\ops\\operation.py:307\u001b[0m, in \u001b[0;36mOperation._get_node_attribute_at_index\u001b[1;34m(self, node_index, attr, attr_name)\u001b[0m\n\u001b[0;32m    291\u001b[0m \u001b[38;5;250m\u001b[39m\u001b[38;5;124;03m\"\"\"Private utility to retrieves an attribute (e.g. inputs) from a node.\u001b[39;00m\n\u001b[0;32m    292\u001b[0m \n\u001b[0;32m    293\u001b[0m \u001b[38;5;124;03mThis is used to implement the properties:\u001b[39;00m\n\u001b[1;32m   (...)\u001b[0m\n\u001b[0;32m    304\u001b[0m \u001b[38;5;124;03m    The operation's attribute `attr` at the node of index `node_index`.\u001b[39;00m\n\u001b[0;32m    305\u001b[0m \u001b[38;5;124;03m\"\"\"\u001b[39;00m\n\u001b[0;32m    306\u001b[0m \u001b[38;5;28;01mif\u001b[39;00m \u001b[38;5;129;01mnot\u001b[39;00m \u001b[38;5;28mself\u001b[39m\u001b[38;5;241m.\u001b[39m_inbound_nodes:\n\u001b[1;32m--> 307\u001b[0m     \u001b[38;5;28;01mraise\u001b[39;00m \u001b[38;5;167;01mAttributeError\u001b[39;00m(\n\u001b[0;32m    308\u001b[0m         \u001b[38;5;124mf\u001b[39m\u001b[38;5;124m\"\u001b[39m\u001b[38;5;124mThe layer \u001b[39m\u001b[38;5;132;01m{\u001b[39;00m\u001b[38;5;28mself\u001b[39m\u001b[38;5;241m.\u001b[39mname\u001b[38;5;132;01m}\u001b[39;00m\u001b[38;5;124m has never been called \u001b[39m\u001b[38;5;124m\"\u001b[39m\n\u001b[0;32m    309\u001b[0m         \u001b[38;5;124mf\u001b[39m\u001b[38;5;124m\"\u001b[39m\u001b[38;5;124mand thus has no defined \u001b[39m\u001b[38;5;132;01m{\u001b[39;00mattr_name\u001b[38;5;132;01m}\u001b[39;00m\u001b[38;5;124m.\u001b[39m\u001b[38;5;124m\"\u001b[39m\n\u001b[0;32m    310\u001b[0m     )\n\u001b[0;32m    311\u001b[0m \u001b[38;5;28;01mif\u001b[39;00m \u001b[38;5;129;01mnot\u001b[39;00m \u001b[38;5;28mlen\u001b[39m(\u001b[38;5;28mself\u001b[39m\u001b[38;5;241m.\u001b[39m_inbound_nodes) \u001b[38;5;241m>\u001b[39m node_index:\n\u001b[0;32m    312\u001b[0m     \u001b[38;5;28;01mraise\u001b[39;00m \u001b[38;5;167;01mValueError\u001b[39;00m(\n\u001b[0;32m    313\u001b[0m         \u001b[38;5;124mf\u001b[39m\u001b[38;5;124m\"\u001b[39m\u001b[38;5;124mAsked to get \u001b[39m\u001b[38;5;132;01m{\u001b[39;00mattr_name\u001b[38;5;132;01m}\u001b[39;00m\u001b[38;5;124m at node \u001b[39m\u001b[38;5;124m\"\u001b[39m\n\u001b[0;32m    314\u001b[0m         \u001b[38;5;124mf\u001b[39m\u001b[38;5;124m\"\u001b[39m\u001b[38;5;132;01m{\u001b[39;00mnode_index\u001b[38;5;132;01m}\u001b[39;00m\u001b[38;5;124m, but the operation has only \u001b[39m\u001b[38;5;124m\"\u001b[39m\n\u001b[0;32m    315\u001b[0m         \u001b[38;5;124mf\u001b[39m\u001b[38;5;124m\"\u001b[39m\u001b[38;5;132;01m{\u001b[39;00m\u001b[38;5;28mlen\u001b[39m(\u001b[38;5;28mself\u001b[39m\u001b[38;5;241m.\u001b[39m_inbound_nodes)\u001b[38;5;132;01m}\u001b[39;00m\u001b[38;5;124m inbound nodes.\u001b[39m\u001b[38;5;124m\"\u001b[39m\n\u001b[0;32m    316\u001b[0m     )\n",
      "\u001b[1;31mAttributeError\u001b[0m: The layer sequential_1 has never been called and thus has no defined input."
     ]
    }
   ],
   "source": [
    "import numpy as np\n",
    "\n",
    "# Make an explicit call with a sample input that matches what you use for analysis\n",
    "test_input = np.zeros((1, 1, 100, 1))   # Shape must be batch_size, seq_len, samples, features\n",
    "result = model.predict(test_input)\n",
    "\n",
    "print(\"Model was called for prediction.\")\n",
    "\n",
    "# Now test if input/output are available\n",
    "print(\"Model input:\", model.input)\n",
    "print(\"Model output:\", model.output)"
   ]
  },
  {
   "cell_type": "code",
   "execution_count": 34,
   "id": "cc2221a1-493c-4c27-b8b6-d01904f426c6",
   "metadata": {},
   "outputs": [],
   "source": [
    "# Reshape the test data for prediction\n",
    "test_signals_reshaped = test_signals.reshape(test_signals.shape[0], -1, test_signals.shape[1], test_signals.shape[2])"
   ]
  },
  {
   "cell_type": "code",
   "execution_count": 35,
   "id": "351c556d-4274-4dcf-91ec-91c863bc4cd1",
   "metadata": {},
   "outputs": [
    {
     "name": "stdout",
     "output_type": "stream",
     "text": [
      "\u001b[1m725/725\u001b[0m \u001b[32m━━━━━━━━━━━━━━━━━━━━\u001b[0m\u001b[37m\u001b[0m \u001b[1m31s\u001b[0m 41ms/step\n"
     ]
    }
   ],
   "source": [
    "# Predict the test data\n",
    "test_results = test_model.predict(test_signals_reshaped[:,:,:,:])\n",
    "test_predicted = np.argmax(test_results, axis=1)"
   ]
  },
  {
   "cell_type": "code",
   "execution_count": 36,
   "id": "445df6e9-0400-4d8f-a5a9-4a1c9f417498",
   "metadata": {},
   "outputs": [
    {
     "name": "stdout",
     "output_type": "stream",
     "text": [
      "[[    0    23     3]\n",
      " [   17 19642   179]\n",
      " [    4  1262  2056]]\n"
     ]
    }
   ],
   "source": [
    "# Confusion Matrix\n",
    "confusion_matrix = metrics.confusion_matrix(test_labels_numerical, test_predicted)\n",
    "print(confusion_matrix)"
   ]
  },
  {
   "cell_type": "code",
   "execution_count": 37,
   "id": "3900b5a9-c242-40cf-8ed8-b08429c8e451",
   "metadata": {},
   "outputs": [
    {
     "name": "stdout",
     "output_type": "stream",
     "text": [
      "              precision    recall  f1-score   support\n",
      "\n",
      "           1       0.00      0.00      0.00        26\n",
      "           2       0.94      0.99      0.96     19838\n",
      "           3       0.92      0.62      0.74      3322\n",
      "\n",
      "    accuracy                           0.94     23186\n",
      "   macro avg       0.62      0.54      0.57     23186\n",
      "weighted avg       0.93      0.94      0.93     23186\n",
      "\n"
     ]
    }
   ],
   "source": [
    "# Classification_report\n",
    "print(metrics.classification_report(test_labels_numerical, test_predicted))"
   ]
  },
  {
   "cell_type": "markdown",
   "id": "db16c118-0a28-465c-b0ff-e4820d2e6868",
   "metadata": {},
   "source": [
    "Created a model with 95% accuracy for arrhythmia detection using 1D ECG signals."
   ]
  },
  {
   "cell_type": "code",
   "execution_count": 1,
   "id": "85755a5c-ecad-4ac9-b97d-0e07e1c48e74",
   "metadata": {},
   "outputs": [
    {
     "name": "stdout",
     "output_type": "stream",
     "text": [
      "Loading model from: model-00006-0.159-0.952-0.002-0.961.h5\n"
     ]
    },
    {
     "name": "stderr",
     "output_type": "stream",
     "text": [
      "WARNING:absl:Compiled the loaded model, but the compiled metrics have yet to be built. `model.compile_metrics` will be empty until you train or evaluate the model.\n"
     ]
    },
    {
     "name": "stdout",
     "output_type": "stream",
     "text": [
      "✅ Model loaded successfully!\n"
     ]
    }
   ],
   "source": [
    "# Import all functions from your predict.py\n",
    "from predict import (\n",
    "    preprocess, sequences, get_sample_beat, \n",
    "    generate_grad_cam, MODEL_PATH, ACTUAL_CLASS_MAPPING\n",
    ")\n",
    "\n",
    "import numpy as np\n",
    "import matplotlib.pyplot as plt\n",
    "import wfdb\n",
    "from keras.models import load_model\n",
    "import pandas as pd\n",
    "\n",
    "# Load your trained model\n",
    "print(f\"Loading model from: {MODEL_PATH}\")\n",
    "model = load_model(MODEL_PATH)\n",
    "print(\"✅ Model loaded successfully!\")"
   ]
  },
  {
   "cell_type": "code",
   "execution_count": 2,
   "id": "3246f353-343a-4ce6-874e-4f1b65722765",
   "metadata": {},
   "outputs": [
    {
     "name": "stdout",
     "output_type": "stream",
     "text": [
      "✅ Zone classification system loaded!\n",
      "\n",
      "Zone Summary:\n",
      "  N: 🟢 Green Zone - Low Risk\n",
      "  E: 🟡 Yellow Zone - Moderate Risk\n",
      "  V: 🟠 Orange Zone - High Risk\n",
      "  F: 🔴 Red Zone - Critical Risk\n"
     ]
    }
   ],
   "source": [
    "# Enhanced Class Information with Zones\n",
    "CLASS_INFO = {\n",
    "    'N': {\n",
    "        'name': 'Normal Beat',\n",
    "        'zone': '🟢 Green Zone',\n",
    "        'risk': 'Low Risk',\n",
    "        'color': '#28a745',\n",
    "        'bg_color': '#d4edda',\n",
    "        'description': 'Normal cardiac rhythm detected. No arrhythmia present.',\n",
    "        'recommendation': 'Continue regular health monitoring. Maintain healthy lifestyle.',\n",
    "        'clinical_note': 'Regular sinus rhythm with normal conduction.',\n",
    "        'action': 'No immediate action required.'\n",
    "    },\n",
    "    'E': {\n",
    "        'name': 'Ventricular Escape Beat',\n",
    "        'zone': '🟡 Yellow Zone',\n",
    "        'risk': 'Moderate Risk',\n",
    "        'color': '#ffc107',\n",
    "        'bg_color': '#fff3cd',\n",
    "        'description': 'Ventricular escape beat detected. Heart\\'s backup pacing system activated.',\n",
    "        'recommendation': 'Monitor cardiac activity. Consult physician if symptoms persist.',\n",
    "        'clinical_note': 'Escape rhythm may indicate SA/AV node dysfunction.',\n",
    "        'action': 'Schedule cardiology consultation if recurrent.'\n",
    "    },\n",
    "    'V': {\n",
    "        'name': 'Premature Ventricular Contraction (PVC)',\n",
    "        'zone': '🟠 Orange Zone',\n",
    "        'risk': 'High Risk',\n",
    "        'color': '#ff8c00',\n",
    "        'bg_color': '#ffe5cc',\n",
    "        'description': 'Premature Ventricular Contraction detected. Early heartbeat from ventricles.',\n",
    "        'recommendation': 'Medical attention advised. Increased monitoring recommended.',\n",
    "        'clinical_note': 'Frequent PVCs may indicate underlying cardiac conditions.',\n",
    "        'action': 'Schedule appointment with cardiologist. Consider Holter monitoring.'\n",
    "    },\n",
    "    'F': {\n",
    "        'name': 'Fusion Beat',\n",
    "        'zone': '🔴 Red Zone',\n",
    "        'risk': 'Critical Risk',\n",
    "        'color': '#dc3545',\n",
    "        'bg_color': '#f8d7da',\n",
    "        'description': 'Fusion beat detected - simultaneous ventricular and supraventricular activation.',\n",
    "        'recommendation': 'Immediate medical consultation strongly recommended.',\n",
    "        'clinical_note': 'May indicate complex arrhythmia requiring urgent evaluation.',\n",
    "        'action': 'URGENT: Seek immediate medical attention. May require emergency care.'\n",
    "    }\n",
    "}\n",
    "\n",
    "print(\"✅ Zone classification system loaded!\")\n",
    "print(\"\\nZone Summary:\")\n",
    "for cls, info in CLASS_INFO.items():\n",
    "    print(f\"  {cls}: {info['zone']} - {info['risk']}\")"
   ]
  },
  {
   "cell_type": "code",
   "execution_count": 3,
   "id": "d7f6efc1-9234-467b-97ba-13fe1145737e",
   "metadata": {},
   "outputs": [
    {
     "name": "stdout",
     "output_type": "stream",
     "text": [
      "✅ Enhanced prediction function created!\n"
     ]
    }
   ],
   "source": [
    "def predict_with_zones(model_input, model):\n",
    "    \"\"\"\n",
    "    Make prediction and return results with zone classification\n",
    "    \n",
    "    Args:\n",
    "        model_input: Preprocessed ECG signal (1, 1, 100, 1)\n",
    "        model: Trained Keras model\n",
    "    \n",
    "    Returns:\n",
    "        Dictionary with prediction results and zone info\n",
    "    \"\"\"\n",
    "    # Make prediction\n",
    "    predictions = model.predict(model_input, verbose=0)\n",
    "    predicted_class_idx = np.argmax(predictions[0])\n",
    "    predicted_label = ACTUAL_CLASS_MAPPING[predicted_class_idx]\n",
    "    confidence = predictions[0][predicted_class_idx] * 100\n",
    "    \n",
    "    # Get zone information\n",
    "    zone_info = CLASS_INFO[predicted_label]\n",
    "    \n",
    "    # Build result dictionary\n",
    "    result = {\n",
    "        'predicted_class': predicted_label,\n",
    "        'predicted_class_idx': predicted_class_idx,\n",
    "        'confidence': confidence,\n",
    "        'probabilities': {ACTUAL_CLASS_MAPPING[i]: predictions[0][i] * 100 \n",
    "                         for i in range(len(ACTUAL_CLASS_MAPPING))},\n",
    "        'zone': zone_info['zone'],\n",
    "        'risk_level': zone_info['risk'],\n",
    "        'class_name': zone_info['name'],\n",
    "        'description': zone_info['description'],\n",
    "        'recommendation': zone_info['recommendation'],\n",
    "        'clinical_note': zone_info['clinical_note'],\n",
    "        'action': zone_info['action'],\n",
    "        'color': zone_info['color'],\n",
    "        'bg_color': zone_info['bg_color']\n",
    "    }\n",
    "    \n",
    "    return result\n",
    "\n",
    "print(\"✅ Enhanced prediction function created!\")"
   ]
  },
  {
   "cell_type": "code",
   "execution_count": 4,
   "id": "d9bd3ece-c253-45fa-90e2-2daafa8462f8",
   "metadata": {},
   "outputs": [
    {
     "name": "stdout",
     "output_type": "stream",
     "text": [
      "✅ Comprehensive visualization function created!\n"
     ]
    }
   ],
   "source": [
    "def visualize_ecg_with_zones(ecg_signal, result, heatmap, true_label=None, \n",
    "                             record_name=None, beat_index=None):\n",
    "    \"\"\"\n",
    "    Create comprehensive visualization with zone classification\n",
    "    \n",
    "    Args:\n",
    "        ecg_signal: ECG segment (1, 100, 1) or (100,)\n",
    "        result: Result dictionary from predict_with_zones\n",
    "        heatmap: Grad-CAM heatmap\n",
    "        true_label: Actual label (optional)\n",
    "        record_name: Record name (optional)\n",
    "        beat_index: Beat index (optional)\n",
    "    \"\"\"\n",
    "    # Flatten ECG signal if needed\n",
    "    if ecg_signal.ndim > 1:\n",
    "        ecg_signal = ecg_signal.reshape(-1)\n",
    "    \n",
    "    # Create figure\n",
    "    fig = plt.figure(figsize=(18, 14))\n",
    "    gs = fig.add_gridspec(5, 2, hspace=0.35, wspace=0.25)\n",
    "    \n",
    "    # Title\n",
    "    title_text = 'ECG ARRHYTHMIA DETECTION WITH EXPLAINABLE AI\\n'\n",
    "    if record_name and beat_index:\n",
    "        title_text += f'Record: {record_name}, Beat Index: {beat_index}'\n",
    "    fig.suptitle(title_text, fontsize=18, fontweight='bold', y=0.98)\n",
    "    \n",
    "    # 1. ECG Signal with Grad-CAM Overlay\n",
    "    ax1 = fig.add_subplot(gs[0, :])\n",
    "    time = np.arange(len(ecg_signal))\n",
    "    \n",
    "    # Plot heatmap overlay\n",
    "    for i in range(len(ecg_signal)-1):\n",
    "        ax1.axvspan(i, i+1, alpha=heatmap[i]*0.6, color='red', zorder=1)\n",
    "    \n",
    "    # Plot ECG signal\n",
    "    ax1.plot(time, ecg_signal, 'b-', linewidth=2.5, label='ECG Signal', zorder=2)\n",
    "    ax1.set_xlabel('Sample Index', fontsize=12, fontweight='bold')\n",
    "    ax1.set_ylabel('Normalized Amplitude', fontsize=12, fontweight='bold')\n",
    "    ax1.set_title('ECG Signal with Grad-CAM Explainability\\n(Red intensity shows critical regions)', \n",
    "                  fontsize=14, fontweight='bold', pad=15)\n",
    "    ax1.grid(True, alpha=0.3, linestyle='--')\n",
    "    ax1.legend(loc='upper right', fontsize=11)\n",
    "    \n",
    "    # 2. Zone Classification Panel\n",
    "    ax2 = fig.add_subplot(gs[1, 0])\n",
    "    ax2.axis('off')\n",
    "    \n",
    "    zone_text = f\"\"\"\n",
    "╔═══════════════════════════════════════════════════╗\n",
    "║           ZONE CLASSIFICATION                     ║\n",
    "╠═══════════════════════════════════════════════════╣\n",
    "║                                                   ║\n",
    "║  {result['zone']:47s} ║\n",
    "║  Risk Level: {result['risk_level']:36s} ║\n",
    "║                                                   ║\n",
    "║  Predicted: {result['predicted_class']:2s} - {result['class_name']:31s} ║\n",
    "║  Confidence: {result['confidence']:5.2f}%                            ║\n",
    "\"\"\"\n",
    "    if true_label:\n",
    "        zone_text += f\"║  True Label: {true_label:36s} ║\\n\"\n",
    "    \n",
    "    zone_text += \"\"\"║                                                   ║\n",
    "╚═══════════════════════════════════════════════════╝\n",
    "    \"\"\"\n",
    "    \n",
    "    ax2.text(0.05, 0.5, zone_text, fontsize=11, family='monospace',\n",
    "            verticalalignment='center',\n",
    "            bbox=dict(boxstyle='round', facecolor=result['bg_color'], \n",
    "                     edgecolor=result['color'], linewidth=3, alpha=0.8, pad=1.5))\n",
    "    \n",
    "    # 3. Class Probabilities Bar Chart\n",
    "    ax3 = fig.add_subplot(gs[1, 1])\n",
    "    classes = list(result['probabilities'].keys())\n",
    "    probs = list(result['probabilities'].values())\n",
    "    colors = [result['color'] if c == result['predicted_class'] \n",
    "             else '#5dade2' for c in classes]\n",
    "    \n",
    "    bars = ax3.barh(classes, probs, color=colors, edgecolor='black', linewidth=1.5)\n",
    "    ax3.set_xlabel('Confidence (%)', fontsize=12, fontweight='bold')\n",
    "    ax3.set_title('Class Probability Distribution', fontsize=14, fontweight='bold', pad=15)\n",
    "    ax3.set_xlim([0, 105])\n",
    "    ax3.grid(axis='x', alpha=0.3, linestyle='--')\n",
    "    \n",
    "    # Add percentage labels\n",
    "    for bar, prob in zip(bars, probs):\n",
    "        ax3.text(prob + 2, bar.get_y() + bar.get_height()/2, \n",
    "                f'{prob:.1f}%', va='center', fontsize=11, fontweight='bold')\n",
    "    \n",
    "    # 4. Grad-CAM Heatmap\n",
    "    ax4 = fig.add_subplot(gs[2, :])\n",
    "    im = ax4.imshow(heatmap[np.newaxis, :], cmap='hot', aspect='auto',\n",
    "                   extent=[0, 100, 0, 1], interpolation='bilinear')\n",
    "    ax4.set_title('Grad-CAM Attention Heatmap (Critical Regions for Prediction)', \n",
    "                 fontsize=14, fontweight='bold', pad=15)\n",
    "    ax4.set_xlabel('Sample Index', fontsize=12, fontweight='bold')\n",
    "    ax4.set_yticks([])\n",
    "    cbar = plt.colorbar(im, ax=ax4, label='Attention Weight', fraction=0.046, pad=0.04)\n",
    "    cbar.ax.tick_params(labelsize=10)\n",
    "    \n",
    "    # 5. Clinical Interpretation\n",
    "    ax5 = fig.add_subplot(gs[3, :])\n",
    "    ax5.axis('off')\n",
    "    \n",
    "    clinical_text = f\"\"\"\n",
    "╔════════════════════════════════════════════════════════════════════════════════════════════════════╗\n",
    "║                                  CLINICAL INTERPRETATION                                           ║\n",
    "╠════════════════════════════════════════════════════════════════════════════════════════════════════╣\n",
    "║                                                                                                    ║\n",
    "║  Description:                                                                                      ║\n",
    "║  {result['description']:96s} ║\n",
    "║                                                                                                    ║\n",
    "║  Clinical Note:                                                                                    ║\n",
    "║  {result['clinical_note']:96s} ║\n",
    "║                                                                                                    ║\n",
    "╚════════════════════════════════════════════════════════════════════════════════════════════════════╝\n",
    "    \"\"\"\n",
    "    \n",
    "    ax5.text(0.05, 0.5, clinical_text, fontsize=10, family='monospace',\n",
    "            verticalalignment='center',\n",
    "            bbox=dict(boxstyle='round', facecolor=result['bg_color'], \n",
    "                     edgecolor=result['color'], linewidth=2, alpha=0.6, pad=2))\n",
    "    \n",
    "    # 6. Recommendation & Action\n",
    "    ax6 = fig.add_subplot(gs[4, :])\n",
    "    ax6.axis('off')\n",
    "    \n",
    "    action_text = f\"\"\"\n",
    "╔════════════════════════════════════════════════════════════════════════════════════════════════════╗\n",
    "║                                  RECOMMENDATION & ACTION                                           ║\n",
    "╠════════════════════════════════════════════════════════════════════════════════════════════════════╣\n",
    "║                                                                                                    ║\n",
    "║  Recommendation:                                                                                   ║\n",
    "║  {result['recommendation']:96s} ║\n",
    "║                                                                                                    ║\n",
    "║  Required Action:                                                                                  ║\n",
    "║  {result['action']:96s} ║\n",
    "║                                                                                                    ║\n",
    "╚════════════════════════════════════════════════════════════════════════════════════════════════════╝\n",
    "\n",
    "    ⚠️  DISCLAIMER: This is an AI-assisted diagnostic tool. All predictions should be verified by \n",
    "        qualified healthcare professionals. Do not use for emergency medical decisions.\n",
    "    \"\"\"\n",
    "    \n",
    "    action_text_color = result['bg_color']\n",
    "    if result['risk_level'] == 'Critical Risk':\n",
    "        action_text_color = '#ffcccc'\n",
    "    \n",
    "    ax6.text(0.05, 0.5, action_text, fontsize=10, family='monospace',\n",
    "            verticalalignment='center',\n",
    "            bbox=dict(boxstyle='round', facecolor=action_text_color,\n",
    "                     edgecolor=result['color'], linewidth=2, alpha=0.7, pad=2))\n",
    "    \n",
    "    plt.tight_layout()\n",
    "    return fig\n",
    "\n",
    "print(\"✅ Comprehensive visualization function created!\")"
   ]
  },
  {
   "cell_type": "code",
   "execution_count": 5,
   "id": "84831bb5-d112-4eb4-9c51-1abeca6798a1",
   "metadata": {},
   "outputs": [
    {
     "name": "stdout",
     "output_type": "stream",
     "text": [
      "✅ Complete analysis function ready!\n"
     ]
    }
   ],
   "source": [
    "def analyze_ecg_complete(record_name='100', beat_index=250, save_fig=False):\n",
    "    \"\"\"\n",
    "    Complete ECG analysis pipeline with zones\n",
    "    \n",
    "    Args:\n",
    "        record_name: MIT-BIH record number\n",
    "        beat_index: Beat index to analyze\n",
    "        save_fig: Whether to save the figure\n",
    "    \n",
    "    Returns:\n",
    "        result dictionary\n",
    "    \"\"\"\n",
    "    print(\"=\"*80)\n",
    "    print(f\"ANALYZING RECORD {record_name}, BEAT INDEX {beat_index}\")\n",
    "    print(\"=\"*80)\n",
    "    \n",
    "    # Step 1: Get ECG segment\n",
    "    print(\"\\n📊 Step 1: Loading ECG data...\")\n",
    "    input_signal_segment, true_label = get_sample_beat(record_name, beat_index)\n",
    "    \n",
    "    if input_signal_segment is None:\n",
    "        print(\"❌ Failed to load ECG segment\")\n",
    "        return None\n",
    "    \n",
    "    print(f\"✅ Loaded ECG segment. True label: {true_label}\")\n",
    "    \n",
    "    # Step 2: Make prediction\n",
    "    print(\"\\n🔍 Step 2: Making prediction with zone classification...\")\n",
    "    model_input = input_signal_segment.reshape(1, 1, 100, 1)\n",
    "    result = predict_with_zones(model_input, model)\n",
    "    \n",
    "    # Step 3: Generate Grad-CAM\n",
    "    print(\"\\n🧠 Step 3: Generating Grad-CAM explainability...\")\n",
    "    last_conv_layer_name = None\n",
    "    for layer in reversed(model.layers):\n",
    "        if hasattr(layer, 'layer') and hasattr(layer.layer, 'filters'):\n",
    "            last_conv_layer_name = layer.name\n",
    "            break\n",
    "    \n",
    "    heatmap = generate_grad_cam(model, model_input, result['predicted_class_idx'], \n",
    "                               last_conv_layer_name)\n",
    "    \n",
    "    # Step 4: Print results\n",
    "    print(\"\\n\" + \"=\"*80)\n",
    "    print(\"ANALYSIS RESULTS\")\n",
    "    print(\"=\"*80)\n",
    "    print(f\"\\n{result['zone']}\")\n",
    "    print(f\"Risk Level: {result['risk_level']}\")\n",
    "    print(f\"\\nTrue Label: {true_label}\")\n",
    "    print(f\"Predicted: {result['predicted_class']} - {result['class_name']}\")\n",
    "    print(f\"Confidence: {result['confidence']:.2f}%\")\n",
    "    print(f\"\\nDescription: {result['description']}\")\n",
    "    print(f\"\\nRecommendation: {result['recommendation']}\")\n",
    "    print(f\"\\nAction Required: {result['action']}\")\n",
    "    print(\"\\n\" + \"=\"*80)\n",
    "    print(\"\\nAll Class Probabilities:\")\n",
    "    for cls, prob in result['probabilities'].items():\n",
    "        marker = \"✓\" if cls == result['predicted_class'] else \" \"\n",
    "        print(f\"  {marker} {cls}: {prob:6.2f}%\")\n",
    "    print(\"=\"*80)\n",
    "    \n",
    "    # Step 5: Visualize\n",
    "    print(\"\\n📈 Step 4: Creating visualization...\")\n",
    "    fig = visualize_ecg_with_zones(\n",
    "        input_signal_segment, result, heatmap, \n",
    "        true_label, record_name, beat_index\n",
    "    )\n",
    "    \n",
    "    if save_fig:\n",
    "        filename = f\"ecg_analysis_{record_name}_{beat_index}.png\"\n",
    "        fig.savefig(filename, dpi=300, bbox_inches='tight')\n",
    "        print(f\"✅ Figure saved to: {filename}\")\n",
    "    \n",
    "    plt.show()\n",
    "    \n",
    "    return result\n",
    "\n",
    "print(\"✅ Complete analysis function ready!\")"
   ]
  },
  {
   "cell_type": "code",
   "execution_count": 15,
   "id": "6c0319e4-e716-4b2f-b27a-baedb4e2b977",
   "metadata": {},
   "outputs": [
    {
     "name": "stdout",
     "output_type": "stream",
     "text": [
      "Model type: <class 'keras.src.models.sequential.Sequential'>\n"
     ]
    },
    {
     "ename": "AttributeError",
     "evalue": "The layer sequential has never been called and thus has no defined input.",
     "output_type": "error",
     "traceback": [
      "\u001b[1;31m---------------------------------------------------------------------------\u001b[0m",
      "\u001b[1;31mAttributeError\u001b[0m                            Traceback (most recent call last)",
      "Cell \u001b[1;32mIn[15], line 2\u001b[0m\n\u001b[0;32m      1\u001b[0m \u001b[38;5;28mprint\u001b[39m(\u001b[38;5;124m\"\u001b[39m\u001b[38;5;124mModel type:\u001b[39m\u001b[38;5;124m\"\u001b[39m, \u001b[38;5;28mtype\u001b[39m(model))\n\u001b[1;32m----> 2\u001b[0m \u001b[38;5;28mprint\u001b[39m(\u001b[38;5;124m\"\u001b[39m\u001b[38;5;124mModel input:\u001b[39m\u001b[38;5;124m\"\u001b[39m, \u001b[43mmodel\u001b[49m\u001b[38;5;241;43m.\u001b[39;49m\u001b[43minput\u001b[49m)\n\u001b[0;32m      3\u001b[0m \u001b[38;5;28mprint\u001b[39m(\u001b[38;5;124m\"\u001b[39m\u001b[38;5;124mModel output:\u001b[39m\u001b[38;5;124m\"\u001b[39m, model\u001b[38;5;241m.\u001b[39moutput)\n",
      "File \u001b[1;32m~\\miniconda3\\envs\\myenv\\lib\\site-packages\\keras\\src\\ops\\operation.py:276\u001b[0m, in \u001b[0;36mOperation.input\u001b[1;34m(self)\u001b[0m\n\u001b[0;32m    266\u001b[0m \u001b[38;5;129m@property\u001b[39m\n\u001b[0;32m    267\u001b[0m \u001b[38;5;28;01mdef\u001b[39;00m\u001b[38;5;250m \u001b[39m\u001b[38;5;21minput\u001b[39m(\u001b[38;5;28mself\u001b[39m):\n\u001b[0;32m    268\u001b[0m \u001b[38;5;250m    \u001b[39m\u001b[38;5;124;03m\"\"\"Retrieves the input tensor(s) of a symbolic operation.\u001b[39;00m\n\u001b[0;32m    269\u001b[0m \n\u001b[0;32m    270\u001b[0m \u001b[38;5;124;03m    Only returns the tensor(s) corresponding to the *first time*\u001b[39;00m\n\u001b[1;32m   (...)\u001b[0m\n\u001b[0;32m    274\u001b[0m \u001b[38;5;124;03m        Input tensor or list of input tensors.\u001b[39;00m\n\u001b[0;32m    275\u001b[0m \u001b[38;5;124;03m    \"\"\"\u001b[39;00m\n\u001b[1;32m--> 276\u001b[0m     \u001b[38;5;28;01mreturn\u001b[39;00m \u001b[38;5;28;43mself\u001b[39;49m\u001b[38;5;241;43m.\u001b[39;49m\u001b[43m_get_node_attribute_at_index\u001b[49m\u001b[43m(\u001b[49m\u001b[38;5;241;43m0\u001b[39;49m\u001b[43m,\u001b[49m\u001b[43m \u001b[49m\u001b[38;5;124;43m\"\u001b[39;49m\u001b[38;5;124;43minput_tensors\u001b[39;49m\u001b[38;5;124;43m\"\u001b[39;49m\u001b[43m,\u001b[49m\u001b[43m \u001b[49m\u001b[38;5;124;43m\"\u001b[39;49m\u001b[38;5;124;43minput\u001b[39;49m\u001b[38;5;124;43m\"\u001b[39;49m\u001b[43m)\u001b[49m\n",
      "File \u001b[1;32m~\\miniconda3\\envs\\myenv\\lib\\site-packages\\keras\\src\\ops\\operation.py:307\u001b[0m, in \u001b[0;36mOperation._get_node_attribute_at_index\u001b[1;34m(self, node_index, attr, attr_name)\u001b[0m\n\u001b[0;32m    291\u001b[0m \u001b[38;5;250m\u001b[39m\u001b[38;5;124;03m\"\"\"Private utility to retrieves an attribute (e.g. inputs) from a node.\u001b[39;00m\n\u001b[0;32m    292\u001b[0m \n\u001b[0;32m    293\u001b[0m \u001b[38;5;124;03mThis is used to implement the properties:\u001b[39;00m\n\u001b[1;32m   (...)\u001b[0m\n\u001b[0;32m    304\u001b[0m \u001b[38;5;124;03m    The operation's attribute `attr` at the node of index `node_index`.\u001b[39;00m\n\u001b[0;32m    305\u001b[0m \u001b[38;5;124;03m\"\"\"\u001b[39;00m\n\u001b[0;32m    306\u001b[0m \u001b[38;5;28;01mif\u001b[39;00m \u001b[38;5;129;01mnot\u001b[39;00m \u001b[38;5;28mself\u001b[39m\u001b[38;5;241m.\u001b[39m_inbound_nodes:\n\u001b[1;32m--> 307\u001b[0m     \u001b[38;5;28;01mraise\u001b[39;00m \u001b[38;5;167;01mAttributeError\u001b[39;00m(\n\u001b[0;32m    308\u001b[0m         \u001b[38;5;124mf\u001b[39m\u001b[38;5;124m\"\u001b[39m\u001b[38;5;124mThe layer \u001b[39m\u001b[38;5;132;01m{\u001b[39;00m\u001b[38;5;28mself\u001b[39m\u001b[38;5;241m.\u001b[39mname\u001b[38;5;132;01m}\u001b[39;00m\u001b[38;5;124m has never been called \u001b[39m\u001b[38;5;124m\"\u001b[39m\n\u001b[0;32m    309\u001b[0m         \u001b[38;5;124mf\u001b[39m\u001b[38;5;124m\"\u001b[39m\u001b[38;5;124mand thus has no defined \u001b[39m\u001b[38;5;132;01m{\u001b[39;00mattr_name\u001b[38;5;132;01m}\u001b[39;00m\u001b[38;5;124m.\u001b[39m\u001b[38;5;124m\"\u001b[39m\n\u001b[0;32m    310\u001b[0m     )\n\u001b[0;32m    311\u001b[0m \u001b[38;5;28;01mif\u001b[39;00m \u001b[38;5;129;01mnot\u001b[39;00m \u001b[38;5;28mlen\u001b[39m(\u001b[38;5;28mself\u001b[39m\u001b[38;5;241m.\u001b[39m_inbound_nodes) \u001b[38;5;241m>\u001b[39m node_index:\n\u001b[0;32m    312\u001b[0m     \u001b[38;5;28;01mraise\u001b[39;00m \u001b[38;5;167;01mValueError\u001b[39;00m(\n\u001b[0;32m    313\u001b[0m         \u001b[38;5;124mf\u001b[39m\u001b[38;5;124m\"\u001b[39m\u001b[38;5;124mAsked to get \u001b[39m\u001b[38;5;132;01m{\u001b[39;00mattr_name\u001b[38;5;132;01m}\u001b[39;00m\u001b[38;5;124m at node \u001b[39m\u001b[38;5;124m\"\u001b[39m\n\u001b[0;32m    314\u001b[0m         \u001b[38;5;124mf\u001b[39m\u001b[38;5;124m\"\u001b[39m\u001b[38;5;132;01m{\u001b[39;00mnode_index\u001b[38;5;132;01m}\u001b[39;00m\u001b[38;5;124m, but the operation has only \u001b[39m\u001b[38;5;124m\"\u001b[39m\n\u001b[0;32m    315\u001b[0m         \u001b[38;5;124mf\u001b[39m\u001b[38;5;124m\"\u001b[39m\u001b[38;5;132;01m{\u001b[39;00m\u001b[38;5;28mlen\u001b[39m(\u001b[38;5;28mself\u001b[39m\u001b[38;5;241m.\u001b[39m_inbound_nodes)\u001b[38;5;132;01m}\u001b[39;00m\u001b[38;5;124m inbound nodes.\u001b[39m\u001b[38;5;124m\"\u001b[39m\n\u001b[0;32m    316\u001b[0m     )\n",
      "\u001b[1;31mAttributeError\u001b[0m: The layer sequential has never been called and thus has no defined input."
     ]
    }
   ],
   "source": [
    "print(\"Model type:\", type(model))\n",
    "print(\"Model input:\", model.input)\n",
    "print(\"Model output:\", model.output)"
   ]
  },
  {
   "cell_type": "code",
   "execution_count": 14,
   "id": "b41ed7c1-1a19-4373-b809-d337609a6801",
   "metadata": {},
   "outputs": [
    {
     "name": "stdout",
     "output_type": "stream",
     "text": [
      "================================================================================\n",
      "ANALYZING RECORD 100, BEAT INDEX 1500\n",
      "================================================================================\n",
      "\n",
      "📊 Step 1: Loading ECG data...\n",
      "✅ Loaded ECG segment. True label: N\n",
      "\n",
      "🔍 Step 2: Making prediction with zone classification...\n",
      "\n",
      "🧠 Step 3: Generating Grad-CAM explainability...\n"
     ]
    },
    {
     "ename": "AttributeError",
     "evalue": "The layer sequential has never been called and thus has no defined output.",
     "output_type": "error",
     "traceback": [
      "\u001b[1;31m---------------------------------------------------------------------------\u001b[0m",
      "\u001b[1;31mAttributeError\u001b[0m                            Traceback (most recent call last)",
      "Cell \u001b[1;32mIn[14], line 2\u001b[0m\n\u001b[0;32m      1\u001b[0m \u001b[38;5;66;03m# Analyze a normal beat\u001b[39;00m\n\u001b[1;32m----> 2\u001b[0m result_1 \u001b[38;5;241m=\u001b[39m \u001b[43manalyze_ecg_complete\u001b[49m\u001b[43m(\u001b[49m\u001b[43mrecord_name\u001b[49m\u001b[38;5;241;43m=\u001b[39;49m\u001b[38;5;124;43m'\u001b[39;49m\u001b[38;5;124;43m100\u001b[39;49m\u001b[38;5;124;43m'\u001b[39;49m\u001b[43m,\u001b[49m\u001b[43m \u001b[49m\u001b[43mbeat_index\u001b[49m\u001b[38;5;241;43m=\u001b[39;49m\u001b[38;5;241;43m1500\u001b[39;49m\u001b[43m,\u001b[49m\u001b[43m \u001b[49m\u001b[43msave_fig\u001b[49m\u001b[38;5;241;43m=\u001b[39;49m\u001b[38;5;28;43;01mTrue\u001b[39;49;00m\u001b[43m)\u001b[49m\n",
      "Cell \u001b[1;32mIn[5], line 40\u001b[0m, in \u001b[0;36manalyze_ecg_complete\u001b[1;34m(record_name, beat_index, save_fig)\u001b[0m\n\u001b[0;32m     37\u001b[0m         last_conv_layer_name \u001b[38;5;241m=\u001b[39m layer\u001b[38;5;241m.\u001b[39mname\n\u001b[0;32m     38\u001b[0m         \u001b[38;5;28;01mbreak\u001b[39;00m\n\u001b[1;32m---> 40\u001b[0m heatmap \u001b[38;5;241m=\u001b[39m \u001b[43mgenerate_grad_cam\u001b[49m\u001b[43m(\u001b[49m\u001b[43mmodel\u001b[49m\u001b[43m,\u001b[49m\u001b[43m \u001b[49m\u001b[43mmodel_input\u001b[49m\u001b[43m,\u001b[49m\u001b[43m \u001b[49m\u001b[43mresult\u001b[49m\u001b[43m[\u001b[49m\u001b[38;5;124;43m'\u001b[39;49m\u001b[38;5;124;43mpredicted_class_idx\u001b[39;49m\u001b[38;5;124;43m'\u001b[39;49m\u001b[43m]\u001b[49m\u001b[43m,\u001b[49m\u001b[43m \u001b[49m\n\u001b[0;32m     41\u001b[0m \u001b[43m                           \u001b[49m\u001b[43mlast_conv_layer_name\u001b[49m\u001b[43m)\u001b[49m\n\u001b[0;32m     43\u001b[0m \u001b[38;5;66;03m# Step 4: Print results\u001b[39;00m\n\u001b[0;32m     44\u001b[0m \u001b[38;5;28mprint\u001b[39m(\u001b[38;5;124m\"\u001b[39m\u001b[38;5;130;01m\\n\u001b[39;00m\u001b[38;5;124m\"\u001b[39m \u001b[38;5;241m+\u001b[39m \u001b[38;5;124m\"\u001b[39m\u001b[38;5;124m=\u001b[39m\u001b[38;5;124m\"\u001b[39m\u001b[38;5;241m*\u001b[39m\u001b[38;5;241m80\u001b[39m)\n",
      "File \u001b[1;32m~\\Documents\\sample_project\\Arrythmia Detection\\predict.py:127\u001b[0m, in \u001b[0;36mgenerate_grad_cam\u001b[1;34m(model, input_signal, class_idx, last_conv_layer_name)\u001b[0m\n\u001b[0;32m    122\u001b[0m         \u001b[38;5;28;01mraise\u001b[39;00m \u001b[38;5;167;01mValueError\u001b[39;00m(\u001b[38;5;124m\"\u001b[39m\u001b[38;5;124mCould not find a Conv1D layer for Grad-CAM. \u001b[39m\u001b[38;5;124m\"\u001b[39m\n\u001b[0;32m    123\u001b[0m                          \u001b[38;5;124m\"\u001b[39m\u001b[38;5;124mPlease specify \u001b[39m\u001b[38;5;124m'\u001b[39m\u001b[38;5;124mlast_conv_layer_name\u001b[39m\u001b[38;5;124m'\u001b[39m\u001b[38;5;124m.\u001b[39m\u001b[38;5;124m\"\u001b[39m)\n\u001b[0;32m    125\u001b[0m \u001b[38;5;66;03m# Create a model that outputs both the feature map and the final prediction\u001b[39;00m\n\u001b[0;32m    126\u001b[0m grad_model \u001b[38;5;241m=\u001b[39m Model(\n\u001b[1;32m--> 127\u001b[0m     [model\u001b[38;5;241m.\u001b[39minputs], [model\u001b[38;5;241m.\u001b[39mget_layer(last_conv_layer_name)\u001b[38;5;241m.\u001b[39moutput, \u001b[43mmodel\u001b[49m\u001b[38;5;241;43m.\u001b[39;49m\u001b[43moutput\u001b[49m]\n\u001b[0;32m    128\u001b[0m )\n\u001b[0;32m    130\u001b[0m \u001b[38;5;28;01mwith\u001b[39;00m tf\u001b[38;5;241m.\u001b[39mGradientTape() \u001b[38;5;28;01mas\u001b[39;00m tape:\n\u001b[0;32m    131\u001b[0m     last_conv_output, predictions \u001b[38;5;241m=\u001b[39m grad_model(input_signal)\n",
      "File \u001b[1;32m~\\miniconda3\\envs\\myenv\\lib\\site-packages\\keras\\src\\ops\\operation.py:288\u001b[0m, in \u001b[0;36mOperation.output\u001b[1;34m(self)\u001b[0m\n\u001b[0;32m    278\u001b[0m \u001b[38;5;129m@property\u001b[39m\n\u001b[0;32m    279\u001b[0m \u001b[38;5;28;01mdef\u001b[39;00m\u001b[38;5;250m \u001b[39m\u001b[38;5;21moutput\u001b[39m(\u001b[38;5;28mself\u001b[39m):\n\u001b[0;32m    280\u001b[0m \u001b[38;5;250m    \u001b[39m\u001b[38;5;124;03m\"\"\"Retrieves the output tensor(s) of a layer.\u001b[39;00m\n\u001b[0;32m    281\u001b[0m \n\u001b[0;32m    282\u001b[0m \u001b[38;5;124;03m    Only returns the tensor(s) corresponding to the *first time*\u001b[39;00m\n\u001b[1;32m   (...)\u001b[0m\n\u001b[0;32m    286\u001b[0m \u001b[38;5;124;03m        Output tensor or list of output tensors.\u001b[39;00m\n\u001b[0;32m    287\u001b[0m \u001b[38;5;124;03m    \"\"\"\u001b[39;00m\n\u001b[1;32m--> 288\u001b[0m     \u001b[38;5;28;01mreturn\u001b[39;00m \u001b[38;5;28;43mself\u001b[39;49m\u001b[38;5;241;43m.\u001b[39;49m\u001b[43m_get_node_attribute_at_index\u001b[49m\u001b[43m(\u001b[49m\u001b[38;5;241;43m0\u001b[39;49m\u001b[43m,\u001b[49m\u001b[43m \u001b[49m\u001b[38;5;124;43m\"\u001b[39;49m\u001b[38;5;124;43moutput_tensors\u001b[39;49m\u001b[38;5;124;43m\"\u001b[39;49m\u001b[43m,\u001b[49m\u001b[43m \u001b[49m\u001b[38;5;124;43m\"\u001b[39;49m\u001b[38;5;124;43moutput\u001b[39;49m\u001b[38;5;124;43m\"\u001b[39;49m\u001b[43m)\u001b[49m\n",
      "File \u001b[1;32m~\\miniconda3\\envs\\myenv\\lib\\site-packages\\keras\\src\\ops\\operation.py:307\u001b[0m, in \u001b[0;36mOperation._get_node_attribute_at_index\u001b[1;34m(self, node_index, attr, attr_name)\u001b[0m\n\u001b[0;32m    291\u001b[0m \u001b[38;5;250m\u001b[39m\u001b[38;5;124;03m\"\"\"Private utility to retrieves an attribute (e.g. inputs) from a node.\u001b[39;00m\n\u001b[0;32m    292\u001b[0m \n\u001b[0;32m    293\u001b[0m \u001b[38;5;124;03mThis is used to implement the properties:\u001b[39;00m\n\u001b[1;32m   (...)\u001b[0m\n\u001b[0;32m    304\u001b[0m \u001b[38;5;124;03m    The operation's attribute `attr` at the node of index `node_index`.\u001b[39;00m\n\u001b[0;32m    305\u001b[0m \u001b[38;5;124;03m\"\"\"\u001b[39;00m\n\u001b[0;32m    306\u001b[0m \u001b[38;5;28;01mif\u001b[39;00m \u001b[38;5;129;01mnot\u001b[39;00m \u001b[38;5;28mself\u001b[39m\u001b[38;5;241m.\u001b[39m_inbound_nodes:\n\u001b[1;32m--> 307\u001b[0m     \u001b[38;5;28;01mraise\u001b[39;00m \u001b[38;5;167;01mAttributeError\u001b[39;00m(\n\u001b[0;32m    308\u001b[0m         \u001b[38;5;124mf\u001b[39m\u001b[38;5;124m\"\u001b[39m\u001b[38;5;124mThe layer \u001b[39m\u001b[38;5;132;01m{\u001b[39;00m\u001b[38;5;28mself\u001b[39m\u001b[38;5;241m.\u001b[39mname\u001b[38;5;132;01m}\u001b[39;00m\u001b[38;5;124m has never been called \u001b[39m\u001b[38;5;124m\"\u001b[39m\n\u001b[0;32m    309\u001b[0m         \u001b[38;5;124mf\u001b[39m\u001b[38;5;124m\"\u001b[39m\u001b[38;5;124mand thus has no defined \u001b[39m\u001b[38;5;132;01m{\u001b[39;00mattr_name\u001b[38;5;132;01m}\u001b[39;00m\u001b[38;5;124m.\u001b[39m\u001b[38;5;124m\"\u001b[39m\n\u001b[0;32m    310\u001b[0m     )\n\u001b[0;32m    311\u001b[0m \u001b[38;5;28;01mif\u001b[39;00m \u001b[38;5;129;01mnot\u001b[39;00m \u001b[38;5;28mlen\u001b[39m(\u001b[38;5;28mself\u001b[39m\u001b[38;5;241m.\u001b[39m_inbound_nodes) \u001b[38;5;241m>\u001b[39m node_index:\n\u001b[0;32m    312\u001b[0m     \u001b[38;5;28;01mraise\u001b[39;00m \u001b[38;5;167;01mValueError\u001b[39;00m(\n\u001b[0;32m    313\u001b[0m         \u001b[38;5;124mf\u001b[39m\u001b[38;5;124m\"\u001b[39m\u001b[38;5;124mAsked to get \u001b[39m\u001b[38;5;132;01m{\u001b[39;00mattr_name\u001b[38;5;132;01m}\u001b[39;00m\u001b[38;5;124m at node \u001b[39m\u001b[38;5;124m\"\u001b[39m\n\u001b[0;32m    314\u001b[0m         \u001b[38;5;124mf\u001b[39m\u001b[38;5;124m\"\u001b[39m\u001b[38;5;132;01m{\u001b[39;00mnode_index\u001b[38;5;132;01m}\u001b[39;00m\u001b[38;5;124m, but the operation has only \u001b[39m\u001b[38;5;124m\"\u001b[39m\n\u001b[0;32m    315\u001b[0m         \u001b[38;5;124mf\u001b[39m\u001b[38;5;124m\"\u001b[39m\u001b[38;5;132;01m{\u001b[39;00m\u001b[38;5;28mlen\u001b[39m(\u001b[38;5;28mself\u001b[39m\u001b[38;5;241m.\u001b[39m_inbound_nodes)\u001b[38;5;132;01m}\u001b[39;00m\u001b[38;5;124m inbound nodes.\u001b[39m\u001b[38;5;124m\"\u001b[39m\n\u001b[0;32m    316\u001b[0m     )\n",
      "\u001b[1;31mAttributeError\u001b[0m: The layer sequential has never been called and thus has no defined output."
     ]
    }
   ],
   "source": [
    "# Analyze a normal beat\n",
    "result_1 = analyze_ecg_complete(record_name='100', beat_index=1500, save_fig=True)"
   ]
  },
  {
   "cell_type": "code",
   "execution_count": 18,
   "id": "106f526e-3c8b-4d85-a372-440fd0babc68",
   "metadata": {},
   "outputs": [
    {
     "name": "stdout",
     "output_type": "stream",
     "text": [
      "\u001b[1m1/1\u001b[0m \u001b[32m━━━━━━━━━━━━━━━━━━━━\u001b[0m\u001b[37m\u001b[0m \u001b[1m0s\u001b[0m 87ms/step\n",
      "Model was called for prediction.\n"
     ]
    },
    {
     "ename": "AttributeError",
     "evalue": "The layer sequential has never been called and thus has no defined input.",
     "output_type": "error",
     "traceback": [
      "\u001b[1;31m---------------------------------------------------------------------------\u001b[0m",
      "\u001b[1;31mAttributeError\u001b[0m                            Traceback (most recent call last)",
      "Cell \u001b[1;32mIn[18], line 10\u001b[0m\n\u001b[0;32m      7\u001b[0m \u001b[38;5;28mprint\u001b[39m(\u001b[38;5;124m\"\u001b[39m\u001b[38;5;124mModel was called for prediction.\u001b[39m\u001b[38;5;124m\"\u001b[39m)\n\u001b[0;32m      9\u001b[0m \u001b[38;5;66;03m# Now test if input/output are available\u001b[39;00m\n\u001b[1;32m---> 10\u001b[0m \u001b[38;5;28mprint\u001b[39m(\u001b[38;5;124m\"\u001b[39m\u001b[38;5;124mModel input:\u001b[39m\u001b[38;5;124m\"\u001b[39m, \u001b[43mmodel\u001b[49m\u001b[38;5;241;43m.\u001b[39;49m\u001b[43minput\u001b[49m)\n\u001b[0;32m     11\u001b[0m \u001b[38;5;28mprint\u001b[39m(\u001b[38;5;124m\"\u001b[39m\u001b[38;5;124mModel output:\u001b[39m\u001b[38;5;124m\"\u001b[39m, model\u001b[38;5;241m.\u001b[39moutput)\n",
      "File \u001b[1;32m~\\miniconda3\\envs\\myenv\\lib\\site-packages\\keras\\src\\ops\\operation.py:276\u001b[0m, in \u001b[0;36mOperation.input\u001b[1;34m(self)\u001b[0m\n\u001b[0;32m    266\u001b[0m \u001b[38;5;129m@property\u001b[39m\n\u001b[0;32m    267\u001b[0m \u001b[38;5;28;01mdef\u001b[39;00m\u001b[38;5;250m \u001b[39m\u001b[38;5;21minput\u001b[39m(\u001b[38;5;28mself\u001b[39m):\n\u001b[0;32m    268\u001b[0m \u001b[38;5;250m    \u001b[39m\u001b[38;5;124;03m\"\"\"Retrieves the input tensor(s) of a symbolic operation.\u001b[39;00m\n\u001b[0;32m    269\u001b[0m \n\u001b[0;32m    270\u001b[0m \u001b[38;5;124;03m    Only returns the tensor(s) corresponding to the *first time*\u001b[39;00m\n\u001b[1;32m   (...)\u001b[0m\n\u001b[0;32m    274\u001b[0m \u001b[38;5;124;03m        Input tensor or list of input tensors.\u001b[39;00m\n\u001b[0;32m    275\u001b[0m \u001b[38;5;124;03m    \"\"\"\u001b[39;00m\n\u001b[1;32m--> 276\u001b[0m     \u001b[38;5;28;01mreturn\u001b[39;00m \u001b[38;5;28;43mself\u001b[39;49m\u001b[38;5;241;43m.\u001b[39;49m\u001b[43m_get_node_attribute_at_index\u001b[49m\u001b[43m(\u001b[49m\u001b[38;5;241;43m0\u001b[39;49m\u001b[43m,\u001b[49m\u001b[43m \u001b[49m\u001b[38;5;124;43m\"\u001b[39;49m\u001b[38;5;124;43minput_tensors\u001b[39;49m\u001b[38;5;124;43m\"\u001b[39;49m\u001b[43m,\u001b[49m\u001b[43m \u001b[49m\u001b[38;5;124;43m\"\u001b[39;49m\u001b[38;5;124;43minput\u001b[39;49m\u001b[38;5;124;43m\"\u001b[39;49m\u001b[43m)\u001b[49m\n",
      "File \u001b[1;32m~\\miniconda3\\envs\\myenv\\lib\\site-packages\\keras\\src\\ops\\operation.py:307\u001b[0m, in \u001b[0;36mOperation._get_node_attribute_at_index\u001b[1;34m(self, node_index, attr, attr_name)\u001b[0m\n\u001b[0;32m    291\u001b[0m \u001b[38;5;250m\u001b[39m\u001b[38;5;124;03m\"\"\"Private utility to retrieves an attribute (e.g. inputs) from a node.\u001b[39;00m\n\u001b[0;32m    292\u001b[0m \n\u001b[0;32m    293\u001b[0m \u001b[38;5;124;03mThis is used to implement the properties:\u001b[39;00m\n\u001b[1;32m   (...)\u001b[0m\n\u001b[0;32m    304\u001b[0m \u001b[38;5;124;03m    The operation's attribute `attr` at the node of index `node_index`.\u001b[39;00m\n\u001b[0;32m    305\u001b[0m \u001b[38;5;124;03m\"\"\"\u001b[39;00m\n\u001b[0;32m    306\u001b[0m \u001b[38;5;28;01mif\u001b[39;00m \u001b[38;5;129;01mnot\u001b[39;00m \u001b[38;5;28mself\u001b[39m\u001b[38;5;241m.\u001b[39m_inbound_nodes:\n\u001b[1;32m--> 307\u001b[0m     \u001b[38;5;28;01mraise\u001b[39;00m \u001b[38;5;167;01mAttributeError\u001b[39;00m(\n\u001b[0;32m    308\u001b[0m         \u001b[38;5;124mf\u001b[39m\u001b[38;5;124m\"\u001b[39m\u001b[38;5;124mThe layer \u001b[39m\u001b[38;5;132;01m{\u001b[39;00m\u001b[38;5;28mself\u001b[39m\u001b[38;5;241m.\u001b[39mname\u001b[38;5;132;01m}\u001b[39;00m\u001b[38;5;124m has never been called \u001b[39m\u001b[38;5;124m\"\u001b[39m\n\u001b[0;32m    309\u001b[0m         \u001b[38;5;124mf\u001b[39m\u001b[38;5;124m\"\u001b[39m\u001b[38;5;124mand thus has no defined \u001b[39m\u001b[38;5;132;01m{\u001b[39;00mattr_name\u001b[38;5;132;01m}\u001b[39;00m\u001b[38;5;124m.\u001b[39m\u001b[38;5;124m\"\u001b[39m\n\u001b[0;32m    310\u001b[0m     )\n\u001b[0;32m    311\u001b[0m \u001b[38;5;28;01mif\u001b[39;00m \u001b[38;5;129;01mnot\u001b[39;00m \u001b[38;5;28mlen\u001b[39m(\u001b[38;5;28mself\u001b[39m\u001b[38;5;241m.\u001b[39m_inbound_nodes) \u001b[38;5;241m>\u001b[39m node_index:\n\u001b[0;32m    312\u001b[0m     \u001b[38;5;28;01mraise\u001b[39;00m \u001b[38;5;167;01mValueError\u001b[39;00m(\n\u001b[0;32m    313\u001b[0m         \u001b[38;5;124mf\u001b[39m\u001b[38;5;124m\"\u001b[39m\u001b[38;5;124mAsked to get \u001b[39m\u001b[38;5;132;01m{\u001b[39;00mattr_name\u001b[38;5;132;01m}\u001b[39;00m\u001b[38;5;124m at node \u001b[39m\u001b[38;5;124m\"\u001b[39m\n\u001b[0;32m    314\u001b[0m         \u001b[38;5;124mf\u001b[39m\u001b[38;5;124m\"\u001b[39m\u001b[38;5;132;01m{\u001b[39;00mnode_index\u001b[38;5;132;01m}\u001b[39;00m\u001b[38;5;124m, but the operation has only \u001b[39m\u001b[38;5;124m\"\u001b[39m\n\u001b[0;32m    315\u001b[0m         \u001b[38;5;124mf\u001b[39m\u001b[38;5;124m\"\u001b[39m\u001b[38;5;132;01m{\u001b[39;00m\u001b[38;5;28mlen\u001b[39m(\u001b[38;5;28mself\u001b[39m\u001b[38;5;241m.\u001b[39m_inbound_nodes)\u001b[38;5;132;01m}\u001b[39;00m\u001b[38;5;124m inbound nodes.\u001b[39m\u001b[38;5;124m\"\u001b[39m\n\u001b[0;32m    316\u001b[0m     )\n",
      "\u001b[1;31mAttributeError\u001b[0m: The layer sequential has never been called and thus has no defined input."
     ]
    }
   ],
   "source": [
    "import numpy as np\n",
    "\n",
    "# Make an explicit call with a sample input that matches what you use for analysis\n",
    "test_input = np.zeros((1, 1, 100, 1))   # Shape must be batch_size, seq_len, samples, features\n",
    "result = model.predict(test_input)\n",
    "\n",
    "print(\"Model was called for prediction.\")\n",
    "\n",
    "# Now test if input/output are available\n",
    "print(\"Model input:\", model.input)\n",
    "print(\"Model output:\", model.output)"
   ]
  },
  {
   "cell_type": "code",
   "execution_count": 17,
   "id": "97702208-bfd7-4e27-a977-7ff5d3f38173",
   "metadata": {},
   "outputs": [
    {
     "name": "stdout",
     "output_type": "stream",
     "text": [
      "model: <Sequential name=sequential, built=True>\n",
      "test_model: True\n"
     ]
    }
   ],
   "source": [
    "print(\"model:\", model)\n",
    "print(\"test_model:\", 'test_model' in globals())"
   ]
  },
  {
   "cell_type": "code",
   "execution_count": 3,
   "id": "d12bf024-b326-4dd7-bdbb-1b5bbd9e6441",
   "metadata": {},
   "outputs": [
    {
     "name": "stderr",
     "output_type": "stream",
     "text": [
      "WARNING:absl:Compiled the loaded model, but the compiled metrics have yet to be built. `model.compile_metrics` will be empty until you train or evaluate the model.\n"
     ]
    },
    {
     "name": "stdout",
     "output_type": "stream",
     "text": [
      "✅ Model loaded and initialized.\n"
     ]
    }
   ],
   "source": [
    "from predict import generate_grad_cam, get_sample_beat, ACTUAL_CLASS_MAPPING\n",
    "from tensorflow.keras.models import load_model\n",
    "import tensorflow as tf, numpy as np\n",
    "\n",
    "model = load_model(\"model-00006-0.159-0.952-0.002-0.961.h5\")\n",
    "_ = model(np.zeros((1, 1, 100, 1), dtype=np.float32))  # build model graph\n",
    "print(\"✅ Model loaded and initialized.\")"
   ]
  },
  {
   "cell_type": "code",
   "execution_count": 4,
   "id": "da75af2a-63c3-421d-8681-aca44cb62adb",
   "metadata": {},
   "outputs": [
    {
     "name": "stdout",
     "output_type": "stream",
     "text": [
      "\u001b[1m1/1\u001b[0m \u001b[32m━━━━━━━━━━━━━━━━━━━━\u001b[0m\u001b[37m\u001b[0m \u001b[1m1s\u001b[0m 1s/step\n"
     ]
    }
   ],
   "source": [
    "input_signal, true_label = get_sample_beat('100', 250)\n",
    "model_input = input_signal.reshape(1, 1, 100, 1)\n",
    "predictions = model.predict(model_input)\n",
    "pred_idx = np.argmax(predictions[0])"
   ]
  },
  {
   "cell_type": "code",
   "execution_count": 6,
   "id": "0536a0c0-1fdb-4a95-b64e-c3345e495fcd",
   "metadata": {},
   "outputs": [
    {
     "name": "stdout",
     "output_type": "stream",
     "text": [
      "✅ Model graph built successfully.\n"
     ]
    }
   ],
   "source": [
    "# Warm-up the model to build its graph properly\n",
    "dummy_input = np.zeros((1, 1, 100, 1), dtype=np.float32)\n",
    "_ = model(dummy_input)\n",
    "print(\"✅ Model graph built successfully.\")"
   ]
  },
  {
   "cell_type": "code",
   "execution_count": 7,
   "id": "a7b78b2c-77e1-407f-ac15-bc1791f88c8c",
   "metadata": {},
   "outputs": [
    {
     "name": "stdout",
     "output_type": "stream",
     "text": [
      "✅ Using layer: time_distributed_47\n"
     ]
    },
    {
     "ename": "AttributeError",
     "evalue": "The layer sequential_1 has never been called and thus has no defined output.",
     "output_type": "error",
     "traceback": [
      "\u001b[1;31m---------------------------------------------------------------------------\u001b[0m",
      "\u001b[1;31mAttributeError\u001b[0m                            Traceback (most recent call last)",
      "Cell \u001b[1;32mIn[7], line 1\u001b[0m\n\u001b[1;32m----> 1\u001b[0m heatmap \u001b[38;5;241m=\u001b[39m \u001b[43mgenerate_grad_cam\u001b[49m\u001b[43m(\u001b[49m\u001b[43mmodel\u001b[49m\u001b[43m,\u001b[49m\u001b[43m \u001b[49m\u001b[43mmodel_input\u001b[49m\u001b[43m,\u001b[49m\u001b[43m \u001b[49m\u001b[43mpred_idx\u001b[49m\u001b[43m)\u001b[49m\n",
      "File \u001b[1;32m~\\Documents\\sample_project\\Arrythmia Detection\\predict.py:125\u001b[0m, in \u001b[0;36mgenerate_grad_cam\u001b[1;34m(model, input_signal, class_idx, last_conv_layer_name)\u001b[0m\n\u001b[0;32m    120\u001b[0m \u001b[38;5;28mprint\u001b[39m(\u001b[38;5;124mf\u001b[39m\u001b[38;5;124m\"\u001b[39m\u001b[38;5;124m✅ Using layer: \u001b[39m\u001b[38;5;132;01m{\u001b[39;00mtarget_conv_layer\u001b[38;5;241m.\u001b[39mname\u001b[38;5;132;01m}\u001b[39;00m\u001b[38;5;124m\"\u001b[39m)\n\u001b[0;32m    122\u001b[0m \u001b[38;5;66;03m# 2️⃣ Create a model that outputs both the conv feature map and predictions\u001b[39;00m\n\u001b[0;32m    123\u001b[0m grad_model \u001b[38;5;241m=\u001b[39m Model(\n\u001b[0;32m    124\u001b[0m     inputs\u001b[38;5;241m=\u001b[39mmodel\u001b[38;5;241m.\u001b[39minputs,\n\u001b[1;32m--> 125\u001b[0m     outputs\u001b[38;5;241m=\u001b[39m[target_conv_layer\u001b[38;5;241m.\u001b[39moutput, \u001b[43mmodel\u001b[49m\u001b[38;5;241;43m.\u001b[39;49m\u001b[43moutput\u001b[49m]\n\u001b[0;32m    126\u001b[0m )\n\u001b[0;32m    128\u001b[0m \u001b[38;5;66;03m# 3️⃣ Compute gradient of target class w.r.t. conv features\u001b[39;00m\n\u001b[0;32m    129\u001b[0m \u001b[38;5;28;01mwith\u001b[39;00m tf\u001b[38;5;241m.\u001b[39mGradientTape() \u001b[38;5;28;01mas\u001b[39;00m tape:\n",
      "File \u001b[1;32m~\\miniconda3\\envs\\myenv\\lib\\site-packages\\keras\\src\\ops\\operation.py:288\u001b[0m, in \u001b[0;36mOperation.output\u001b[1;34m(self)\u001b[0m\n\u001b[0;32m    278\u001b[0m \u001b[38;5;129m@property\u001b[39m\n\u001b[0;32m    279\u001b[0m \u001b[38;5;28;01mdef\u001b[39;00m\u001b[38;5;250m \u001b[39m\u001b[38;5;21moutput\u001b[39m(\u001b[38;5;28mself\u001b[39m):\n\u001b[0;32m    280\u001b[0m \u001b[38;5;250m    \u001b[39m\u001b[38;5;124;03m\"\"\"Retrieves the output tensor(s) of a layer.\u001b[39;00m\n\u001b[0;32m    281\u001b[0m \n\u001b[0;32m    282\u001b[0m \u001b[38;5;124;03m    Only returns the tensor(s) corresponding to the *first time*\u001b[39;00m\n\u001b[1;32m   (...)\u001b[0m\n\u001b[0;32m    286\u001b[0m \u001b[38;5;124;03m        Output tensor or list of output tensors.\u001b[39;00m\n\u001b[0;32m    287\u001b[0m \u001b[38;5;124;03m    \"\"\"\u001b[39;00m\n\u001b[1;32m--> 288\u001b[0m     \u001b[38;5;28;01mreturn\u001b[39;00m \u001b[38;5;28;43mself\u001b[39;49m\u001b[38;5;241;43m.\u001b[39;49m\u001b[43m_get_node_attribute_at_index\u001b[49m\u001b[43m(\u001b[49m\u001b[38;5;241;43m0\u001b[39;49m\u001b[43m,\u001b[49m\u001b[43m \u001b[49m\u001b[38;5;124;43m\"\u001b[39;49m\u001b[38;5;124;43moutput_tensors\u001b[39;49m\u001b[38;5;124;43m\"\u001b[39;49m\u001b[43m,\u001b[49m\u001b[43m \u001b[49m\u001b[38;5;124;43m\"\u001b[39;49m\u001b[38;5;124;43moutput\u001b[39;49m\u001b[38;5;124;43m\"\u001b[39;49m\u001b[43m)\u001b[49m\n",
      "File \u001b[1;32m~\\miniconda3\\envs\\myenv\\lib\\site-packages\\keras\\src\\ops\\operation.py:307\u001b[0m, in \u001b[0;36mOperation._get_node_attribute_at_index\u001b[1;34m(self, node_index, attr, attr_name)\u001b[0m\n\u001b[0;32m    291\u001b[0m \u001b[38;5;250m\u001b[39m\u001b[38;5;124;03m\"\"\"Private utility to retrieves an attribute (e.g. inputs) from a node.\u001b[39;00m\n\u001b[0;32m    292\u001b[0m \n\u001b[0;32m    293\u001b[0m \u001b[38;5;124;03mThis is used to implement the properties:\u001b[39;00m\n\u001b[1;32m   (...)\u001b[0m\n\u001b[0;32m    304\u001b[0m \u001b[38;5;124;03m    The operation's attribute `attr` at the node of index `node_index`.\u001b[39;00m\n\u001b[0;32m    305\u001b[0m \u001b[38;5;124;03m\"\"\"\u001b[39;00m\n\u001b[0;32m    306\u001b[0m \u001b[38;5;28;01mif\u001b[39;00m \u001b[38;5;129;01mnot\u001b[39;00m \u001b[38;5;28mself\u001b[39m\u001b[38;5;241m.\u001b[39m_inbound_nodes:\n\u001b[1;32m--> 307\u001b[0m     \u001b[38;5;28;01mraise\u001b[39;00m \u001b[38;5;167;01mAttributeError\u001b[39;00m(\n\u001b[0;32m    308\u001b[0m         \u001b[38;5;124mf\u001b[39m\u001b[38;5;124m\"\u001b[39m\u001b[38;5;124mThe layer \u001b[39m\u001b[38;5;132;01m{\u001b[39;00m\u001b[38;5;28mself\u001b[39m\u001b[38;5;241m.\u001b[39mname\u001b[38;5;132;01m}\u001b[39;00m\u001b[38;5;124m has never been called \u001b[39m\u001b[38;5;124m\"\u001b[39m\n\u001b[0;32m    309\u001b[0m         \u001b[38;5;124mf\u001b[39m\u001b[38;5;124m\"\u001b[39m\u001b[38;5;124mand thus has no defined \u001b[39m\u001b[38;5;132;01m{\u001b[39;00mattr_name\u001b[38;5;132;01m}\u001b[39;00m\u001b[38;5;124m.\u001b[39m\u001b[38;5;124m\"\u001b[39m\n\u001b[0;32m    310\u001b[0m     )\n\u001b[0;32m    311\u001b[0m \u001b[38;5;28;01mif\u001b[39;00m \u001b[38;5;129;01mnot\u001b[39;00m \u001b[38;5;28mlen\u001b[39m(\u001b[38;5;28mself\u001b[39m\u001b[38;5;241m.\u001b[39m_inbound_nodes) \u001b[38;5;241m>\u001b[39m node_index:\n\u001b[0;32m    312\u001b[0m     \u001b[38;5;28;01mraise\u001b[39;00m \u001b[38;5;167;01mValueError\u001b[39;00m(\n\u001b[0;32m    313\u001b[0m         \u001b[38;5;124mf\u001b[39m\u001b[38;5;124m\"\u001b[39m\u001b[38;5;124mAsked to get \u001b[39m\u001b[38;5;132;01m{\u001b[39;00mattr_name\u001b[38;5;132;01m}\u001b[39;00m\u001b[38;5;124m at node \u001b[39m\u001b[38;5;124m\"\u001b[39m\n\u001b[0;32m    314\u001b[0m         \u001b[38;5;124mf\u001b[39m\u001b[38;5;124m\"\u001b[39m\u001b[38;5;132;01m{\u001b[39;00mnode_index\u001b[38;5;132;01m}\u001b[39;00m\u001b[38;5;124m, but the operation has only \u001b[39m\u001b[38;5;124m\"\u001b[39m\n\u001b[0;32m    315\u001b[0m         \u001b[38;5;124mf\u001b[39m\u001b[38;5;124m\"\u001b[39m\u001b[38;5;132;01m{\u001b[39;00m\u001b[38;5;28mlen\u001b[39m(\u001b[38;5;28mself\u001b[39m\u001b[38;5;241m.\u001b[39m_inbound_nodes)\u001b[38;5;132;01m}\u001b[39;00m\u001b[38;5;124m inbound nodes.\u001b[39m\u001b[38;5;124m\"\u001b[39m\n\u001b[0;32m    316\u001b[0m     )\n",
      "\u001b[1;31mAttributeError\u001b[0m: The layer sequential_1 has never been called and thus has no defined output."
     ]
    }
   ],
   "source": [
    "heatmap = generate_grad_cam(model, model_input, pred_idx)"
   ]
  },
  {
   "cell_type": "code",
   "execution_count": 2,
   "id": "18502128-1f2f-4c40-9b5d-ffb7845bd9f7",
   "metadata": {},
   "outputs": [
    {
     "ename": "NameError",
     "evalue": "name 'model' is not defined",
     "output_type": "error",
     "traceback": [
      "\u001b[1;31m---------------------------------------------------------------------------\u001b[0m",
      "\u001b[1;31mNameError\u001b[0m                                 Traceback (most recent call last)",
      "Cell \u001b[1;32mIn[2], line 1\u001b[0m\n\u001b[1;32m----> 1\u001b[0m _ \u001b[38;5;241m=\u001b[39m \u001b[43mmodel\u001b[49m(np\u001b[38;5;241m.\u001b[39mzeros((\u001b[38;5;241m1\u001b[39m, \u001b[38;5;241m1\u001b[39m, \u001b[38;5;241m100\u001b[39m, \u001b[38;5;241m1\u001b[39m), dtype\u001b[38;5;241m=\u001b[39mnp\u001b[38;5;241m.\u001b[39mfloat32))  \u001b[38;5;66;03m# warm-up\u001b[39;00m\n\u001b[0;32m      2\u001b[0m heatmap \u001b[38;5;241m=\u001b[39m generate_grad_cam(model, model_input, pred_idx)\n",
      "\u001b[1;31mNameError\u001b[0m: name 'model' is not defined"
     ]
    }
   ],
   "source": [
    "_ = model(np.zeros((1, 1, 100, 1), dtype=np.float32))  # warm-up\n",
    "heatmap = generate_grad_cam(model, model_input, pred_idx)"
   ]
  },
  {
   "cell_type": "code",
   "execution_count": 39,
   "id": "c6212fa7-154b-4e77-8b57-3aca08b2e1ba",
   "metadata": {},
   "outputs": [
    {
     "name": "stdout",
     "output_type": "stream",
     "text": [
      "Loading model...\n"
     ]
    },
    {
     "name": "stderr",
     "output_type": "stream",
     "text": [
      "WARNING:absl:Compiled the loaded model, but the compiled metrics have yet to be built. `model.compile_metrics` will be empty until you train or evaluate the model.\n"
     ]
    },
    {
     "name": "stdout",
     "output_type": "stream",
     "text": [
      "✅ Model loaded successfully!\n",
      "\n",
      "✅ Loaded ECG beat from Record 100, Index 250\n",
      "\n",
      "\u001b[1m1/1\u001b[0m \u001b[32m━━━━━━━━━━━━━━━━━━━━\u001b[0m\u001b[37m\u001b[0m \u001b[1m2s\u001b[0m 2s/step\n",
      "📊 Prediction Results:\n",
      "True Label: N\n",
      "Predicted Label: N\n",
      "Confidence: 99.94%\n",
      "\n",
      "🩺 Risk Zone: GREEN\n",
      "💡 Explanation: Normal rhythm with high confidence (99.9%).\n"
     ]
    },
    {
     "ename": "AttributeError",
     "evalue": "The layer sequential_1 has never been called and thus has no defined output.",
     "output_type": "error",
     "traceback": [
      "\u001b[1;31m---------------------------------------------------------------------------\u001b[0m",
      "\u001b[1;31mAttributeError\u001b[0m                            Traceback (most recent call last)",
      "Cell \u001b[1;32mIn[39], line 45\u001b[0m\n\u001b[0;32m     42\u001b[0m \u001b[38;5;28mprint\u001b[39m(\u001b[38;5;124mf\u001b[39m\u001b[38;5;124m\"\u001b[39m\u001b[38;5;124m💡 Explanation: \u001b[39m\u001b[38;5;132;01m{\u001b[39;00mexplanation\u001b[38;5;132;01m}\u001b[39;00m\u001b[38;5;124m\"\u001b[39m)\n\u001b[0;32m     44\u001b[0m \u001b[38;5;66;03m# Step 6. Generate Grad-CAM Heatmap\u001b[39;00m\n\u001b[1;32m---> 45\u001b[0m heatmap \u001b[38;5;241m=\u001b[39m \u001b[43mgenerate_grad_cam\u001b[49m\u001b[43m(\u001b[49m\u001b[43mmodel\u001b[49m\u001b[43m,\u001b[49m\u001b[43m \u001b[49m\u001b[43mmodel_input\u001b[49m\u001b[43m,\u001b[49m\u001b[43m \u001b[49m\u001b[43mpred_idx\u001b[49m\u001b[43m)\u001b[49m\n\u001b[0;32m     47\u001b[0m \u001b[38;5;66;03m# Step 7. Plot ECG + Grad-CAM\u001b[39;00m\n\u001b[0;32m     48\u001b[0m plt\u001b[38;5;241m.\u001b[39mfigure(figsize\u001b[38;5;241m=\u001b[39m(\u001b[38;5;241m12\u001b[39m, \u001b[38;5;241m5\u001b[39m))\n",
      "File \u001b[1;32m~\\Documents\\sample_project\\Arrythmia Detection\\predict.py:127\u001b[0m, in \u001b[0;36mgenerate_grad_cam\u001b[1;34m(model, input_signal, class_idx, last_conv_layer_name)\u001b[0m\n\u001b[0;32m    122\u001b[0m         \u001b[38;5;28;01mraise\u001b[39;00m \u001b[38;5;167;01mValueError\u001b[39;00m(\u001b[38;5;124m\"\u001b[39m\u001b[38;5;124mCould not find a Conv1D layer for Grad-CAM. \u001b[39m\u001b[38;5;124m\"\u001b[39m\n\u001b[0;32m    123\u001b[0m                          \u001b[38;5;124m\"\u001b[39m\u001b[38;5;124mPlease specify \u001b[39m\u001b[38;5;124m'\u001b[39m\u001b[38;5;124mlast_conv_layer_name\u001b[39m\u001b[38;5;124m'\u001b[39m\u001b[38;5;124m.\u001b[39m\u001b[38;5;124m\"\u001b[39m)\n\u001b[0;32m    125\u001b[0m \u001b[38;5;66;03m# Create a model that outputs both the feature map and the final prediction\u001b[39;00m\n\u001b[0;32m    126\u001b[0m grad_model \u001b[38;5;241m=\u001b[39m Model(\n\u001b[1;32m--> 127\u001b[0m     [model\u001b[38;5;241m.\u001b[39minputs], [model\u001b[38;5;241m.\u001b[39mget_layer(last_conv_layer_name)\u001b[38;5;241m.\u001b[39moutput, \u001b[43mmodel\u001b[49m\u001b[38;5;241;43m.\u001b[39;49m\u001b[43moutput\u001b[49m]\n\u001b[0;32m    128\u001b[0m )\n\u001b[0;32m    130\u001b[0m \u001b[38;5;28;01mwith\u001b[39;00m tf\u001b[38;5;241m.\u001b[39mGradientTape() \u001b[38;5;28;01mas\u001b[39;00m tape:\n\u001b[0;32m    131\u001b[0m     last_conv_output, predictions \u001b[38;5;241m=\u001b[39m grad_model(input_signal)\n",
      "File \u001b[1;32m~\\miniconda3\\envs\\myenv\\lib\\site-packages\\keras\\src\\ops\\operation.py:288\u001b[0m, in \u001b[0;36mOperation.output\u001b[1;34m(self)\u001b[0m\n\u001b[0;32m    278\u001b[0m \u001b[38;5;129m@property\u001b[39m\n\u001b[0;32m    279\u001b[0m \u001b[38;5;28;01mdef\u001b[39;00m\u001b[38;5;250m \u001b[39m\u001b[38;5;21moutput\u001b[39m(\u001b[38;5;28mself\u001b[39m):\n\u001b[0;32m    280\u001b[0m \u001b[38;5;250m    \u001b[39m\u001b[38;5;124;03m\"\"\"Retrieves the output tensor(s) of a layer.\u001b[39;00m\n\u001b[0;32m    281\u001b[0m \n\u001b[0;32m    282\u001b[0m \u001b[38;5;124;03m    Only returns the tensor(s) corresponding to the *first time*\u001b[39;00m\n\u001b[1;32m   (...)\u001b[0m\n\u001b[0;32m    286\u001b[0m \u001b[38;5;124;03m        Output tensor or list of output tensors.\u001b[39;00m\n\u001b[0;32m    287\u001b[0m \u001b[38;5;124;03m    \"\"\"\u001b[39;00m\n\u001b[1;32m--> 288\u001b[0m     \u001b[38;5;28;01mreturn\u001b[39;00m \u001b[38;5;28;43mself\u001b[39;49m\u001b[38;5;241;43m.\u001b[39;49m\u001b[43m_get_node_attribute_at_index\u001b[49m\u001b[43m(\u001b[49m\u001b[38;5;241;43m0\u001b[39;49m\u001b[43m,\u001b[49m\u001b[43m \u001b[49m\u001b[38;5;124;43m\"\u001b[39;49m\u001b[38;5;124;43moutput_tensors\u001b[39;49m\u001b[38;5;124;43m\"\u001b[39;49m\u001b[43m,\u001b[49m\u001b[43m \u001b[49m\u001b[38;5;124;43m\"\u001b[39;49m\u001b[38;5;124;43moutput\u001b[39;49m\u001b[38;5;124;43m\"\u001b[39;49m\u001b[43m)\u001b[49m\n",
      "File \u001b[1;32m~\\miniconda3\\envs\\myenv\\lib\\site-packages\\keras\\src\\ops\\operation.py:307\u001b[0m, in \u001b[0;36mOperation._get_node_attribute_at_index\u001b[1;34m(self, node_index, attr, attr_name)\u001b[0m\n\u001b[0;32m    291\u001b[0m \u001b[38;5;250m\u001b[39m\u001b[38;5;124;03m\"\"\"Private utility to retrieves an attribute (e.g. inputs) from a node.\u001b[39;00m\n\u001b[0;32m    292\u001b[0m \n\u001b[0;32m    293\u001b[0m \u001b[38;5;124;03mThis is used to implement the properties:\u001b[39;00m\n\u001b[1;32m   (...)\u001b[0m\n\u001b[0;32m    304\u001b[0m \u001b[38;5;124;03m    The operation's attribute `attr` at the node of index `node_index`.\u001b[39;00m\n\u001b[0;32m    305\u001b[0m \u001b[38;5;124;03m\"\"\"\u001b[39;00m\n\u001b[0;32m    306\u001b[0m \u001b[38;5;28;01mif\u001b[39;00m \u001b[38;5;129;01mnot\u001b[39;00m \u001b[38;5;28mself\u001b[39m\u001b[38;5;241m.\u001b[39m_inbound_nodes:\n\u001b[1;32m--> 307\u001b[0m     \u001b[38;5;28;01mraise\u001b[39;00m \u001b[38;5;167;01mAttributeError\u001b[39;00m(\n\u001b[0;32m    308\u001b[0m         \u001b[38;5;124mf\u001b[39m\u001b[38;5;124m\"\u001b[39m\u001b[38;5;124mThe layer \u001b[39m\u001b[38;5;132;01m{\u001b[39;00m\u001b[38;5;28mself\u001b[39m\u001b[38;5;241m.\u001b[39mname\u001b[38;5;132;01m}\u001b[39;00m\u001b[38;5;124m has never been called \u001b[39m\u001b[38;5;124m\"\u001b[39m\n\u001b[0;32m    309\u001b[0m         \u001b[38;5;124mf\u001b[39m\u001b[38;5;124m\"\u001b[39m\u001b[38;5;124mand thus has no defined \u001b[39m\u001b[38;5;132;01m{\u001b[39;00mattr_name\u001b[38;5;132;01m}\u001b[39;00m\u001b[38;5;124m.\u001b[39m\u001b[38;5;124m\"\u001b[39m\n\u001b[0;32m    310\u001b[0m     )\n\u001b[0;32m    311\u001b[0m \u001b[38;5;28;01mif\u001b[39;00m \u001b[38;5;129;01mnot\u001b[39;00m \u001b[38;5;28mlen\u001b[39m(\u001b[38;5;28mself\u001b[39m\u001b[38;5;241m.\u001b[39m_inbound_nodes) \u001b[38;5;241m>\u001b[39m node_index:\n\u001b[0;32m    312\u001b[0m     \u001b[38;5;28;01mraise\u001b[39;00m \u001b[38;5;167;01mValueError\u001b[39;00m(\n\u001b[0;32m    313\u001b[0m         \u001b[38;5;124mf\u001b[39m\u001b[38;5;124m\"\u001b[39m\u001b[38;5;124mAsked to get \u001b[39m\u001b[38;5;132;01m{\u001b[39;00mattr_name\u001b[38;5;132;01m}\u001b[39;00m\u001b[38;5;124m at node \u001b[39m\u001b[38;5;124m\"\u001b[39m\n\u001b[0;32m    314\u001b[0m         \u001b[38;5;124mf\u001b[39m\u001b[38;5;124m\"\u001b[39m\u001b[38;5;132;01m{\u001b[39;00mnode_index\u001b[38;5;132;01m}\u001b[39;00m\u001b[38;5;124m, but the operation has only \u001b[39m\u001b[38;5;124m\"\u001b[39m\n\u001b[0;32m    315\u001b[0m         \u001b[38;5;124mf\u001b[39m\u001b[38;5;124m\"\u001b[39m\u001b[38;5;132;01m{\u001b[39;00m\u001b[38;5;28mlen\u001b[39m(\u001b[38;5;28mself\u001b[39m\u001b[38;5;241m.\u001b[39m_inbound_nodes)\u001b[38;5;132;01m}\u001b[39;00m\u001b[38;5;124m inbound nodes.\u001b[39m\u001b[38;5;124m\"\u001b[39m\n\u001b[0;32m    316\u001b[0m     )\n",
      "\u001b[1;31mAttributeError\u001b[0m: The layer sequential_1 has never been called and thus has no defined output."
     ]
    }
   ],
   "source": [
    "# ============================================\n",
    "# ECG Arrhythmia Prediction + Grad-CAM + Risk Zone\n",
    "# ============================================\n",
    "\n",
    "# Step 1. Imports\n",
    "import matplotlib.pyplot as plt\n",
    "import numpy as np\n",
    "from keras.models import load_model\n",
    "from predict import get_sample_beat, generate_grad_cam, ACTUAL_CLASS_MAPPING\n",
    "from zone_classifier import default_zone_policy\n",
    "\n",
    "# Step 2. Load your trained model\n",
    "print(\"Loading model...\")\n",
    "model = load_model('model-00006-0.159-0.952-0.002-0.961.h5')\n",
    "print(\"✅ Model loaded successfully!\\n\")\n",
    "\n",
    "# Step 3. Load one ECG beat (record + index)\n",
    "record_name = '100'\n",
    "beat_index = 250\n",
    "signal, true_label = get_sample_beat(record_name, beat_index)\n",
    "\n",
    "if signal is None:\n",
    "    print(\"❌ Could not load signal. Check record name/index or dataset path.\")\n",
    "else:\n",
    "    print(f\"✅ Loaded ECG beat from Record {record_name}, Index {beat_index}\\n\")\n",
    "\n",
    "    # Step 4. Predict arrhythmia type\n",
    "    model_input = signal.reshape(1, 1, 100, 1)\n",
    "    preds = model.predict(model_input)\n",
    "    pred_idx = preds.argmax()\n",
    "    predicted_label = ACTUAL_CLASS_MAPPING[pred_idx]\n",
    "    confidence = preds[0][pred_idx] * 100\n",
    "\n",
    "    print(\"📊 Prediction Results:\")\n",
    "    print(f\"True Label: {true_label}\")\n",
    "    print(f\"Predicted Label: {predicted_label}\")\n",
    "    print(f\"Confidence: {confidence:.2f}%\")\n",
    "\n",
    "    # Step 5. Risk Zone Classification\n",
    "    zone, explanation = default_zone_policy(predicted_label, confidence / 100)\n",
    "    print(f\"\\n🩺 Risk Zone: {zone}\")\n",
    "    print(f\"💡 Explanation: {explanation}\")\n",
    "\n",
    "    # Step 6. Generate Grad-CAM Heatmap\n",
    "    heatmap = generate_grad_cam(model, model_input, pred_idx)\n",
    "\n",
    "    # Step 7. Plot ECG + Grad-CAM\n",
    "    plt.figure(figsize=(12, 5))\n",
    "    plt.plot(signal[0, :, 0], color='black', label='ECG Signal')\n",
    "    plt.imshow(\n",
    "        heatmap[np.newaxis, :], cmap='jet', alpha=0.5, aspect='auto',\n",
    "        extent=[0, len(signal[0, :, 0]), plt.ylim()[0], plt.ylim()[1]]\n",
    "    )\n",
    "    plt.title(f\"ECG Grad-CAM\\nPredicted: {predicted_label} ({confidence:.1f}%) | Zone: {zone}\")\n",
    "    plt.xlabel(\"Time Samples\")\n",
    "    plt.ylabel(\"Amplitude (Scaled)\")\n",
    "    plt.colorbar(label='Activation Intensity')\n",
    "    plt.legend()\n",
    "    plt.tight_layout()\n",
    "    plt.show()"
   ]
  },
  {
   "cell_type": "code",
   "execution_count": 41,
   "id": "0478f44e-8997-4bf8-af31-f2662d24a57f",
   "metadata": {},
   "outputs": [
    {
     "data": {
      "text/html": [
       "<pre style=\"white-space:pre;overflow-x:auto;line-height:normal;font-family:Menlo,'DejaVu Sans Mono',consolas,'Courier New',monospace\"><span style=\"font-weight: bold\">Model: \"sequential_1\"</span>\n",
       "</pre>\n"
      ],
      "text/plain": [
       "\u001b[1mModel: \"sequential_1\"\u001b[0m\n"
      ]
     },
     "metadata": {},
     "output_type": "display_data"
    },
    {
     "data": {
      "text/html": [
       "<pre style=\"white-space:pre;overflow-x:auto;line-height:normal;font-family:Menlo,'DejaVu Sans Mono',consolas,'Courier New',monospace\">┏━━━━━━━━━━━━━━━━━━━━━━━━━━━━━━━━━━━━━━┳━━━━━━━━━━━━━━━━━━━━━━━━━━━━━┳━━━━━━━━━━━━━━━━━┓\n",
       "┃<span style=\"font-weight: bold\"> Layer (type)                         </span>┃<span style=\"font-weight: bold\"> Output Shape                </span>┃<span style=\"font-weight: bold\">         Param # </span>┃\n",
       "┡━━━━━━━━━━━━━━━━━━━━━━━━━━━━━━━━━━━━━━╇━━━━━━━━━━━━━━━━━━━━━━━━━━━━━╇━━━━━━━━━━━━━━━━━┩\n",
       "│ time_distributed_26                  │ (<span style=\"color: #00d7ff; text-decoration-color: #00d7ff\">None</span>, <span style=\"color: #00d7ff; text-decoration-color: #00d7ff\">None</span>, <span style=\"color: #00af00; text-decoration-color: #00af00\">96</span>, <span style=\"color: #00af00; text-decoration-color: #00af00\">32</span>)        │             <span style=\"color: #00af00; text-decoration-color: #00af00\">192</span> │\n",
       "│ (<span style=\"color: #0087ff; text-decoration-color: #0087ff\">TimeDistributed</span>)                    │                             │                 │\n",
       "├──────────────────────────────────────┼─────────────────────────────┼─────────────────┤\n",
       "│ time_distributed_27                  │ (<span style=\"color: #00d7ff; text-decoration-color: #00d7ff\">None</span>, <span style=\"color: #00d7ff; text-decoration-color: #00d7ff\">None</span>, <span style=\"color: #00af00; text-decoration-color: #00af00\">96</span>, <span style=\"color: #00af00; text-decoration-color: #00af00\">32</span>)        │             <span style=\"color: #00af00; text-decoration-color: #00af00\">128</span> │\n",
       "│ (<span style=\"color: #0087ff; text-decoration-color: #0087ff\">TimeDistributed</span>)                    │                             │                 │\n",
       "├──────────────────────────────────────┼─────────────────────────────┼─────────────────┤\n",
       "│ time_distributed_28                  │ (<span style=\"color: #00d7ff; text-decoration-color: #00d7ff\">None</span>, <span style=\"color: #00d7ff; text-decoration-color: #00d7ff\">None</span>, <span style=\"color: #00af00; text-decoration-color: #00af00\">89</span>, <span style=\"color: #00af00; text-decoration-color: #00af00\">32</span>)        │               <span style=\"color: #00af00; text-decoration-color: #00af00\">0</span> │\n",
       "│ (<span style=\"color: #0087ff; text-decoration-color: #0087ff\">TimeDistributed</span>)                    │                             │                 │\n",
       "├──────────────────────────────────────┼─────────────────────────────┼─────────────────┤\n",
       "│ time_distributed_29                  │ (<span style=\"color: #00d7ff; text-decoration-color: #00d7ff\">None</span>, <span style=\"color: #00d7ff; text-decoration-color: #00d7ff\">None</span>, <span style=\"color: #00af00; text-decoration-color: #00af00\">85</span>, <span style=\"color: #00af00; text-decoration-color: #00af00\">32</span>)        │           <span style=\"color: #00af00; text-decoration-color: #00af00\">5,152</span> │\n",
       "│ (<span style=\"color: #0087ff; text-decoration-color: #0087ff\">TimeDistributed</span>)                    │                             │                 │\n",
       "├──────────────────────────────────────┼─────────────────────────────┼─────────────────┤\n",
       "│ time_distributed_30                  │ (<span style=\"color: #00d7ff; text-decoration-color: #00d7ff\">None</span>, <span style=\"color: #00d7ff; text-decoration-color: #00d7ff\">None</span>, <span style=\"color: #00af00; text-decoration-color: #00af00\">85</span>, <span style=\"color: #00af00; text-decoration-color: #00af00\">32</span>)        │             <span style=\"color: #00af00; text-decoration-color: #00af00\">128</span> │\n",
       "│ (<span style=\"color: #0087ff; text-decoration-color: #0087ff\">TimeDistributed</span>)                    │                             │                 │\n",
       "├──────────────────────────────────────┼─────────────────────────────┼─────────────────┤\n",
       "│ time_distributed_31                  │ (<span style=\"color: #00d7ff; text-decoration-color: #00d7ff\">None</span>, <span style=\"color: #00d7ff; text-decoration-color: #00d7ff\">None</span>, <span style=\"color: #00af00; text-decoration-color: #00af00\">78</span>, <span style=\"color: #00af00; text-decoration-color: #00af00\">32</span>)        │               <span style=\"color: #00af00; text-decoration-color: #00af00\">0</span> │\n",
       "│ (<span style=\"color: #0087ff; text-decoration-color: #0087ff\">TimeDistributed</span>)                    │                             │                 │\n",
       "├──────────────────────────────────────┼─────────────────────────────┼─────────────────┤\n",
       "│ time_distributed_32                  │ (<span style=\"color: #00d7ff; text-decoration-color: #00d7ff\">None</span>, <span style=\"color: #00d7ff; text-decoration-color: #00d7ff\">None</span>, <span style=\"color: #00af00; text-decoration-color: #00af00\">75</span>, <span style=\"color: #00af00; text-decoration-color: #00af00\">64</span>)        │           <span style=\"color: #00af00; text-decoration-color: #00af00\">8,256</span> │\n",
       "│ (<span style=\"color: #0087ff; text-decoration-color: #0087ff\">TimeDistributed</span>)                    │                             │                 │\n",
       "├──────────────────────────────────────┼─────────────────────────────┼─────────────────┤\n",
       "│ time_distributed_33                  │ (<span style=\"color: #00d7ff; text-decoration-color: #00d7ff\">None</span>, <span style=\"color: #00d7ff; text-decoration-color: #00d7ff\">None</span>, <span style=\"color: #00af00; text-decoration-color: #00af00\">75</span>, <span style=\"color: #00af00; text-decoration-color: #00af00\">64</span>)        │             <span style=\"color: #00af00; text-decoration-color: #00af00\">256</span> │\n",
       "│ (<span style=\"color: #0087ff; text-decoration-color: #0087ff\">TimeDistributed</span>)                    │                             │                 │\n",
       "├──────────────────────────────────────┼─────────────────────────────┼─────────────────┤\n",
       "│ time_distributed_34                  │ (<span style=\"color: #00d7ff; text-decoration-color: #00d7ff\">None</span>, <span style=\"color: #00d7ff; text-decoration-color: #00d7ff\">None</span>, <span style=\"color: #00af00; text-decoration-color: #00af00\">68</span>, <span style=\"color: #00af00; text-decoration-color: #00af00\">64</span>)        │               <span style=\"color: #00af00; text-decoration-color: #00af00\">0</span> │\n",
       "│ (<span style=\"color: #0087ff; text-decoration-color: #0087ff\">TimeDistributed</span>)                    │                             │                 │\n",
       "├──────────────────────────────────────┼─────────────────────────────┼─────────────────┤\n",
       "│ time_distributed_35                  │ (<span style=\"color: #00d7ff; text-decoration-color: #00d7ff\">None</span>, <span style=\"color: #00d7ff; text-decoration-color: #00d7ff\">None</span>, <span style=\"color: #00af00; text-decoration-color: #00af00\">65</span>, <span style=\"color: #00af00; text-decoration-color: #00af00\">64</span>)        │          <span style=\"color: #00af00; text-decoration-color: #00af00\">16,448</span> │\n",
       "│ (<span style=\"color: #0087ff; text-decoration-color: #0087ff\">TimeDistributed</span>)                    │                             │                 │\n",
       "├──────────────────────────────────────┼─────────────────────────────┼─────────────────┤\n",
       "│ time_distributed_36                  │ (<span style=\"color: #00d7ff; text-decoration-color: #00d7ff\">None</span>, <span style=\"color: #00d7ff; text-decoration-color: #00d7ff\">None</span>, <span style=\"color: #00af00; text-decoration-color: #00af00\">65</span>, <span style=\"color: #00af00; text-decoration-color: #00af00\">64</span>)        │             <span style=\"color: #00af00; text-decoration-color: #00af00\">256</span> │\n",
       "│ (<span style=\"color: #0087ff; text-decoration-color: #0087ff\">TimeDistributed</span>)                    │                             │                 │\n",
       "├──────────────────────────────────────┼─────────────────────────────┼─────────────────┤\n",
       "│ time_distributed_37                  │ (<span style=\"color: #00d7ff; text-decoration-color: #00d7ff\">None</span>, <span style=\"color: #00d7ff; text-decoration-color: #00d7ff\">None</span>, <span style=\"color: #00af00; text-decoration-color: #00af00\">58</span>, <span style=\"color: #00af00; text-decoration-color: #00af00\">64</span>)        │               <span style=\"color: #00af00; text-decoration-color: #00af00\">0</span> │\n",
       "│ (<span style=\"color: #0087ff; text-decoration-color: #0087ff\">TimeDistributed</span>)                    │                             │                 │\n",
       "├──────────────────────────────────────┼─────────────────────────────┼─────────────────┤\n",
       "│ time_distributed_38                  │ (<span style=\"color: #00d7ff; text-decoration-color: #00d7ff\">None</span>, <span style=\"color: #00d7ff; text-decoration-color: #00d7ff\">None</span>, <span style=\"color: #00af00; text-decoration-color: #00af00\">56</span>, <span style=\"color: #00af00; text-decoration-color: #00af00\">128</span>)       │          <span style=\"color: #00af00; text-decoration-color: #00af00\">24,704</span> │\n",
       "│ (<span style=\"color: #0087ff; text-decoration-color: #0087ff\">TimeDistributed</span>)                    │                             │                 │\n",
       "├──────────────────────────────────────┼─────────────────────────────┼─────────────────┤\n",
       "│ time_distributed_39                  │ (<span style=\"color: #00d7ff; text-decoration-color: #00d7ff\">None</span>, <span style=\"color: #00d7ff; text-decoration-color: #00d7ff\">None</span>, <span style=\"color: #00af00; text-decoration-color: #00af00\">56</span>, <span style=\"color: #00af00; text-decoration-color: #00af00\">128</span>)       │             <span style=\"color: #00af00; text-decoration-color: #00af00\">512</span> │\n",
       "│ (<span style=\"color: #0087ff; text-decoration-color: #0087ff\">TimeDistributed</span>)                    │                             │                 │\n",
       "├──────────────────────────────────────┼─────────────────────────────┼─────────────────┤\n",
       "│ time_distributed_40                  │ (<span style=\"color: #00d7ff; text-decoration-color: #00d7ff\">None</span>, <span style=\"color: #00d7ff; text-decoration-color: #00d7ff\">None</span>, <span style=\"color: #00af00; text-decoration-color: #00af00\">49</span>, <span style=\"color: #00af00; text-decoration-color: #00af00\">128</span>)       │               <span style=\"color: #00af00; text-decoration-color: #00af00\">0</span> │\n",
       "│ (<span style=\"color: #0087ff; text-decoration-color: #0087ff\">TimeDistributed</span>)                    │                             │                 │\n",
       "├──────────────────────────────────────┼─────────────────────────────┼─────────────────┤\n",
       "│ time_distributed_41                  │ (<span style=\"color: #00d7ff; text-decoration-color: #00d7ff\">None</span>, <span style=\"color: #00d7ff; text-decoration-color: #00d7ff\">None</span>, <span style=\"color: #00af00; text-decoration-color: #00af00\">47</span>, <span style=\"color: #00af00; text-decoration-color: #00af00\">128</span>)       │          <span style=\"color: #00af00; text-decoration-color: #00af00\">49,280</span> │\n",
       "│ (<span style=\"color: #0087ff; text-decoration-color: #0087ff\">TimeDistributed</span>)                    │                             │                 │\n",
       "├──────────────────────────────────────┼─────────────────────────────┼─────────────────┤\n",
       "│ time_distributed_42                  │ (<span style=\"color: #00d7ff; text-decoration-color: #00d7ff\">None</span>, <span style=\"color: #00d7ff; text-decoration-color: #00d7ff\">None</span>, <span style=\"color: #00af00; text-decoration-color: #00af00\">47</span>, <span style=\"color: #00af00; text-decoration-color: #00af00\">128</span>)       │             <span style=\"color: #00af00; text-decoration-color: #00af00\">512</span> │\n",
       "│ (<span style=\"color: #0087ff; text-decoration-color: #0087ff\">TimeDistributed</span>)                    │                             │                 │\n",
       "├──────────────────────────────────────┼─────────────────────────────┼─────────────────┤\n",
       "│ time_distributed_43                  │ (<span style=\"color: #00d7ff; text-decoration-color: #00d7ff\">None</span>, <span style=\"color: #00d7ff; text-decoration-color: #00d7ff\">None</span>, <span style=\"color: #00af00; text-decoration-color: #00af00\">40</span>, <span style=\"color: #00af00; text-decoration-color: #00af00\">128</span>)       │               <span style=\"color: #00af00; text-decoration-color: #00af00\">0</span> │\n",
       "│ (<span style=\"color: #0087ff; text-decoration-color: #0087ff\">TimeDistributed</span>)                    │                             │                 │\n",
       "├──────────────────────────────────────┼─────────────────────────────┼─────────────────┤\n",
       "│ time_distributed_44                  │ (<span style=\"color: #00d7ff; text-decoration-color: #00d7ff\">None</span>, <span style=\"color: #00d7ff; text-decoration-color: #00d7ff\">None</span>, <span style=\"color: #00af00; text-decoration-color: #00af00\">39</span>, <span style=\"color: #00af00; text-decoration-color: #00af00\">256</span>)       │          <span style=\"color: #00af00; text-decoration-color: #00af00\">65,792</span> │\n",
       "│ (<span style=\"color: #0087ff; text-decoration-color: #0087ff\">TimeDistributed</span>)                    │                             │                 │\n",
       "├──────────────────────────────────────┼─────────────────────────────┼─────────────────┤\n",
       "│ time_distributed_45                  │ (<span style=\"color: #00d7ff; text-decoration-color: #00d7ff\">None</span>, <span style=\"color: #00d7ff; text-decoration-color: #00d7ff\">None</span>, <span style=\"color: #00af00; text-decoration-color: #00af00\">39</span>, <span style=\"color: #00af00; text-decoration-color: #00af00\">256</span>)       │           <span style=\"color: #00af00; text-decoration-color: #00af00\">1,024</span> │\n",
       "│ (<span style=\"color: #0087ff; text-decoration-color: #0087ff\">TimeDistributed</span>)                    │                             │                 │\n",
       "├──────────────────────────────────────┼─────────────────────────────┼─────────────────┤\n",
       "│ time_distributed_46                  │ (<span style=\"color: #00d7ff; text-decoration-color: #00d7ff\">None</span>, <span style=\"color: #00d7ff; text-decoration-color: #00d7ff\">None</span>, <span style=\"color: #00af00; text-decoration-color: #00af00\">32</span>, <span style=\"color: #00af00; text-decoration-color: #00af00\">256</span>)       │               <span style=\"color: #00af00; text-decoration-color: #00af00\">0</span> │\n",
       "│ (<span style=\"color: #0087ff; text-decoration-color: #0087ff\">TimeDistributed</span>)                    │                             │                 │\n",
       "├──────────────────────────────────────┼─────────────────────────────┼─────────────────┤\n",
       "│ time_distributed_47                  │ (<span style=\"color: #00d7ff; text-decoration-color: #00d7ff\">None</span>, <span style=\"color: #00d7ff; text-decoration-color: #00d7ff\">None</span>, <span style=\"color: #00af00; text-decoration-color: #00af00\">31</span>, <span style=\"color: #00af00; text-decoration-color: #00af00\">256</span>)       │         <span style=\"color: #00af00; text-decoration-color: #00af00\">131,328</span> │\n",
       "│ (<span style=\"color: #0087ff; text-decoration-color: #0087ff\">TimeDistributed</span>)                    │                             │                 │\n",
       "├──────────────────────────────────────┼─────────────────────────────┼─────────────────┤\n",
       "│ time_distributed_48                  │ (<span style=\"color: #00d7ff; text-decoration-color: #00d7ff\">None</span>, <span style=\"color: #00d7ff; text-decoration-color: #00d7ff\">None</span>, <span style=\"color: #00af00; text-decoration-color: #00af00\">31</span>, <span style=\"color: #00af00; text-decoration-color: #00af00\">256</span>)       │           <span style=\"color: #00af00; text-decoration-color: #00af00\">1,024</span> │\n",
       "│ (<span style=\"color: #0087ff; text-decoration-color: #0087ff\">TimeDistributed</span>)                    │                             │                 │\n",
       "├──────────────────────────────────────┼─────────────────────────────┼─────────────────┤\n",
       "│ time_distributed_49                  │ (<span style=\"color: #00d7ff; text-decoration-color: #00d7ff\">None</span>, <span style=\"color: #00d7ff; text-decoration-color: #00d7ff\">None</span>, <span style=\"color: #00af00; text-decoration-color: #00af00\">24</span>, <span style=\"color: #00af00; text-decoration-color: #00af00\">256</span>)       │               <span style=\"color: #00af00; text-decoration-color: #00af00\">0</span> │\n",
       "│ (<span style=\"color: #0087ff; text-decoration-color: #0087ff\">TimeDistributed</span>)                    │                             │                 │\n",
       "├──────────────────────────────────────┼─────────────────────────────┼─────────────────┤\n",
       "│ time_distributed_50                  │ (<span style=\"color: #00d7ff; text-decoration-color: #00d7ff\">None</span>, <span style=\"color: #00d7ff; text-decoration-color: #00d7ff\">None</span>, <span style=\"color: #00af00; text-decoration-color: #00af00\">6144</span>)          │               <span style=\"color: #00af00; text-decoration-color: #00af00\">0</span> │\n",
       "│ (<span style=\"color: #0087ff; text-decoration-color: #0087ff\">TimeDistributed</span>)                    │                             │                 │\n",
       "├──────────────────────────────────────┼─────────────────────────────┼─────────────────┤\n",
       "│ time_distributed_51                  │ (<span style=\"color: #00d7ff; text-decoration-color: #00d7ff\">None</span>, <span style=\"color: #00d7ff; text-decoration-color: #00d7ff\">None</span>, <span style=\"color: #00af00; text-decoration-color: #00af00\">256</span>)           │       <span style=\"color: #00af00; text-decoration-color: #00af00\">1,573,120</span> │\n",
       "│ (<span style=\"color: #0087ff; text-decoration-color: #0087ff\">TimeDistributed</span>)                    │                             │                 │\n",
       "├──────────────────────────────────────┼─────────────────────────────┼─────────────────┤\n",
       "│ lstm_1 (<span style=\"color: #0087ff; text-decoration-color: #0087ff\">LSTM</span>)                        │ (<span style=\"color: #00d7ff; text-decoration-color: #00d7ff\">None</span>, <span style=\"color: #00af00; text-decoration-color: #00af00\">256</span>)                 │         <span style=\"color: #00af00; text-decoration-color: #00af00\">525,312</span> │\n",
       "├──────────────────────────────────────┼─────────────────────────────┼─────────────────┤\n",
       "│ dense_3 (<span style=\"color: #0087ff; text-decoration-color: #0087ff\">Dense</span>)                      │ (<span style=\"color: #00d7ff; text-decoration-color: #00d7ff\">None</span>, <span style=\"color: #00af00; text-decoration-color: #00af00\">4</span>)                   │           <span style=\"color: #00af00; text-decoration-color: #00af00\">1,028</span> │\n",
       "└──────────────────────────────────────┴─────────────────────────────┴─────────────────┘\n",
       "</pre>\n"
      ],
      "text/plain": [
       "┏━━━━━━━━━━━━━━━━━━━━━━━━━━━━━━━━━━━━━━┳━━━━━━━━━━━━━━━━━━━━━━━━━━━━━┳━━━━━━━━━━━━━━━━━┓\n",
       "┃\u001b[1m \u001b[0m\u001b[1mLayer (type)                        \u001b[0m\u001b[1m \u001b[0m┃\u001b[1m \u001b[0m\u001b[1mOutput Shape               \u001b[0m\u001b[1m \u001b[0m┃\u001b[1m \u001b[0m\u001b[1m        Param #\u001b[0m\u001b[1m \u001b[0m┃\n",
       "┡━━━━━━━━━━━━━━━━━━━━━━━━━━━━━━━━━━━━━━╇━━━━━━━━━━━━━━━━━━━━━━━━━━━━━╇━━━━━━━━━━━━━━━━━┩\n",
       "│ time_distributed_26                  │ (\u001b[38;5;45mNone\u001b[0m, \u001b[38;5;45mNone\u001b[0m, \u001b[38;5;34m96\u001b[0m, \u001b[38;5;34m32\u001b[0m)        │             \u001b[38;5;34m192\u001b[0m │\n",
       "│ (\u001b[38;5;33mTimeDistributed\u001b[0m)                    │                             │                 │\n",
       "├──────────────────────────────────────┼─────────────────────────────┼─────────────────┤\n",
       "│ time_distributed_27                  │ (\u001b[38;5;45mNone\u001b[0m, \u001b[38;5;45mNone\u001b[0m, \u001b[38;5;34m96\u001b[0m, \u001b[38;5;34m32\u001b[0m)        │             \u001b[38;5;34m128\u001b[0m │\n",
       "│ (\u001b[38;5;33mTimeDistributed\u001b[0m)                    │                             │                 │\n",
       "├──────────────────────────────────────┼─────────────────────────────┼─────────────────┤\n",
       "│ time_distributed_28                  │ (\u001b[38;5;45mNone\u001b[0m, \u001b[38;5;45mNone\u001b[0m, \u001b[38;5;34m89\u001b[0m, \u001b[38;5;34m32\u001b[0m)        │               \u001b[38;5;34m0\u001b[0m │\n",
       "│ (\u001b[38;5;33mTimeDistributed\u001b[0m)                    │                             │                 │\n",
       "├──────────────────────────────────────┼─────────────────────────────┼─────────────────┤\n",
       "│ time_distributed_29                  │ (\u001b[38;5;45mNone\u001b[0m, \u001b[38;5;45mNone\u001b[0m, \u001b[38;5;34m85\u001b[0m, \u001b[38;5;34m32\u001b[0m)        │           \u001b[38;5;34m5,152\u001b[0m │\n",
       "│ (\u001b[38;5;33mTimeDistributed\u001b[0m)                    │                             │                 │\n",
       "├──────────────────────────────────────┼─────────────────────────────┼─────────────────┤\n",
       "│ time_distributed_30                  │ (\u001b[38;5;45mNone\u001b[0m, \u001b[38;5;45mNone\u001b[0m, \u001b[38;5;34m85\u001b[0m, \u001b[38;5;34m32\u001b[0m)        │             \u001b[38;5;34m128\u001b[0m │\n",
       "│ (\u001b[38;5;33mTimeDistributed\u001b[0m)                    │                             │                 │\n",
       "├──────────────────────────────────────┼─────────────────────────────┼─────────────────┤\n",
       "│ time_distributed_31                  │ (\u001b[38;5;45mNone\u001b[0m, \u001b[38;5;45mNone\u001b[0m, \u001b[38;5;34m78\u001b[0m, \u001b[38;5;34m32\u001b[0m)        │               \u001b[38;5;34m0\u001b[0m │\n",
       "│ (\u001b[38;5;33mTimeDistributed\u001b[0m)                    │                             │                 │\n",
       "├──────────────────────────────────────┼─────────────────────────────┼─────────────────┤\n",
       "│ time_distributed_32                  │ (\u001b[38;5;45mNone\u001b[0m, \u001b[38;5;45mNone\u001b[0m, \u001b[38;5;34m75\u001b[0m, \u001b[38;5;34m64\u001b[0m)        │           \u001b[38;5;34m8,256\u001b[0m │\n",
       "│ (\u001b[38;5;33mTimeDistributed\u001b[0m)                    │                             │                 │\n",
       "├──────────────────────────────────────┼─────────────────────────────┼─────────────────┤\n",
       "│ time_distributed_33                  │ (\u001b[38;5;45mNone\u001b[0m, \u001b[38;5;45mNone\u001b[0m, \u001b[38;5;34m75\u001b[0m, \u001b[38;5;34m64\u001b[0m)        │             \u001b[38;5;34m256\u001b[0m │\n",
       "│ (\u001b[38;5;33mTimeDistributed\u001b[0m)                    │                             │                 │\n",
       "├──────────────────────────────────────┼─────────────────────────────┼─────────────────┤\n",
       "│ time_distributed_34                  │ (\u001b[38;5;45mNone\u001b[0m, \u001b[38;5;45mNone\u001b[0m, \u001b[38;5;34m68\u001b[0m, \u001b[38;5;34m64\u001b[0m)        │               \u001b[38;5;34m0\u001b[0m │\n",
       "│ (\u001b[38;5;33mTimeDistributed\u001b[0m)                    │                             │                 │\n",
       "├──────────────────────────────────────┼─────────────────────────────┼─────────────────┤\n",
       "│ time_distributed_35                  │ (\u001b[38;5;45mNone\u001b[0m, \u001b[38;5;45mNone\u001b[0m, \u001b[38;5;34m65\u001b[0m, \u001b[38;5;34m64\u001b[0m)        │          \u001b[38;5;34m16,448\u001b[0m │\n",
       "│ (\u001b[38;5;33mTimeDistributed\u001b[0m)                    │                             │                 │\n",
       "├──────────────────────────────────────┼─────────────────────────────┼─────────────────┤\n",
       "│ time_distributed_36                  │ (\u001b[38;5;45mNone\u001b[0m, \u001b[38;5;45mNone\u001b[0m, \u001b[38;5;34m65\u001b[0m, \u001b[38;5;34m64\u001b[0m)        │             \u001b[38;5;34m256\u001b[0m │\n",
       "│ (\u001b[38;5;33mTimeDistributed\u001b[0m)                    │                             │                 │\n",
       "├──────────────────────────────────────┼─────────────────────────────┼─────────────────┤\n",
       "│ time_distributed_37                  │ (\u001b[38;5;45mNone\u001b[0m, \u001b[38;5;45mNone\u001b[0m, \u001b[38;5;34m58\u001b[0m, \u001b[38;5;34m64\u001b[0m)        │               \u001b[38;5;34m0\u001b[0m │\n",
       "│ (\u001b[38;5;33mTimeDistributed\u001b[0m)                    │                             │                 │\n",
       "├──────────────────────────────────────┼─────────────────────────────┼─────────────────┤\n",
       "│ time_distributed_38                  │ (\u001b[38;5;45mNone\u001b[0m, \u001b[38;5;45mNone\u001b[0m, \u001b[38;5;34m56\u001b[0m, \u001b[38;5;34m128\u001b[0m)       │          \u001b[38;5;34m24,704\u001b[0m │\n",
       "│ (\u001b[38;5;33mTimeDistributed\u001b[0m)                    │                             │                 │\n",
       "├──────────────────────────────────────┼─────────────────────────────┼─────────────────┤\n",
       "│ time_distributed_39                  │ (\u001b[38;5;45mNone\u001b[0m, \u001b[38;5;45mNone\u001b[0m, \u001b[38;5;34m56\u001b[0m, \u001b[38;5;34m128\u001b[0m)       │             \u001b[38;5;34m512\u001b[0m │\n",
       "│ (\u001b[38;5;33mTimeDistributed\u001b[0m)                    │                             │                 │\n",
       "├──────────────────────────────────────┼─────────────────────────────┼─────────────────┤\n",
       "│ time_distributed_40                  │ (\u001b[38;5;45mNone\u001b[0m, \u001b[38;5;45mNone\u001b[0m, \u001b[38;5;34m49\u001b[0m, \u001b[38;5;34m128\u001b[0m)       │               \u001b[38;5;34m0\u001b[0m │\n",
       "│ (\u001b[38;5;33mTimeDistributed\u001b[0m)                    │                             │                 │\n",
       "├──────────────────────────────────────┼─────────────────────────────┼─────────────────┤\n",
       "│ time_distributed_41                  │ (\u001b[38;5;45mNone\u001b[0m, \u001b[38;5;45mNone\u001b[0m, \u001b[38;5;34m47\u001b[0m, \u001b[38;5;34m128\u001b[0m)       │          \u001b[38;5;34m49,280\u001b[0m │\n",
       "│ (\u001b[38;5;33mTimeDistributed\u001b[0m)                    │                             │                 │\n",
       "├──────────────────────────────────────┼─────────────────────────────┼─────────────────┤\n",
       "│ time_distributed_42                  │ (\u001b[38;5;45mNone\u001b[0m, \u001b[38;5;45mNone\u001b[0m, \u001b[38;5;34m47\u001b[0m, \u001b[38;5;34m128\u001b[0m)       │             \u001b[38;5;34m512\u001b[0m │\n",
       "│ (\u001b[38;5;33mTimeDistributed\u001b[0m)                    │                             │                 │\n",
       "├──────────────────────────────────────┼─────────────────────────────┼─────────────────┤\n",
       "│ time_distributed_43                  │ (\u001b[38;5;45mNone\u001b[0m, \u001b[38;5;45mNone\u001b[0m, \u001b[38;5;34m40\u001b[0m, \u001b[38;5;34m128\u001b[0m)       │               \u001b[38;5;34m0\u001b[0m │\n",
       "│ (\u001b[38;5;33mTimeDistributed\u001b[0m)                    │                             │                 │\n",
       "├──────────────────────────────────────┼─────────────────────────────┼─────────────────┤\n",
       "│ time_distributed_44                  │ (\u001b[38;5;45mNone\u001b[0m, \u001b[38;5;45mNone\u001b[0m, \u001b[38;5;34m39\u001b[0m, \u001b[38;5;34m256\u001b[0m)       │          \u001b[38;5;34m65,792\u001b[0m │\n",
       "│ (\u001b[38;5;33mTimeDistributed\u001b[0m)                    │                             │                 │\n",
       "├──────────────────────────────────────┼─────────────────────────────┼─────────────────┤\n",
       "│ time_distributed_45                  │ (\u001b[38;5;45mNone\u001b[0m, \u001b[38;5;45mNone\u001b[0m, \u001b[38;5;34m39\u001b[0m, \u001b[38;5;34m256\u001b[0m)       │           \u001b[38;5;34m1,024\u001b[0m │\n",
       "│ (\u001b[38;5;33mTimeDistributed\u001b[0m)                    │                             │                 │\n",
       "├──────────────────────────────────────┼─────────────────────────────┼─────────────────┤\n",
       "│ time_distributed_46                  │ (\u001b[38;5;45mNone\u001b[0m, \u001b[38;5;45mNone\u001b[0m, \u001b[38;5;34m32\u001b[0m, \u001b[38;5;34m256\u001b[0m)       │               \u001b[38;5;34m0\u001b[0m │\n",
       "│ (\u001b[38;5;33mTimeDistributed\u001b[0m)                    │                             │                 │\n",
       "├──────────────────────────────────────┼─────────────────────────────┼─────────────────┤\n",
       "│ time_distributed_47                  │ (\u001b[38;5;45mNone\u001b[0m, \u001b[38;5;45mNone\u001b[0m, \u001b[38;5;34m31\u001b[0m, \u001b[38;5;34m256\u001b[0m)       │         \u001b[38;5;34m131,328\u001b[0m │\n",
       "│ (\u001b[38;5;33mTimeDistributed\u001b[0m)                    │                             │                 │\n",
       "├──────────────────────────────────────┼─────────────────────────────┼─────────────────┤\n",
       "│ time_distributed_48                  │ (\u001b[38;5;45mNone\u001b[0m, \u001b[38;5;45mNone\u001b[0m, \u001b[38;5;34m31\u001b[0m, \u001b[38;5;34m256\u001b[0m)       │           \u001b[38;5;34m1,024\u001b[0m │\n",
       "│ (\u001b[38;5;33mTimeDistributed\u001b[0m)                    │                             │                 │\n",
       "├──────────────────────────────────────┼─────────────────────────────┼─────────────────┤\n",
       "│ time_distributed_49                  │ (\u001b[38;5;45mNone\u001b[0m, \u001b[38;5;45mNone\u001b[0m, \u001b[38;5;34m24\u001b[0m, \u001b[38;5;34m256\u001b[0m)       │               \u001b[38;5;34m0\u001b[0m │\n",
       "│ (\u001b[38;5;33mTimeDistributed\u001b[0m)                    │                             │                 │\n",
       "├──────────────────────────────────────┼─────────────────────────────┼─────────────────┤\n",
       "│ time_distributed_50                  │ (\u001b[38;5;45mNone\u001b[0m, \u001b[38;5;45mNone\u001b[0m, \u001b[38;5;34m6144\u001b[0m)          │               \u001b[38;5;34m0\u001b[0m │\n",
       "│ (\u001b[38;5;33mTimeDistributed\u001b[0m)                    │                             │                 │\n",
       "├──────────────────────────────────────┼─────────────────────────────┼─────────────────┤\n",
       "│ time_distributed_51                  │ (\u001b[38;5;45mNone\u001b[0m, \u001b[38;5;45mNone\u001b[0m, \u001b[38;5;34m256\u001b[0m)           │       \u001b[38;5;34m1,573,120\u001b[0m │\n",
       "│ (\u001b[38;5;33mTimeDistributed\u001b[0m)                    │                             │                 │\n",
       "├──────────────────────────────────────┼─────────────────────────────┼─────────────────┤\n",
       "│ lstm_1 (\u001b[38;5;33mLSTM\u001b[0m)                        │ (\u001b[38;5;45mNone\u001b[0m, \u001b[38;5;34m256\u001b[0m)                 │         \u001b[38;5;34m525,312\u001b[0m │\n",
       "├──────────────────────────────────────┼─────────────────────────────┼─────────────────┤\n",
       "│ dense_3 (\u001b[38;5;33mDense\u001b[0m)                      │ (\u001b[38;5;45mNone\u001b[0m, \u001b[38;5;34m4\u001b[0m)                   │           \u001b[38;5;34m1,028\u001b[0m │\n",
       "└──────────────────────────────────────┴─────────────────────────────┴─────────────────┘\n"
      ]
     },
     "metadata": {},
     "output_type": "display_data"
    },
    {
     "data": {
      "text/html": [
       "<pre style=\"white-space:pre;overflow-x:auto;line-height:normal;font-family:Menlo,'DejaVu Sans Mono',consolas,'Courier New',monospace\"><span style=\"font-weight: bold\"> Total params: </span><span style=\"color: #00af00; text-decoration-color: #00af00\">2,404,454</span> (9.17 MB)\n",
       "</pre>\n"
      ],
      "text/plain": [
       "\u001b[1m Total params: \u001b[0m\u001b[38;5;34m2,404,454\u001b[0m (9.17 MB)\n"
      ]
     },
     "metadata": {},
     "output_type": "display_data"
    },
    {
     "data": {
      "text/html": [
       "<pre style=\"white-space:pre;overflow-x:auto;line-height:normal;font-family:Menlo,'DejaVu Sans Mono',consolas,'Courier New',monospace\"><span style=\"font-weight: bold\"> Trainable params: </span><span style=\"color: #00af00; text-decoration-color: #00af00\">2,402,532</span> (9.16 MB)\n",
       "</pre>\n"
      ],
      "text/plain": [
       "\u001b[1m Trainable params: \u001b[0m\u001b[38;5;34m2,402,532\u001b[0m (9.16 MB)\n"
      ]
     },
     "metadata": {},
     "output_type": "display_data"
    },
    {
     "data": {
      "text/html": [
       "<pre style=\"white-space:pre;overflow-x:auto;line-height:normal;font-family:Menlo,'DejaVu Sans Mono',consolas,'Courier New',monospace\"><span style=\"font-weight: bold\"> Non-trainable params: </span><span style=\"color: #00af00; text-decoration-color: #00af00\">1,920</span> (7.50 KB)\n",
       "</pre>\n"
      ],
      "text/plain": [
       "\u001b[1m Non-trainable params: \u001b[0m\u001b[38;5;34m1,920\u001b[0m (7.50 KB)\n"
      ]
     },
     "metadata": {},
     "output_type": "display_data"
    },
    {
     "data": {
      "text/html": [
       "<pre style=\"white-space:pre;overflow-x:auto;line-height:normal;font-family:Menlo,'DejaVu Sans Mono',consolas,'Courier New',monospace\"><span style=\"font-weight: bold\"> Optimizer params: </span><span style=\"color: #00af00; text-decoration-color: #00af00\">2</span> (12.00 B)\n",
       "</pre>\n"
      ],
      "text/plain": [
       "\u001b[1m Optimizer params: \u001b[0m\u001b[38;5;34m2\u001b[0m (12.00 B)\n"
      ]
     },
     "metadata": {},
     "output_type": "display_data"
    }
   ],
   "source": [
    "model.summary()"
   ]
  },
  {
   "cell_type": "code",
   "execution_count": 45,
   "id": "d4be17a9-0d1d-46dc-99d0-2e223d51ea8e",
   "metadata": {},
   "outputs": [
    {
     "name": "stdout",
     "output_type": "stream",
     "text": [
      "(None, None, 100, 1)\n"
     ]
    }
   ],
   "source": [
    "print(model.input_shape)"
   ]
  },
  {
   "cell_type": "code",
   "execution_count": 9,
   "id": "3ec573f3-83ed-4a5e-bd9c-6a0c5f477c7b",
   "metadata": {},
   "outputs": [
    {
     "name": "stderr",
     "output_type": "stream",
     "text": [
      "WARNING:absl:Compiled the loaded model, but the compiled metrics have yet to be built. `model.compile_metrics` will be empty until you train or evaluate the model.\n"
     ]
    },
    {
     "name": "stdout",
     "output_type": "stream",
     "text": [
      "✅ Model loaded successfully.\n",
      "\u001b[1m1/1\u001b[0m \u001b[32m━━━━━━━━━━━━━━━━━━━━\u001b[0m\u001b[37m\u001b[0m \u001b[1m1s\u001b[0m 674ms/step\n",
      "\n",
      "🩺 Predicted: Arrhythmia Type 2\n",
      "📊 Confidence: 99.11%\n",
      "🚦 Zone: YELLOW\n",
      "ℹ️ Explanation: Possible arrhythmia (Arrhythmia Type 2) — moderate confidence (99.1%).\n"
     ]
    }
   ],
   "source": [
    "import numpy as np\n",
    "import tensorflow as tf\n",
    "from tensorflow.keras.models import load_model\n",
    "from zone_classifier import default_zone_policy  # Your function for zone mapping\n",
    "\n",
    "# 1️⃣ Load your trained model\n",
    "model = load_model(\"model-00006-0.159-0.952-0.002-0.961.h5\")\n",
    "print(\"✅ Model loaded successfully.\")\n",
    "\n",
    "# 2️⃣ Function to preprocess ECG input\n",
    "def preprocess_ecg(ecg_signal):\n",
    "    # Convert to numpy array if not already\n",
    "    ecg_signal = np.array(ecg_signal, dtype=np.float32)\n",
    "\n",
    "    # Example: reshape to (1, 1, 100, 1) if that's what your model expects\n",
    "    ecg_signal = ecg_signal.reshape(1, 1, 100, 1)\n",
    "    return ecg_signal\n",
    "\n",
    "# 3️⃣ Predict function\n",
    "def predict_zone(ecg_signal):\n",
    "    model_input = preprocess_ecg(ecg_signal)\n",
    "    predictions = model.predict(model_input)\n",
    "\n",
    "    pred_idx = np.argmax(predictions, axis=1)[0]\n",
    "    confidence = float(np.max(predictions) * 100)\n",
    "\n",
    "    # Optional: Use your label mapping\n",
    "    ACTUAL_CLASS_MAPPING = {\n",
    "        0: \"Normal\",\n",
    "        1: \"Arrhythmia Type 1\",\n",
    "        2: \"Arrhythmia Type 2\",\n",
    "        3: \"Severe Arrhythmia\"\n",
    "    }\n",
    "    predicted_label = ACTUAL_CLASS_MAPPING.get(pred_idx, f\"Class {pred_idx}\")\n",
    "\n",
    "    # 4️⃣ Zone classification\n",
    "    zone, explanation = default_zone_policy(predicted_label, confidence / 100)\n",
    "\n",
    "    return predicted_label, confidence, zone, explanation\n",
    "\n",
    "# Example usage:\n",
    "if __name__ == \"__main__\":\n",
    "    # Replace with actual ECG signal input\n",
    "    sample_ecg = np.random.randn(100)\n",
    "    label, conf, zone, msg = predict_zone(sample_ecg)\n",
    "    print(f\"\\n🩺 Predicted: {label}\")\n",
    "    print(f\"📊 Confidence: {conf:.2f}%\")\n",
    "    print(f\"🚦 Zone: {zone}\")\n",
    "    print(f\"ℹ️ Explanation: {msg}\")"
   ]
  },
  {
   "cell_type": "code",
   "execution_count": null,
   "id": "b709327d-b663-43f0-ad6c-ec8efa01f4ec",
   "metadata": {},
   "outputs": [],
   "source": [
    "import numpy as np\n",
    "import pandas as pd\n",
    "from tensorflow.keras.models import load_model\n",
    "from zone_classifier import default_zone_policy\n",
    "\n",
    "# 1️⃣ Load the model\n",
    "model = load_model(r\"model-00006-0.159-0.952-0.002-0.961.h5\")\n",
    "print(\"✅ Model loaded successfully:\", model.input_shape)\n",
    "\n",
    "# 2️⃣ Generate a fake ECG signal (simulate user report)\n",
    "def generate_fake_ecg(length=1000):\n",
    "    t = np.linspace(0, 1, length)\n",
    "    signal = 0.5 * np.sin(2 * np.pi * 5 * t) + 0.05 * np.random.randn(length)\n",
    "    df = pd.DataFrame({\"ECG\": signal})\n",
    "    file_path = \"fake_ecg.csv\"\n",
    "    df.to_csv(file_path, index=False)\n",
    "    print(\"✅ Generated sample ECG file:\", file_path)\n",
    "    return file_path\n",
    "\n",
    "# 3️⃣ Preprocess the ECG\n",
    "def preprocess_ecg(file_path):\n",
    "    df = pd.read_csv(file_path)\n",
    "    signal = df[\"ECG\"].values.astype(np.float32)\n",
    "\n",
    "    # Trim or pad to multiple of 100\n",
    "    remainder = len(signal) % 100\n",
    "    if remainder != 0:\n",
    "        signal = np.pad(signal, (0, 100 - remainder), 'constant')\n",
    "\n",
    "    # Reshape to (1, timesteps, 100, 1)\n",
    "    input_signal = signal.reshape(1, -1, 100, 1)\n",
    "    print(\"✅ Input shape:\", input_signal.shape)\n",
    "    return input_signal\n",
    "\n",
    "# 4️⃣ Predict and assign zone\n",
    "def predict_zone(file_path):\n",
    "    input_signal = preprocess_ecg(file_path)\n",
    "    preds = model.predict(input_signal)\n",
    "\n",
    "    # Average across all windows\n",
    "    avg_preds = np.mean(preds, axis=0)\n",
    "    predicted_class = np.argmax(avg_preds)\n",
    "    confidence = np.max(avg_preds)\n",
    "\n",
    "    zone, explanation = default_zone_policy(predicted_class, confidence)\n",
    "    print(f\"\\n🩺 Predicted Class: {predicted_class}\")\n",
    "    print(f\"📊 Confidence: {confidence*100:.2f}%\")\n",
    "    print(f\"🚦 Zone: {zone}\")\n",
    "    print(f\"💬 Explanation: {explanation}\")\n",
    "\n",
    "# 5️⃣ Run test\n",
    "fake_file = generate_fake_ecg()\n",
    "predict_zone(fake_file)"
   ]
  },
  {
   "cell_type": "code",
   "execution_count": 14,
   "id": "c3cc3e25-0d42-475a-a16f-e3b6fdae1cc5",
   "metadata": {},
   "outputs": [
    {
     "name": "stderr",
     "output_type": "stream",
     "text": [
      "WARNING:absl:Compiled the loaded model, but the compiled metrics have yet to be built. `model.compile_metrics` will be empty until you train or evaluate the model.\n"
     ]
    },
    {
     "name": "stdout",
     "output_type": "stream",
     "text": [
      "(None, None, 100, 1)\n"
     ]
    }
   ],
   "source": [
    "from tensorflow.keras.models import load_model\n",
    "\n",
    "model = load_model(r\"model-00006-0.159-0.952-0.002-0.961.h5\")\n",
    "print(model.input_shape)"
   ]
  },
  {
   "cell_type": "code",
   "execution_count": 16,
   "id": "8caaae45-0874-473f-9ed9-7228238269c5",
   "metadata": {},
   "outputs": [
    {
     "name": "stdout",
     "output_type": "stream",
     "text": [
      "Requirement already satisfied: wfdb in c:\\users\\ayush\\miniconda3\\envs\\myenv\\lib\\site-packages (4.3.0)\n",
      "Requirement already satisfied: aiohttp>=3.10.11 in c:\\users\\ayush\\miniconda3\\envs\\myenv\\lib\\site-packages (from wfdb) (3.12.14)\n",
      "Requirement already satisfied: fsspec>=2023.10.0 in c:\\users\\ayush\\miniconda3\\envs\\myenv\\lib\\site-packages (from wfdb) (2025.7.0)\n",
      "Requirement already satisfied: matplotlib>=3.2.2 in c:\\users\\ayush\\miniconda3\\envs\\myenv\\lib\\site-packages (from wfdb) (3.10.3)\n",
      "Requirement already satisfied: numpy>=1.26.4 in c:\\users\\ayush\\miniconda3\\envs\\myenv\\lib\\site-packages (from wfdb) (2.1.3)\n",
      "Requirement already satisfied: pandas>=2.2.3 in c:\\users\\ayush\\miniconda3\\envs\\myenv\\lib\\site-packages (from wfdb) (2.3.1)\n",
      "Requirement already satisfied: requests>=2.8.1 in c:\\users\\ayush\\miniconda3\\envs\\myenv\\lib\\site-packages (from wfdb) (2.32.4)\n",
      "Requirement already satisfied: scipy>=1.13.0 in c:\\users\\ayush\\miniconda3\\envs\\myenv\\lib\\site-packages (from wfdb) (1.15.3)\n",
      "Requirement already satisfied: soundfile>=0.10.0 in c:\\users\\ayush\\miniconda3\\envs\\myenv\\lib\\site-packages (from wfdb) (0.13.1)\n",
      "Requirement already satisfied: aiohappyeyeballs>=2.5.0 in c:\\users\\ayush\\miniconda3\\envs\\myenv\\lib\\site-packages (from aiohttp>=3.10.11->wfdb) (2.6.1)\n",
      "Requirement already satisfied: aiosignal>=1.4.0 in c:\\users\\ayush\\miniconda3\\envs\\myenv\\lib\\site-packages (from aiohttp>=3.10.11->wfdb) (1.4.0)\n",
      "Requirement already satisfied: async-timeout<6.0,>=4.0 in c:\\users\\ayush\\miniconda3\\envs\\myenv\\lib\\site-packages (from aiohttp>=3.10.11->wfdb) (5.0.1)\n",
      "Requirement already satisfied: attrs>=17.3.0 in c:\\users\\ayush\\miniconda3\\envs\\myenv\\lib\\site-packages (from aiohttp>=3.10.11->wfdb) (24.3.0)\n",
      "Requirement already satisfied: frozenlist>=1.1.1 in c:\\users\\ayush\\miniconda3\\envs\\myenv\\lib\\site-packages (from aiohttp>=3.10.11->wfdb) (1.7.0)\n",
      "Requirement already satisfied: multidict<7.0,>=4.5 in c:\\users\\ayush\\miniconda3\\envs\\myenv\\lib\\site-packages (from aiohttp>=3.10.11->wfdb) (6.6.3)\n",
      "Requirement already satisfied: propcache>=0.2.0 in c:\\users\\ayush\\miniconda3\\envs\\myenv\\lib\\site-packages (from aiohttp>=3.10.11->wfdb) (0.3.2)\n",
      "Requirement already satisfied: yarl<2.0,>=1.17.0 in c:\\users\\ayush\\miniconda3\\envs\\myenv\\lib\\site-packages (from aiohttp>=3.10.11->wfdb) (1.20.1)\n",
      "Requirement already satisfied: typing-extensions>=4.1.0 in c:\\users\\ayush\\miniconda3\\envs\\myenv\\lib\\site-packages (from multidict<7.0,>=4.5->aiohttp>=3.10.11->wfdb) (4.12.2)\n",
      "Requirement already satisfied: idna>=2.0 in c:\\users\\ayush\\miniconda3\\envs\\myenv\\lib\\site-packages (from yarl<2.0,>=1.17.0->aiohttp>=3.10.11->wfdb) (3.7)\n",
      "Requirement already satisfied: contourpy>=1.0.1 in c:\\users\\ayush\\miniconda3\\envs\\myenv\\lib\\site-packages (from matplotlib>=3.2.2->wfdb) (1.3.2)\n",
      "Requirement already satisfied: cycler>=0.10 in c:\\users\\ayush\\miniconda3\\envs\\myenv\\lib\\site-packages (from matplotlib>=3.2.2->wfdb) (0.12.1)\n",
      "Requirement already satisfied: fonttools>=4.22.0 in c:\\users\\ayush\\miniconda3\\envs\\myenv\\lib\\site-packages (from matplotlib>=3.2.2->wfdb) (4.59.0)\n",
      "Requirement already satisfied: kiwisolver>=1.3.1 in c:\\users\\ayush\\miniconda3\\envs\\myenv\\lib\\site-packages (from matplotlib>=3.2.2->wfdb) (1.4.8)\n",
      "Requirement already satisfied: packaging>=20.0 in c:\\users\\ayush\\miniconda3\\envs\\myenv\\lib\\site-packages (from matplotlib>=3.2.2->wfdb) (24.2)\n",
      "Requirement already satisfied: pillow>=8 in c:\\users\\ayush\\miniconda3\\envs\\myenv\\lib\\site-packages (from matplotlib>=3.2.2->wfdb) (11.3.0)\n",
      "Requirement already satisfied: pyparsing>=2.3.1 in c:\\users\\ayush\\miniconda3\\envs\\myenv\\lib\\site-packages (from matplotlib>=3.2.2->wfdb) (3.2.3)\n",
      "Requirement already satisfied: python-dateutil>=2.7 in c:\\users\\ayush\\miniconda3\\envs\\myenv\\lib\\site-packages (from matplotlib>=3.2.2->wfdb) (2.9.0.post0)\n",
      "Requirement already satisfied: pytz>=2020.1 in c:\\users\\ayush\\miniconda3\\envs\\myenv\\lib\\site-packages (from pandas>=2.2.3->wfdb) (2025.2)\n",
      "Requirement already satisfied: tzdata>=2022.7 in c:\\users\\ayush\\miniconda3\\envs\\myenv\\lib\\site-packages (from pandas>=2.2.3->wfdb) (2025.2)\n",
      "Requirement already satisfied: six>=1.5 in c:\\users\\ayush\\miniconda3\\envs\\myenv\\lib\\site-packages (from python-dateutil>=2.7->matplotlib>=3.2.2->wfdb) (1.17.0)\n",
      "Requirement already satisfied: charset_normalizer<4,>=2 in c:\\users\\ayush\\miniconda3\\envs\\myenv\\lib\\site-packages (from requests>=2.8.1->wfdb) (3.3.2)\n",
      "Requirement already satisfied: urllib3<3,>=1.21.1 in c:\\users\\ayush\\miniconda3\\envs\\myenv\\lib\\site-packages (from requests>=2.8.1->wfdb) (2.5.0)\n",
      "Requirement already satisfied: certifi>=2017.4.17 in c:\\users\\ayush\\miniconda3\\envs\\myenv\\lib\\site-packages (from requests>=2.8.1->wfdb) (2025.6.15)\n",
      "Requirement already satisfied: cffi>=1.0 in c:\\users\\ayush\\miniconda3\\envs\\myenv\\lib\\site-packages (from soundfile>=0.10.0->wfdb) (1.17.1)\n",
      "Requirement already satisfied: pycparser in c:\\users\\ayush\\miniconda3\\envs\\myenv\\lib\\site-packages (from cffi>=1.0->soundfile>=0.10.0->wfdb) (2.21)\n",
      "Note: you may need to restart the kernel to use updated packages.\n"
     ]
    }
   ],
   "source": [
    "pip install wfdb"
   ]
  },
  {
   "cell_type": "code",
   "execution_count": 17,
   "id": "3e3c4713-9bc4-4be0-93a0-aa1dfa5b3d7b",
   "metadata": {},
   "outputs": [
    {
     "name": "stdout",
     "output_type": "stream",
     "text": [
      "✅ Saved ecg_100.csv with shape: (650000, 2)\n"
     ]
    }
   ],
   "source": [
    "import wfdb\n",
    "import pandas as pd\n",
    "\n",
    "# Download one record (e.g., '100')\n",
    "record = wfdb.rdrecord('100', pn_dir='mitdb')\n",
    "\n",
    "# Convert the signal to a DataFrame\n",
    "df = pd.DataFrame(record.p_signal, columns=record.sig_name)\n",
    "\n",
    "# Save as CSV\n",
    "df.to_csv(\"ecg_100.csv\", index=False)\n",
    "print(\"✅ Saved ecg_100.csv with shape:\", df.shape)"
   ]
  },
  {
   "cell_type": "code",
   "execution_count": null,
   "id": "0700971e-5f25-40c2-89db-06d7473a9eee",
   "metadata": {},
   "outputs": [],
   "source": [
    "import numpy as np\n",
    "import pandas as pd\n",
    "from tensorflow.keras.models import load_model\n",
    "\n",
    "# Load model\n",
    "model = load_model(\"model-00006-0.159-0.952-0.002-0.961.h5\")\n",
    "print(\"✅ Model loaded successfully.\")\n",
    "print(\"Model input shape:\", model.input_shape)\n",
    "\n",
    "# --- ECG Preprocessing ---\n",
    "def preprocess_ecg(file_path, max_points=3000):\n",
    "    df = pd.read_csv(file_path, header=None, dtype=str)\n",
    "    df = df.apply(pd.to_numeric, errors=\"coerce\")\n",
    "\n",
    "    signal = df.values.flatten()\n",
    "    signal = signal[~np.isnan(signal)]\n",
    "\n",
    "    # 🧩 Limit signal length (avoid freeze)\n",
    "    signal = signal[:max_points]\n",
    "\n",
    "    # Normalize\n",
    "    signal = (signal - np.mean(signal)) / (np.std(signal) + 1e-8)\n",
    "\n",
    "    usable_points = (len(signal) // 100) * 100\n",
    "    signal = signal[:usable_points]\n",
    "\n",
    "    num_timesteps = usable_points // 100\n",
    "    signal = signal.reshape(1, num_timesteps, 100, 1)\n",
    "    print(f\"✅ Processed ECG shape: {signal.shape}\")\n",
    "    return signal\n",
    "\n",
    "# --- Prediction Function ---\n",
    "def predict_zone(file_path):\n",
    "    input_signal = preprocess_ecg(file_path)\n",
    "    preds = model.predict(input_signal)\n",
    "\n",
    "    # Aggregate prediction (mean across timesteps)\n",
    "    preds_mean = np.mean(preds, axis=1)\n",
    "    predicted_class = np.argmax(preds_mean, axis=1)[0]\n",
    "    confidence = np.max(preds_mean)\n",
    "\n",
    "    zones = [\"Normal\", \"Warning\", \"Critical\"]\n",
    "    zone = zones[predicted_class] if predicted_class < len(zones) else \"Unknown\"\n",
    "\n",
    "    print(f\"\\n🩺 Prediction Results:\")\n",
    "    print(f\"➡ Zone: {zone}\")\n",
    "    print(f\"🎯 Confidence: {confidence:.4f}\")\n",
    "\n",
    "# --- Run Prediction ---\n",
    "predict_zone(\"ecg_100.csv\")"
   ]
  },
  {
   "cell_type": "code",
   "execution_count": 19,
   "id": "e778a3a7-456e-411e-9b82-5645e6f6dcb7",
   "metadata": {},
   "outputs": [
    {
     "name": "stdout",
     "output_type": "stream",
     "text": [
      "(None, None, 100, 1)\n"
     ]
    }
   ],
   "source": [
    "print(model.input_shape)"
   ]
  },
  {
   "cell_type": "code",
   "execution_count": null,
   "id": "95b4c6cf-fa3c-4cfd-a7a7-16af20588ebf",
   "metadata": {},
   "outputs": [],
   "source": [
    "import h5py\n",
    "\n",
    "with h5py.File(\"model-00006-0.159-0.952-0.002-0.961.h5\", \"r\") as f:\n",
    "    print(\"✅ Model file opened successfully.\")\n",
    "    print(\"Keys in the file:\", list(f.keys()))"
   ]
  },
  {
   "cell_type": "code",
   "execution_count": null,
   "id": "6c511334-12b2-4f94-a2a3-3d99e59a8553",
   "metadata": {},
   "outputs": [],
   "source": [
    "import os\n",
    "print(os.getcwd())\n",
    "print(os.listdir())"
   ]
  },
  {
   "cell_type": "code",
   "execution_count": 1,
   "id": "31cf15cb-e223-4588-8d87-241915c32aa5",
   "metadata": {},
   "outputs": [
    {
     "name": "stdout",
     "output_type": "stream",
     "text": [
      "🔹 Loading model from: model-00006-0.159-0.952-0.002-0.961.h5\n"
     ]
    },
    {
     "name": "stderr",
     "output_type": "stream",
     "text": [
      "WARNING:absl:Compiled the loaded model, but the compiled metrics have yet to be built. `model.compile_metrics` will be empty until you train or evaluate the model.\n"
     ]
    },
    {
     "name": "stdout",
     "output_type": "stream",
     "text": [
      "✅ Model loaded successfully!\n",
      "Model input shape: (None, None, 100, 1)\n",
      "🔹 Reading ECG data...\n",
      "✅ ECG signal length: 650000 samples\n",
      "✅ Prepared 6499 segments for prediction, shape: (6499, 1, 100, 1, 1)\n",
      "🔹 Running predictions...\n",
      "\u001b[1m204/204\u001b[0m \u001b[32m━━━━━━━━━━━━━━━━━━━━\u001b[0m\u001b[37m\u001b[0m \u001b[1m21s\u001b[0m 97ms/step\n",
      "\n",
      "✅ Final Zone Classification:\n",
      "   🔴 Red Zone (Arrhythmia)\n",
      "   (Model Confidence ≈ 76.85%)\n",
      "📁 Results saved to predicted_results.csv\n"
     ]
    },
    {
     "data": {
      "text/html": [
       "<div>\n",
       "<style scoped>\n",
       "    .dataframe tbody tr th:only-of-type {\n",
       "        vertical-align: middle;\n",
       "    }\n",
       "\n",
       "    .dataframe tbody tr th {\n",
       "        vertical-align: top;\n",
       "    }\n",
       "\n",
       "    .dataframe thead th {\n",
       "        text-align: right;\n",
       "    }\n",
       "</style>\n",
       "<table border=\"1\" class=\"dataframe\">\n",
       "  <thead>\n",
       "    <tr style=\"text-align: right;\">\n",
       "      <th></th>\n",
       "      <th>segment_id</th>\n",
       "      <th>predicted_class</th>\n",
       "      <th>confidence</th>\n",
       "    </tr>\n",
       "  </thead>\n",
       "  <tbody>\n",
       "    <tr>\n",
       "      <th>0</th>\n",
       "      <td>0</td>\n",
       "      <td>2</td>\n",
       "      <td>0.464442</td>\n",
       "    </tr>\n",
       "    <tr>\n",
       "      <th>1</th>\n",
       "      <td>1</td>\n",
       "      <td>2</td>\n",
       "      <td>0.708021</td>\n",
       "    </tr>\n",
       "    <tr>\n",
       "      <th>2</th>\n",
       "      <td>2</td>\n",
       "      <td>2</td>\n",
       "      <td>0.713881</td>\n",
       "    </tr>\n",
       "    <tr>\n",
       "      <th>3</th>\n",
       "      <td>3</td>\n",
       "      <td>2</td>\n",
       "      <td>0.753423</td>\n",
       "    </tr>\n",
       "    <tr>\n",
       "      <th>4</th>\n",
       "      <td>4</td>\n",
       "      <td>2</td>\n",
       "      <td>0.566322</td>\n",
       "    </tr>\n",
       "    <tr>\n",
       "      <th>5</th>\n",
       "      <td>5</td>\n",
       "      <td>2</td>\n",
       "      <td>0.743584</td>\n",
       "    </tr>\n",
       "    <tr>\n",
       "      <th>6</th>\n",
       "      <td>6</td>\n",
       "      <td>2</td>\n",
       "      <td>0.998762</td>\n",
       "    </tr>\n",
       "    <tr>\n",
       "      <th>7</th>\n",
       "      <td>7</td>\n",
       "      <td>2</td>\n",
       "      <td>0.739792</td>\n",
       "    </tr>\n",
       "    <tr>\n",
       "      <th>8</th>\n",
       "      <td>8</td>\n",
       "      <td>2</td>\n",
       "      <td>0.734932</td>\n",
       "    </tr>\n",
       "    <tr>\n",
       "      <th>9</th>\n",
       "      <td>9</td>\n",
       "      <td>2</td>\n",
       "      <td>0.999308</td>\n",
       "    </tr>\n",
       "  </tbody>\n",
       "</table>\n",
       "</div>"
      ],
      "text/plain": [
       "   segment_id  predicted_class  confidence\n",
       "0           0                2    0.464442\n",
       "1           1                2    0.708021\n",
       "2           2                2    0.713881\n",
       "3           3                2    0.753423\n",
       "4           4                2    0.566322\n",
       "5           5                2    0.743584\n",
       "6           6                2    0.998762\n",
       "7           7                2    0.739792\n",
       "8           8                2    0.734932\n",
       "9           9                2    0.999308"
      ]
     },
     "execution_count": 1,
     "metadata": {},
     "output_type": "execute_result"
    }
   ],
   "source": [
    "# ✅ ECG Zone Prediction inside Jupyter Notebook\n",
    "\n",
    "import numpy as np\n",
    "import pandas as pd\n",
    "from tensorflow.keras.models import load_model\n",
    "\n",
    "# --- Configuration ---\n",
    "MODEL_PATH = \"model-00006-0.159-0.952-0.002-0.961.h5\"\n",
    "ECG_FILE = \"ecg_100.csv\"\n",
    "WINDOW_SIZE = 100\n",
    "\n",
    "# --- Load Model ---\n",
    "print(\"🔹 Loading model from:\", MODEL_PATH)\n",
    "model = load_model(MODEL_PATH)\n",
    "print(\"✅ Model loaded successfully!\")\n",
    "print(\"Model input shape:\", model.input_shape)\n",
    "\n",
    "# --- Read ECG Data ---\n",
    "print(\"🔹 Reading ECG data...\")\n",
    "df = pd.read_csv(ECG_FILE)\n",
    "if 'MLII' in df.columns:\n",
    "    ecg_signal = df['MLII'].values\n",
    "else:\n",
    "    ecg_signal = df.iloc[:, 0].values\n",
    "\n",
    "print(f\"✅ ECG signal length: {len(ecg_signal)} samples\")\n",
    "\n",
    "# --- Normalize ---\n",
    "ecg_signal = (ecg_signal - np.mean(ecg_signal)) / np.std(ecg_signal)\n",
    "\n",
    "# --- Segment ECG ---\n",
    "segments = []\n",
    "for i in range(0, len(ecg_signal) - WINDOW_SIZE, WINDOW_SIZE):\n",
    "    segments.append(ecg_signal[i:i + WINDOW_SIZE])\n",
    "segments = np.array(segments).reshape(-1, 1, 100, 1, 1)\n",
    "\n",
    "print(f\"✅ Prepared {segments.shape[0]} segments for prediction, shape: {segments.shape}\")\n",
    "\n",
    "# --- Predict ---\n",
    "print(\"🔹 Running predictions...\")\n",
    "preds = model.predict(segments, verbose=1)\n",
    "\n",
    "predicted_classes = np.argmax(preds, axis=1)\n",
    "confidence = np.max(preds, axis=1)\n",
    "\n",
    "# --- Zone Mapping ---\n",
    "ZONES = {\n",
    "    0: \"🟢 Green Zone (Normal)\",\n",
    "    1: \"🟡 Yellow Zone (Borderline)\",\n",
    "    2: \"🔴 Red Zone (Arrhythmia)\"\n",
    "}\n",
    "\n",
    "(unique, counts) = np.unique(predicted_classes, return_counts=True)\n",
    "majority_zone = unique[np.argmax(counts)]\n",
    "\n",
    "print(\"\\n✅ Final Zone Classification:\")\n",
    "print(f\"   {ZONES.get(majority_zone, 'Unknown Zone')}\")\n",
    "print(f\"   (Model Confidence ≈ {np.mean(confidence)*100:.2f}%)\")\n",
    "\n",
    "# --- Save Results ---\n",
    "output = pd.DataFrame({\n",
    "    \"segment_id\": range(len(predicted_classes)),\n",
    "    \"predicted_class\": predicted_classes,\n",
    "    \"confidence\": confidence\n",
    "})\n",
    "output.to_csv(\"predicted_results.csv\", index=False)\n",
    "print(\"📁 Results saved to predicted_results.csv\")\n",
    "\n",
    "# --- Show a Preview ---\n",
    "output.head(10)"
   ]
  },
  {
   "cell_type": "code",
   "execution_count": 2,
   "id": "65673371-6b0f-4705-9884-a9113933ecb5",
   "metadata": {},
   "outputs": [
    {
     "data": {
      "image/png": "[encoded data removed]",
      "text/plain": [
       "<Figure size 1200x400 with 1 Axes>"
      ]
     },
     "metadata": {},
     "output_type": "display_data"
    }
   ],
   "source": [
    "import matplotlib.pyplot as plt\n",
    "\n",
    "plt.figure(figsize=(12,4))\n",
    "plt.plot(ecg_signal[:2000])\n",
    "plt.title(\"Sample ECG Signal (first 2000 samples)\")\n",
    "plt.xlabel(\"Sample Index\")\n",
    "plt.ylabel(\"Amplitude\")\n",
    "plt.show()"
   ]
  },
  {
   "cell_type": "code",
   "execution_count": 3,
   "id": "adc33560-72e4-4512-9ce0-af4c9fa44070",
   "metadata": {},
   "outputs": [
    {
     "name": "stdout",
     "output_type": "stream",
     "text": [
      "Requirement already satisfied: matplotlib in c:\\users\\ayush\\miniconda3\\envs\\myenv\\lib\\site-packages (3.10.3)\n",
      "Collecting seaborn\n",
      "  Downloading seaborn-0.13.2-py3-none-any.whl.metadata (5.4 kB)\n",
      "Requirement already satisfied: scikit-learn in c:\\users\\ayush\\miniconda3\\envs\\myenv\\lib\\site-packages (1.7.1)\n",
      "Requirement already satisfied: contourpy>=1.0.1 in c:\\users\\ayush\\miniconda3\\envs\\myenv\\lib\\site-packages (from matplotlib) (1.3.2)\n",
      "Requirement already satisfied: cycler>=0.10 in c:\\users\\ayush\\miniconda3\\envs\\myenv\\lib\\site-packages (from matplotlib) (0.12.1)\n",
      "Requirement already satisfied: fonttools>=4.22.0 in c:\\users\\ayush\\miniconda3\\envs\\myenv\\lib\\site-packages (from matplotlib) (4.59.0)\n",
      "Requirement already satisfied: kiwisolver>=1.3.1 in c:\\users\\ayush\\miniconda3\\envs\\myenv\\lib\\site-packages (from matplotlib) (1.4.8)\n",
      "Requirement already satisfied: numpy>=1.23 in c:\\users\\ayush\\miniconda3\\envs\\myenv\\lib\\site-packages (from matplotlib) (2.1.3)\n",
      "Requirement already satisfied: packaging>=20.0 in c:\\users\\ayush\\miniconda3\\envs\\myenv\\lib\\site-packages (from matplotlib) (24.2)\n",
      "Requirement already satisfied: pillow>=8 in c:\\users\\ayush\\miniconda3\\envs\\myenv\\lib\\site-packages (from matplotlib) (11.3.0)\n",
      "Requirement already satisfied: pyparsing>=2.3.1 in c:\\users\\ayush\\miniconda3\\envs\\myenv\\lib\\site-packages (from matplotlib) (3.2.3)\n",
      "Requirement already satisfied: python-dateutil>=2.7 in c:\\users\\ayush\\miniconda3\\envs\\myenv\\lib\\site-packages (from matplotlib) (2.9.0.post0)\n",
      "Requirement already satisfied: pandas>=1.2 in c:\\users\\ayush\\miniconda3\\envs\\myenv\\lib\\site-packages (from seaborn) (2.3.1)\n",
      "Requirement already satisfied: scipy>=1.8.0 in c:\\users\\ayush\\miniconda3\\envs\\myenv\\lib\\site-packages (from scikit-learn) (1.15.3)\n",
      "Requirement already satisfied: joblib>=1.2.0 in c:\\users\\ayush\\miniconda3\\envs\\myenv\\lib\\site-packages (from scikit-learn) (1.5.1)\n",
      "Requirement already satisfied: threadpoolctl>=3.1.0 in c:\\users\\ayush\\miniconda3\\envs\\myenv\\lib\\site-packages (from scikit-learn) (3.6.0)\n",
      "Requirement already satisfied: pytz>=2020.1 in c:\\users\\ayush\\miniconda3\\envs\\myenv\\lib\\site-packages (from pandas>=1.2->seaborn) (2025.2)\n",
      "Requirement already satisfied: tzdata>=2022.7 in c:\\users\\ayush\\miniconda3\\envs\\myenv\\lib\\site-packages (from pandas>=1.2->seaborn) (2025.2)\n",
      "Requirement already satisfied: six>=1.5 in c:\\users\\ayush\\miniconda3\\envs\\myenv\\lib\\site-packages (from python-dateutil>=2.7->matplotlib) (1.17.0)\n",
      "Downloading seaborn-0.13.2-py3-none-any.whl (294 kB)\n",
      "Installing collected packages: seaborn\n",
      "Successfully installed seaborn-0.13.2\n",
      "Note: you may need to restart the kernel to use updated packages.\n"
     ]
    }
   ],
   "source": [
    "pip install matplotlib seaborn scikit-learn"
   ]
  },
  {
   "cell_type": "code",
   "execution_count": 4,
   "id": "92090593-bbae-4440-b5c2-5c8d712186e2",
   "metadata": {},
   "outputs": [
    {
     "name": "stderr",
     "output_type": "stream",
     "text": [
      "C:\\Users\\ayush\\AppData\\Local\\Temp\\ipykernel_10616\\137487002.py:28: UserWarning: Glyph 128147 (\\N{BEATING HEART}) missing from font(s) DejaVu Sans.\n",
      "  plt.tight_layout()\n",
      "C:\\Users\\ayush\\miniconda3\\envs\\myenv\\lib\\site-packages\\IPython\\core\\pylabtools.py:170: UserWarning: Glyph 128147 (\\N{BEATING HEART}) missing from font(s) DejaVu Sans.\n",
      "  fig.canvas.print_figure(bytes_io, **kw)\n"
     ]
    },
    {
     "data": {
      "image/png": "[encoded data removed]",
      "text/plain": [
       "<Figure size 600x500 with 1 Axes>"
      ]
     },
     "metadata": {},
     "output_type": "display_data"
    }
   ],
   "source": [
    "import numpy as np\n",
    "import seaborn as sns\n",
    "import matplotlib.pyplot as plt\n",
    "from sklearn.metrics import confusion_matrix, ConfusionMatrixDisplay\n",
    "\n",
    "# --- Suppose you have ground truth labels for test data ---\n",
    "# Replace this with your actual test labels\n",
    "# Example: true_labels = y_test or from CSV\n",
    "true_labels = np.random.randint(0, 3, size=len(predicted_classes))  # dummy example\n",
    "\n",
    "# Predicted labels (from your model)\n",
    "pred_labels = predicted_classes\n",
    "\n",
    "# --- Compute confusion matrix ---\n",
    "cm = confusion_matrix(true_labels, pred_labels)\n",
    "labels = [\"Normal\", \"Borderline\", \"Arrhythmia\"]\n",
    "\n",
    "plt.figure(figsize=(6, 5))\n",
    "sns.heatmap(cm, annot=True, fmt='d', cmap='Blues', \n",
    "            xticklabels=labels, yticklabels=labels,\n",
    "            cbar=False, annot_kws={\"size\": 14, \"weight\": \"bold\"})\n",
    "\n",
    "plt.title(\"💓 Confusion Matrix of Arrhythmia Detection\", fontsize=16, pad=15)\n",
    "plt.xlabel(\"Predicted Label\", fontsize=13)\n",
    "plt.ylabel(\"True Label\", fontsize=13)\n",
    "plt.xticks(fontsize=12)\n",
    "plt.yticks(fontsize=12)\n",
    "plt.tight_layout()\n",
    "plt.show()"
   ]
  },
  {
   "cell_type": "code",
   "execution_count": 5,
   "id": "dc6ce6b8-60f9-405e-9882-9742b74b209a",
   "metadata": {},
   "outputs": [
    {
     "name": "stderr",
     "output_type": "stream",
     "text": [
      "C:\\Users\\ayush\\AppData\\Local\\Temp\\ipykernel_10616\\591434418.py:23: UserWarning: Glyph 129728 (\\N{ANATOMICAL HEART}) missing from font(s) DejaVu Sans.\n",
      "  plt.tight_layout()\n",
      "C:\\Users\\ayush\\AppData\\Local\\Temp\\ipykernel_10616\\591434418.py:23: UserWarning: Glyph 128994 (\\N{LARGE GREEN CIRCLE}) missing from font(s) DejaVu Sans.\n",
      "  plt.tight_layout()\n",
      "C:\\Users\\ayush\\AppData\\Local\\Temp\\ipykernel_10616\\591434418.py:23: UserWarning: Glyph 128993 (\\N{LARGE YELLOW CIRCLE}) missing from font(s) DejaVu Sans.\n",
      "  plt.tight_layout()\n",
      "C:\\Users\\ayush\\AppData\\Local\\Temp\\ipykernel_10616\\591434418.py:23: UserWarning: Glyph 128308 (\\N{LARGE RED CIRCLE}) missing from font(s) DejaVu Sans.\n",
      "  plt.tight_layout()\n",
      "C:\\Users\\ayush\\miniconda3\\envs\\myenv\\lib\\site-packages\\IPython\\core\\pylabtools.py:170: UserWarning: Glyph 129728 (\\N{ANATOMICAL HEART}) missing from font(s) DejaVu Sans.\n",
      "  fig.canvas.print_figure(bytes_io, **kw)\n",
      "C:\\Users\\ayush\\miniconda3\\envs\\myenv\\lib\\site-packages\\IPython\\core\\pylabtools.py:170: UserWarning: Glyph 128994 (\\N{LARGE GREEN CIRCLE}) missing from font(s) DejaVu Sans.\n",
      "  fig.canvas.print_figure(bytes_io, **kw)\n",
      "C:\\Users\\ayush\\miniconda3\\envs\\myenv\\lib\\site-packages\\IPython\\core\\pylabtools.py:170: UserWarning: Glyph 128993 (\\N{LARGE YELLOW CIRCLE}) missing from font(s) DejaVu Sans.\n",
      "  fig.canvas.print_figure(bytes_io, **kw)\n",
      "C:\\Users\\ayush\\miniconda3\\envs\\myenv\\lib\\site-packages\\IPython\\core\\pylabtools.py:170: UserWarning: Glyph 128308 (\\N{LARGE RED CIRCLE}) missing from font(s) DejaVu Sans.\n",
      "  fig.canvas.print_figure(bytes_io, **kw)\n"
     ]
    },
    {
     "data": {
      "image/png": "[encoded data removed]",
      "text/plain": [
       "<Figure size 1400x250 with 1 Axes>"
      ]
     },
     "metadata": {},
     "output_type": "display_data"
    }
   ],
   "source": [
    "import matplotlib.pyplot as plt\n",
    "import matplotlib.patches as mpatches\n",
    "\n",
    "# Assume each segment is 100 samples, we plot sequential predictions\n",
    "zones = [ZONES.get(c, \"Unknown\") for c in predicted_classes]\n",
    "colors = {'🟢 Green Zone (Normal)': '#2ecc71',\n",
    "          '🟡 Yellow Zone (Borderline)': '#f1c40f',\n",
    "          '🔴 Red Zone (Arrhythmia)': '#e74c3c'}\n",
    "\n",
    "plt.figure(figsize=(14, 2.5))\n",
    "\n",
    "for i, zone in enumerate(zones):\n",
    "    plt.barh(0, 1, left=i, color=colors.get(zone, 'gray'), edgecolor='none', height=0.3)\n",
    "\n",
    "plt.title(\"🫀 ECG Segment Classification Timeline\", fontsize=16, pad=10)\n",
    "plt.xlabel(\"Segment Index (Time →)\", fontsize=13)\n",
    "plt.yticks([])\n",
    "\n",
    "# Legend\n",
    "patches = [mpatches.Patch(color=v, label=k) for k, v in colors.items()]\n",
    "plt.legend(handles=patches, loc='upper right', fontsize=10, frameon=False)\n",
    "\n",
    "plt.tight_layout()\n",
    "plt.show()"
   ]
  },
  {
   "cell_type": "code",
   "execution_count": 6,
   "id": "947bb424-7983-4ed4-acf1-6f077b6d7214",
   "metadata": {},
   "outputs": [
    {
     "data": {
      "image/png": "[encoded data removed]",
      "text/plain": [
       "<Figure size 1400x250 with 1 Axes>"
      ]
     },
     "metadata": {},
     "output_type": "display_data"
    }
   ],
   "source": [
    "plt.figure(figsize=(14, 2.5))\n",
    "plt.bar(range(len(confidence)), confidence, \n",
    "        color=['#e74c3c' if c == 2 else '#2ecc71' for c in predicted_classes],\n",
    "        width=1.0)\n",
    "plt.title(\"Model Confidence Over ECG Segments\", fontsize=16)\n",
    "plt.xlabel(\"Segment Index\")\n",
    "plt.ylabel(\"Confidence\")\n",
    "plt.show()"
   ]
  },
  {
   "cell_type": "code",
   "execution_count": null,
   "id": "278f5046-6eca-4e0b-87ef-4f9c2432dffa",
   "metadata": {},
   "outputs": [],
   "source": []
  }
 ],
 "metadata": {
  "kernelspec": {
   "display_name": "Python 3 (ipykernel)",
   "language": "python",
   "name": "python3"
  },
  "language_info": {
   "codemirror_mode": {
    "name": "ipython",
    "version": 3
   },
   "file_extension": ".py",
   "mimetype": "text/x-python",
   "name": "python",
   "nbconvert_exporter": "python",
   "pygments_lexer": "ipython3",
   "version": "3.10.18"
  }
 },
 "nbformat": 4,
 "nbformat_minor": 5
}
